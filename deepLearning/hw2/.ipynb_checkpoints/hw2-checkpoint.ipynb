{
 "cells": [
  {
   "cell_type": "markdown",
   "id": "91bd7ef4",
   "metadata": {},
   "source": [
    "# Problem 1:"
   ]
  },
  {
   "cell_type": "markdown",
   "id": "d96d3d81",
   "metadata": {},
   "source": [
    "Note for no layers, we have 784 inputs going to 10 outputs, and we assume a bias term per each.  This will yield \n",
    "$10 \\cdot 784 $ parameters, as we have each pixel weighted, and 10 outputs, with a further 10 bias terms, one for each \n",
    "output node.  Therefore there is a total of $7840 + 10 = 7850$ parameters when we don't include a hidden layer."
   ]
  },
  {
   "cell_type": "markdown",
   "id": "faf20ebc",
   "metadata": {},
   "source": [
    "If a model has $k$ hidden layers with $m$ nodes a piece we have the following calculation: For the first layer we have $784m + m$ parameters for intaking from the image to the first layer.  For the next $k-1$ layers, for each layer we have $m^2$ \n",
    "interconnects, and $m$ bias terms yielding $(k-1)(m^2 + m)$ parameters.  Finally we have $10m$ connections into the output layer, with an additionally $10$ bias.  Therefore, $$Params(m,k) = 784m + m + (k-1)(m^2 + m) + 10(m+1)$$."
   ]
  },
  {
   "cell_type": "markdown",
   "id": "476809af",
   "metadata": {},
   "source": [
    "# Problem 2:"
   ]
  },
  {
   "cell_type": "markdown",
   "id": "64fda411",
   "metadata": {},
   "source": [
    "For a given number of parameters P, we have the equation $784m + m + (k-1)(m^2 + m) + 10(m+1) = P.$  We can rearrange the equation to find that $k = \\frac{P-10}{m(m+1)} - \\frac{795}{m+1} + 1$.  In order to maximize/minimize the function \n",
    "we can take the m derivative, and set the numerator of the fraction equal to zero.  In this scenerio \n",
    "we have to solve the equation $0=-795m^2 + 2(P-10)m + (P-10)$.  This has the resulting $m$ values of \n",
    "$$ m = \\frac{1}{795} \\left(P-10 \\pm \\sqrt{(P-10)^2+795(P-10)} \\right) $$.  Note that for sufficently large $P$ that \n",
    "the square root will always be positive, thus we will always have two roots, a maximum and a minimum.  However, \n",
    "for the smaller of the two roots, the limit approaches -0.5, and since we know that by our model we have to have at least 1 parameter per layer implies that solving for $m=1$ will yield $k_p$.  For the smallest $k$, we know for the smaller root $m_b$ that $\\lim_{P \\to \\infty} k(m_b) = -1$.  Thus \n",
    "the smallest possible $k$ would have to be $k=1$.  Note that if $k_p$ is not an integer then one should round $k_p$ down since $m$ is already the \n",
    "correct integer of 1 then the actual number of used parameters falls \"under budget\".  "
   ]
  },
  {
   "cell_type": "markdown",
   "id": "a6968830-b954-40a9-8bd6-c5deeecafa28",
   "metadata": {
    "vscode": {
     "languageId": "plaintext"
    }
   },
   "source": [
    "# Problem 3:"
   ]
  },
  {
   "cell_type": "code",
   "execution_count": 3,
   "id": "35bb12e6-a7f1-42ff-ba7e-b4b488405a91",
   "metadata": {},
   "outputs": [],
   "source": [
    "def m_num(k,P):\n",
    "    if k == 1:\n",
    "        return (P-10) // 795\n",
    "    else:\n",
    "        return (int)(-1*(794+k) + math.sqrt((794+k)**2 + 4*(P-10)*(k-1)))// (2*(k-1))"
   ]
  },
  {
   "cell_type": "code",
   "execution_count": 4,
   "id": "cc31a06f-7666-4878-b682-973212477a21",
   "metadata": {},
   "outputs": [
    {
     "name": "stdout",
     "output_type": "stream",
     "text": [
      "Using device: cuda\n"
     ]
    }
   ],
   "source": [
    "import torch\n",
    "import torchvision\n",
    "import torchvision.transforms as transforms\n",
    "import torchvision.datasets as datasets\n",
    "import matplotlib.pyplot as plt\n",
    "import numpy as np\n",
    "import torch.nn as nn\n",
    "import torch.optim as optim\n",
    "import random\n",
    "import math\n",
    "\n",
    "device = torch.device('cuda' if torch.cuda.is_available() else 'cpu')\n",
    "print('Using device:', device)"
   ]
  },
  {
   "cell_type": "code",
   "execution_count": 5,
   "id": "ff1ecff4-a10c-451e-9e1f-ee0971a4bedd",
   "metadata": {},
   "outputs": [],
   "source": [
    "trainset = datasets.MNIST(root='./data', train=True, download=True, transform=transforms.ToTensor())\n",
    "testset = datasets.MNIST(root='./data', train=False, download=True, transform=transforms.ToTensor())\n"
   ]
  },
  {
   "cell_type": "code",
   "execution_count": 6,
   "id": "0368690e-6fb3-411e-8894-545bfd8a6c04",
   "metadata": {},
   "outputs": [],
   "source": [
    "test_x = torch.Tensor( testset.data ) / 256.0 - 0.5\n",
    "test_x = test_x.to(device)\n",
    "test_y = torch.Tensor( testset.targets ).long()\n",
    "test_y = test_y.to(device)\n",
    "train_x = torch.Tensor( trainset.data ) / 256.0 - 0.5\n",
    "train_x = train_x.to(device)\n",
    "train_y = torch.Tensor( trainset.targets ).long()\n",
    "train_y = train_y.to(device)"
   ]
  },
  {
   "cell_type": "code",
   "execution_count": 16,
   "id": "3b6377a8-1311-4d31-b15c-7086f4b5fcf3",
   "metadata": {},
   "outputs": [],
   "source": [
    "def get_batch(x, y, batch_size):\n",
    "    n = x.shape[0]\n",
    "\n",
    "    batch_indices = random.sample( [ i for i in range(n) ], k = batch_size )\n",
    "\n",
    "    x_batch = x[ batch_indices ]\n",
    "    y_batch = y[ batch_indices ]\n",
    "\n",
    "    return x_batch, y_batch"
   ]
  },
  {
   "cell_type": "code",
   "execution_count": 12,
   "id": "cf9c2d23-6de6-490a-95bd-f0be6ae05d57",
   "metadata": {},
   "outputs": [],
   "source": [
    "class layerTesting(nn.Module):\n",
    "    def __init__(self,k,m):\n",
    "        super(layerTesting, self).__init__()\n",
    "\n",
    "        self.layer_input = torch.nn.Linear( in_features = 28*28*1, out_features = m, bias=True )\n",
    "        self.layer_output = torch.nn.Linear( in_features = m, out_features = 10, bias=True )\n",
    "        self.linears = nn.ModuleList([nn.Linear(m, m) for i in range(k-1)])\n",
    "        self.normalize = nn.LayerNorm(m)\n",
    "\n",
    "    def forward(self, input_tensor):\n",
    "        output = nn.Flatten()( input_tensor )\n",
    "        output = self.layer_input(output)\n",
    "        output = nn.ELU()(output)\n",
    "        output = self.normalize(output)\n",
    "        for l in self.linears:\n",
    "            output = l(output)\n",
    "            output = nn.ELU()(output)\n",
    "            output = self.normalize(output)\n",
    "        output = self.layer_output(output)\n",
    "        return output"
   ]
  },
  {
   "cell_type": "code",
   "execution_count": 8,
   "id": "b4f7904e-74d5-4c40-a80a-3555ba27285d",
   "metadata": {},
   "outputs": [],
   "source": [
    "class LinearSoftmaxRegression(nn.Module):\n",
    "    def __init__(self):\n",
    "        super(LinearSoftmaxRegression, self).__init__()\n",
    "\n",
    "        self.layer_1 = torch.nn.Linear( in_features = 28*28*1, out_features = 10, bias=True )\n",
    "\n",
    "    def forward(self, input_tensor):\n",
    "        flattened = nn.Flatten()( input_tensor )\n",
    "\n",
    "        logits = self.layer_1( flattened )\n",
    "\n",
    "        return logits\n",
    "\n",
    "        # NOTE: Correcting a mistake I made previously, I am outputing the results of a linear layer,\n",
    "        # For softmax to be applied elsewhere. Shiwei correctly pointed out that if we use the built in\n",
    "        # cross entropy loss function, it expects to receive these linear values, and will apply\n",
    "        # logOfSoftmax internally when calculating the loss, so that we don't have to.\n",
    "\n",
    "        # But if we want the probabilities, we do need to apply softmax"
   ]
  },
  {
   "cell_type": "code",
   "execution_count": 13,
   "id": "1fe7c3f7-4edc-4a5b-8971-939e11f90c45",
   "metadata": {},
   "outputs": [],
   "source": [
    "def confusion_matrix( model, x, y ):\n",
    "    identification_counts = np.zeros( shape = (10,10), dtype = np.int32 )\n",
    "    \n",
    "    logits = model.forward( x )\n",
    "    predicted_classes = torch.argmax( logits, dim = 1 )\n",
    "\n",
    "    n = x.shape[0]\n",
    "\n",
    "    for i in range(n):\n",
    "        actual_class = int( y[i].item() )\n",
    "        predicted_class = predicted_classes[i].item()\n",
    "        identification_counts[actual_class, predicted_class] += 1\n",
    "\n",
    "    return identification_counts"
   ]
  },
  {
   "cell_type": "code",
   "execution_count": 14,
   "id": "38314cfa-ace0-4c98-baa0-0351c8bf4ff9",
   "metadata": {},
   "outputs": [
    {
     "name": "stdout",
     "output_type": "stream",
     "text": [
      "Initial Confusion Matrix\n",
      "[[  7  74   0  25   0   0   1  73 780  20]\n",
      " [  0   0   0 305   0   0   0  14 816   0]\n",
      " [ 18 102   1  25   0   4   1   6 875   0]\n",
      " [ 28 117   0 107   0   5   2  27 724   0]\n",
      " [156  82  15 256   0   0   0  79 394   0]\n",
      " [  8  91   1 123   0   0   4 128 532   5]\n",
      " [  1 126   6  56   0   7   0  23 737   2]\n",
      " [ 86  92   2 327   0   0   0 119 402   0]\n",
      " [  8  49   4  92   0  19   1 155 645   1]\n",
      " [ 68  44   2 295   0   0   1 333 266   0]]\n"
     ]
    }
   ],
   "source": [
    "import time\n",
    "model3 = layerTesting(3,m_num(3,100000))\n",
    "model3.to(device)\n",
    "loss_function = torch.nn.CrossEntropyLoss()\n",
    "\n",
    "print(\"Initial Confusion Matrix\")\n",
    "print( confusion_matrix( model3, test_x, test_y ) )"
   ]
  },
  {
   "cell_type": "markdown",
   "id": "e6dd8395-8e07-4689-ba5b-759aeea340fb",
   "metadata": {},
   "source": [
    "Based off of Dr.Cowan's suggestions, I'm using $P=100000$ and $k=1\\ldots 10$"
   ]
  },
  {
   "cell_type": "code",
   "execution_count": 59,
   "id": "3cf0b669-f66f-40f5-8b60-c2eda0b5309c",
   "metadata": {},
   "outputs": [
    {
     "name": "stdout",
     "output_type": "stream",
     "text": [
      "1 layer(s), total Loss over Batches: 110.49126586318016\n",
      "1 layer(s), total Loss over Batches: 61.381896272301674\n",
      "1 layer(s), total Loss over Batches: 44.912227280437946\n",
      "1 layer(s), total Loss over Batches: 34.75662039220333\n",
      "1 layer(s), total Loss over Batches: 28.89867513626814\n",
      "1 layer(s), total Loss over Batches: 24.552714709192514\n",
      "1 layer(s), total Loss over Batches: 20.525830760598183\n",
      "1 layer(s), total Loss over Batches: 18.84592240676284\n",
      "1 layer(s), total Loss over Batches: 16.30835804156959\n",
      "1 layer(s), total Loss over Batches: 14.613360998220742\n",
      "1 layer(s), total Loss over Batches: 13.085324857383966\n",
      "1 layer(s), total Loss over Batches: 11.796505209989846\n",
      "1 layer(s), total Loss over Batches: 11.293652897700667\n",
      "1 layer(s), total Loss over Batches: 9.772256398573518\n",
      "1 layer(s), total Loss over Batches: 10.152841174043715\n",
      "1 layer(s), total Loss over Batches: 8.770014866255224\n",
      "1 layer(s), total Loss over Batches: 7.820822774898261\n",
      "1 layer(s), total Loss over Batches: 7.324606569018215\n",
      "1 layer(s), total Loss over Batches: 6.931316401809454\n",
      "1 layer(s), total Loss over Batches: 6.0887913960032165\n",
      "1 layer(s), total Loss over Batches: 6.920587534084916\n",
      "1 layer(s), total Loss over Batches: 5.856863165739924\n",
      "1 layer(s), total Loss over Batches: 5.672383354976773\n",
      "1 layer(s), total Loss over Batches: 4.335951277287677\n",
      "1 layer(s), total Loss over Batches: 4.531567199155688\n",
      "Current Confusion Matrix\n",
      "[[ 966    1    3    1    1    1    2    2    2    1]\n",
      " [   1 1124    3    1    0    0    2    2    2    0]\n",
      " [   2    0 1013    3    2    1    1    6    4    0]\n",
      " [   1    2    9  988    0    2    0    3    5    0]\n",
      " [   0    1    2    0  967    0    6    2    0    4]\n",
      " [   4    0    2   12    3  859    7    0    2    3]\n",
      " [   3    3    3    1    6    4  936    0    2    0]\n",
      " [   1    9    9    1    0    0    0 1007    1    0]\n",
      " [   3    1    4    5    4    1    3    6  945    2]\n",
      " [   2    5    2    6   14    0    2   13    5  960]]\n",
      "\n",
      "2 layer(s), total Loss over Batches: 114.0316261202097\n",
      "2 layer(s), total Loss over Batches: 51.59232707321644\n",
      "2 layer(s), total Loss over Batches: 35.065994903445244\n",
      "2 layer(s), total Loss over Batches: 26.106868606060743\n",
      "2 layer(s), total Loss over Batches: 21.178127970546484\n",
      "2 layer(s), total Loss over Batches: 18.194524239748716\n",
      "2 layer(s), total Loss over Batches: 15.658419264480472\n",
      "2 layer(s), total Loss over Batches: 14.575565857812762\n",
      "2 layer(s), total Loss over Batches: 13.05291786044836\n",
      "2 layer(s), total Loss over Batches: 11.599442560225725\n",
      "2 layer(s), total Loss over Batches: 9.283861608244479\n",
      "2 layer(s), total Loss over Batches: 8.462074453011155\n",
      "2 layer(s), total Loss over Batches: 8.834191397763789\n",
      "2 layer(s), total Loss over Batches: 8.279148514382541\n",
      "2 layer(s), total Loss over Batches: 7.023764146491885\n",
      "2 layer(s), total Loss over Batches: 6.363069027662277\n",
      "2 layer(s), total Loss over Batches: 5.649837495060638\n",
      "2 layer(s), total Loss over Batches: 5.108007315080613\n",
      "2 layer(s), total Loss over Batches: 5.472542654490098\n",
      "2 layer(s), total Loss over Batches: 5.578204646008089\n",
      "2 layer(s), total Loss over Batches: 5.195351705886424\n",
      "2 layer(s), total Loss over Batches: 4.371020632563159\n",
      "2 layer(s), total Loss over Batches: 4.71391103672795\n",
      "2 layer(s), total Loss over Batches: 3.8174615148454905\n",
      "2 layer(s), total Loss over Batches: 3.470595337334089\n",
      "Current Confusion Matrix\n",
      "[[ 973    0    1    0    0    0    3    0    2    1]\n",
      " [   0 1127    2    1    0    1    2    0    2    0]\n",
      " [   7    1 1006    4    1    0    3    4    6    0]\n",
      " [   1    1    7  986    0    3    0    0    3    9]\n",
      " [   2    0    2    0  948    0    5    3    0   22]\n",
      " [   4    0    0   11    1  860    7    0    5    4]\n",
      " [   5    4    1    1    3    2  940    0    2    0]\n",
      " [   0    6    9    2    0    0    0  994    4   13]\n",
      " [   5    3    3    3    2    0    0    1  954    3]\n",
      " [   2    2    0    1    1    2    1    2    1  997]]\n",
      "\n",
      "3 layer(s), total Loss over Batches: 101.77405394613743\n",
      "3 layer(s), total Loss over Batches: 42.72802520543337\n",
      "3 layer(s), total Loss over Batches: 29.955370020121336\n",
      "3 layer(s), total Loss over Batches: 24.519684195518494\n",
      "3 layer(s), total Loss over Batches: 20.291832793504\n",
      "3 layer(s), total Loss over Batches: 17.854828095063567\n",
      "3 layer(s), total Loss over Batches: 14.818769257515669\n",
      "3 layer(s), total Loss over Batches: 14.766896259970963\n",
      "3 layer(s), total Loss over Batches: 12.410661775618792\n",
      "3 layer(s), total Loss over Batches: 10.806536115705967\n",
      "3 layer(s), total Loss over Batches: 10.364327975083143\n",
      "3 layer(s), total Loss over Batches: 9.298808642663062\n",
      "3 layer(s), total Loss over Batches: 8.70916882622987\n",
      "3 layer(s), total Loss over Batches: 8.030300902435556\n",
      "3 layer(s), total Loss over Batches: 7.497283357195556\n",
      "3 layer(s), total Loss over Batches: 7.236694404389709\n",
      "3 layer(s), total Loss over Batches: 6.992375222966075\n",
      "3 layer(s), total Loss over Batches: 6.277086139423773\n",
      "3 layer(s), total Loss over Batches: 5.167174221249297\n",
      "3 layer(s), total Loss over Batches: 5.972710771020502\n",
      "3 layer(s), total Loss over Batches: 5.73035807418637\n",
      "3 layer(s), total Loss over Batches: 4.761095369234681\n",
      "3 layer(s), total Loss over Batches: 4.870684492634609\n",
      "3 layer(s), total Loss over Batches: 5.075225616572425\n",
      "3 layer(s), total Loss over Batches: 3.5018076944397762\n",
      "Current Confusion Matrix\n",
      "[[ 967    1    2    0    1    3    2    2    0    2]\n",
      " [   0 1126    1    2    0    0    2    2    2    0]\n",
      " [   2    1 1007    6    1    0    2    9    3    1]\n",
      " [   0    0    5  983    0   12    0    6    2    2]\n",
      " [   0    1    6    0  957    0    1    3    0   14]\n",
      " [   2    0    0    4    2  872    4    4    2    2]\n",
      " [   3    2    1    0    8    6  934    0    1    3]\n",
      " [   1    0    6    2    1    0    0 1014    1    3]\n",
      " [   2    0    3    4    2    4    0    5  951    3]\n",
      " [   1    2    0    1    7    1    0    5    0  992]]\n",
      "\n",
      "4 layer(s), total Loss over Batches: 109.32440054416656\n",
      "4 layer(s), total Loss over Batches: 44.08019143342972\n",
      "4 layer(s), total Loss over Batches: 30.69370562955737\n",
      "4 layer(s), total Loss over Batches: 25.66794202849269\n",
      "4 layer(s), total Loss over Batches: 20.889039797708392\n",
      "4 layer(s), total Loss over Batches: 18.51628769002855\n",
      "4 layer(s), total Loss over Batches: 15.110466768965125\n",
      "4 layer(s), total Loss over Batches: 15.630616681650281\n",
      "4 layer(s), total Loss over Batches: 13.454874964430928\n",
      "4 layer(s), total Loss over Batches: 11.263757653534412\n",
      "4 layer(s), total Loss over Batches: 11.99175215139985\n",
      "4 layer(s), total Loss over Batches: 9.952699412591755\n",
      "4 layer(s), total Loss over Batches: 10.19838236644864\n",
      "4 layer(s), total Loss over Batches: 8.858846233226359\n",
      "4 layer(s), total Loss over Batches: 8.307218262925744\n",
      "4 layer(s), total Loss over Batches: 7.53329585888423\n",
      "4 layer(s), total Loss over Batches: 7.858058539684862\n",
      "4 layer(s), total Loss over Batches: 6.56862049899064\n",
      "4 layer(s), total Loss over Batches: 6.489579890388995\n",
      "4 layer(s), total Loss over Batches: 5.267913053976372\n",
      "4 layer(s), total Loss over Batches: 6.610926133114845\n",
      "4 layer(s), total Loss over Batches: 5.281948158983141\n",
      "4 layer(s), total Loss over Batches: 5.345015531871468\n",
      "4 layer(s), total Loss over Batches: 4.936887010466307\n",
      "4 layer(s), total Loss over Batches: 4.461432384909131\n",
      "Current Confusion Matrix\n",
      "[[ 957    1    5    0    5    1    6    1    1    3]\n",
      " [   0 1129    4    0    0    0    1    1    0    0]\n",
      " [   2    1 1017    1    5    0    2    4    0    0]\n",
      " [   0    2    9  975    0    2    0    8   11    3]\n",
      " [   0    0    1    0  952    0    8    9    0   12]\n",
      " [   1    1    0   12    1  866    5    1    4    1]\n",
      " [   2    4    2    1    3    1  942    1    2    0]\n",
      " [   0    4   15    0    1    0    0 1002    2    4]\n",
      " [   1    2    3    1    1    2    4    4  954    2]\n",
      " [   1    4    0    8    8    4    1    2    3  978]]\n",
      "\n",
      "5 layer(s), total Loss over Batches: 101.09146384894848\n",
      "5 layer(s), total Loss over Batches: 41.29740112274885\n",
      "5 layer(s), total Loss over Batches: 30.248736053705215\n",
      "5 layer(s), total Loss over Batches: 24.670608762651682\n",
      "5 layer(s), total Loss over Batches: 21.921718657016754\n",
      "5 layer(s), total Loss over Batches: 19.293790794909\n",
      "5 layer(s), total Loss over Batches: 15.932766489684582\n",
      "5 layer(s), total Loss over Batches: 14.939239933155477\n",
      "5 layer(s), total Loss over Batches: 12.870067531242967\n",
      "5 layer(s), total Loss over Batches: 12.649244780652225\n",
      "5 layer(s), total Loss over Batches: 12.044968920759857\n",
      "5 layer(s), total Loss over Batches: 10.205495461355895\n",
      "5 layer(s), total Loss over Batches: 9.99929219391197\n",
      "5 layer(s), total Loss over Batches: 9.560604677535594\n",
      "5 layer(s), total Loss over Batches: 8.65273841097951\n",
      "5 layer(s), total Loss over Batches: 8.243800848722458\n",
      "5 layer(s), total Loss over Batches: 7.462333101313561\n",
      "5 layer(s), total Loss over Batches: 7.502146920189261\n",
      "5 layer(s), total Loss over Batches: 6.595215273788199\n",
      "5 layer(s), total Loss over Batches: 7.04795102076605\n",
      "5 layer(s), total Loss over Batches: 6.528938818722963\n",
      "5 layer(s), total Loss over Batches: 6.6188380039529875\n",
      "5 layer(s), total Loss over Batches: 5.772195304743946\n",
      "5 layer(s), total Loss over Batches: 4.798758161137812\n",
      "5 layer(s), total Loss over Batches: 5.451678388519213\n",
      "Current Confusion Matrix\n",
      "[[ 966    0    2    1    2    1    2    0    2    4]\n",
      " [   0 1127    1    1    0    1    2    1    2    0]\n",
      " [   1    0 1016    7    1    0    0    3    4    0]\n",
      " [   2    0    2  994    0    2    0    3    4    3]\n",
      " [   0    0    4    0  972    0    3    1    0    2]\n",
      " [   4    1    0    7    2  863    6    1    6    2]\n",
      " [   3    3    2    0    6    3  938    0    2    1]\n",
      " [   2    1    9    1    4    0    0 1007    2    2]\n",
      " [   3    0    4    3    5    1    1    2  952    3]\n",
      " [   2    3    0    7   26    1    0    6    2  962]]\n",
      "\n",
      "6 layer(s), total Loss over Batches: 105.05397872626781\n",
      "6 layer(s), total Loss over Batches: 44.725448340177536\n",
      "6 layer(s), total Loss over Batches: 33.04018259420991\n",
      "6 layer(s), total Loss over Batches: 26.770655043423176\n",
      "6 layer(s), total Loss over Batches: 21.647166907787323\n",
      "6 layer(s), total Loss over Batches: 19.411032054573298\n",
      "6 layer(s), total Loss over Batches: 17.923817394301295\n",
      "6 layer(s), total Loss over Batches: 16.833641720935702\n",
      "6 layer(s), total Loss over Batches: 14.715660692192614\n",
      "6 layer(s), total Loss over Batches: 13.214273678138852\n",
      "6 layer(s), total Loss over Batches: 13.095769669860601\n",
      "6 layer(s), total Loss over Batches: 10.19123023422435\n",
      "6 layer(s), total Loss over Batches: 10.7964444514364\n",
      "6 layer(s), total Loss over Batches: 10.24195174779743\n",
      "6 layer(s), total Loss over Batches: 11.015883022453636\n",
      "6 layer(s), total Loss over Batches: 8.711089658550918\n",
      "6 layer(s), total Loss over Batches: 8.400819671107456\n",
      "6 layer(s), total Loss over Batches: 7.551367543404922\n",
      "6 layer(s), total Loss over Batches: 8.12824846431613\n",
      "6 layer(s), total Loss over Batches: 9.436038351152092\n",
      "6 layer(s), total Loss over Batches: 6.348098481539637\n",
      "6 layer(s), total Loss over Batches: 6.3926648234482855\n",
      "6 layer(s), total Loss over Batches: 7.005391284590587\n",
      "6 layer(s), total Loss over Batches: 6.343654386466369\n",
      "6 layer(s), total Loss over Batches: 5.8186031095683575\n",
      "Current Confusion Matrix\n",
      "[[ 968    1    1    0    0    4    5    1    0    0]\n",
      " [   0 1128    2    2    0    1    1    1    0    0]\n",
      " [   2    0 1022    2    0    0    1    4    1    0]\n",
      " [   0    0    8  982    0    7    0    7    2    4]\n",
      " [   0    0    0    0  965    2    7    3    0    5]\n",
      " [   1    0    0    5    1  879    2    1    2    1]\n",
      " [   1    3    0    0    1    4  947    0    2    0]\n",
      " [   0    6   11    1    0    0    0 1006    0    4]\n",
      " [   0    2    6    9    0    5    2    4  942    4]\n",
      " [   1    2    0    3   12    4    1    6    1  979]]\n",
      "\n",
      "7 layer(s), total Loss over Batches: 121.38913509249687\n",
      "7 layer(s), total Loss over Batches: 44.301784209907055\n",
      "7 layer(s), total Loss over Batches: 34.87788063660264\n",
      "7 layer(s), total Loss over Batches: 28.363805040717125\n",
      "7 layer(s), total Loss over Batches: 23.471261335536838\n",
      "7 layer(s), total Loss over Batches: 20.720947857946157\n",
      "7 layer(s), total Loss over Batches: 18.37309657316655\n",
      "7 layer(s), total Loss over Batches: 18.052314329892397\n",
      "7 layer(s), total Loss over Batches: 15.011558112688363\n",
      "7 layer(s), total Loss over Batches: 14.262356696650386\n",
      "7 layer(s), total Loss over Batches: 13.60980499908328\n",
      "7 layer(s), total Loss over Batches: 13.455009187571704\n",
      "7 layer(s), total Loss over Batches: 11.626018607988954\n",
      "7 layer(s), total Loss over Batches: 10.425298690330237\n",
      "7 layer(s), total Loss over Batches: 10.471968260128051\n",
      "7 layer(s), total Loss over Batches: 11.195702923461795\n",
      "7 layer(s), total Loss over Batches: 8.733993769157678\n",
      "7 layer(s), total Loss over Batches: 9.121485833544284\n",
      "7 layer(s), total Loss over Batches: 8.881120478268713\n",
      "7 layer(s), total Loss over Batches: 7.6573109100572765\n",
      "7 layer(s), total Loss over Batches: 7.4714418784715235\n",
      "7 layer(s), total Loss over Batches: 8.155764032620937\n",
      "7 layer(s), total Loss over Batches: 7.526365701574832\n",
      "7 layer(s), total Loss over Batches: 6.897527956869453\n",
      "7 layer(s), total Loss over Batches: 7.158341819886118\n",
      "Current Confusion Matrix\n",
      "[[ 966    1    1    0    0    1    1    7    3    0]\n",
      " [   2 1128    2    1    0    1    0    0    1    0]\n",
      " [   5    2  994   12    3    0    1   14    1    0]\n",
      " [   1    0    2  990    0    4    0    5    2    6]\n",
      " [   2    1    4    0  965    2    3    0    0    5]\n",
      " [   1    1    0   13    0  868    2    1    2    4]\n",
      " [   6    4    3    1    7    7  928    0    2    0]\n",
      " [   0    6    8    5    2    0    0  998    1    8]\n",
      " [   3    1    7   14    4    2    0    7  924   12]\n",
      " [   0    2    0    1   15    4    1    5    1  980]]\n",
      "\n",
      "8 layer(s), total Loss over Batches: 120.65377274155617\n",
      "8 layer(s), total Loss over Batches: 44.128038592636585\n",
      "8 layer(s), total Loss over Batches: 31.276505183428526\n",
      "8 layer(s), total Loss over Batches: 27.763863041996956\n",
      "8 layer(s), total Loss over Batches: 23.562684431672096\n",
      "8 layer(s), total Loss over Batches: 21.89441642165184\n",
      "8 layer(s), total Loss over Batches: 18.927116146311164\n",
      "8 layer(s), total Loss over Batches: 16.701551410369575\n",
      "8 layer(s), total Loss over Batches: 15.79974571429193\n",
      "8 layer(s), total Loss over Batches: 14.498162659816444\n",
      "8 layer(s), total Loss over Batches: 13.067507723346353\n",
      "8 layer(s), total Loss over Batches: 12.820100171491504\n",
      "8 layer(s), total Loss over Batches: 12.037291958928108\n",
      "8 layer(s), total Loss over Batches: 11.508276714012027\n",
      "8 layer(s), total Loss over Batches: 11.485880960710347\n",
      "8 layer(s), total Loss over Batches: 10.520174960140139\n",
      "8 layer(s), total Loss over Batches: 10.155516030732542\n",
      "8 layer(s), total Loss over Batches: 9.398311310214922\n",
      "8 layer(s), total Loss over Batches: 8.611366892233491\n",
      "8 layer(s), total Loss over Batches: 7.930366879329085\n",
      "8 layer(s), total Loss over Batches: 8.288236234337091\n",
      "8 layer(s), total Loss over Batches: 7.810039764037356\n",
      "8 layer(s), total Loss over Batches: 7.865656473208219\n",
      "8 layer(s), total Loss over Batches: 7.517111509339884\n",
      "8 layer(s), total Loss over Batches: 7.1797739958856255\n",
      "Current Confusion Matrix\n",
      "[[ 970    1    1    1    0    1    3    1    1    1]\n",
      " [   0 1125    3    1    0    0    0    6    0    0]\n",
      " [   5    0 1013    2    3    0    2    6    1    0]\n",
      " [   2    0   11  970    0    8    0   10    7    2]\n",
      " [   0    1    5    0  965    0    3    4    0    4]\n",
      " [   3    0    0    6    2  864    9    1    5    2]\n",
      " [   2    3    2    1    3    2  945    0    0    0]\n",
      " [   0    1    7    0    1    0    0 1018    0    1]\n",
      " [   3    1    8    4    1    5    3    2  943    4]\n",
      " [   2    2    0    2   18    4    2    6    1  972]]\n",
      "\n",
      "9 layer(s), total Loss over Batches: 116.12711548805237\n",
      "9 layer(s), total Loss over Batches: 46.79733943194151\n",
      "9 layer(s), total Loss over Batches: 34.90533374622464\n",
      "9 layer(s), total Loss over Batches: 28.931943733245134\n",
      "9 layer(s), total Loss over Batches: 24.927567701786757\n",
      "9 layer(s), total Loss over Batches: 22.243283983319998\n",
      "9 layer(s), total Loss over Batches: 20.60065815784037\n",
      "9 layer(s), total Loss over Batches: 19.328061126172543\n",
      "9 layer(s), total Loss over Batches: 16.804401364177465\n",
      "9 layer(s), total Loss over Batches: 15.652562696486712\n",
      "9 layer(s), total Loss over Batches: 14.980018707923591\n",
      "9 layer(s), total Loss over Batches: 14.437168966978788\n",
      "9 layer(s), total Loss over Batches: 13.122615371830761\n",
      "9 layer(s), total Loss over Batches: 12.756990307942033\n",
      "9 layer(s), total Loss over Batches: 11.870351801626384\n",
      "9 layer(s), total Loss over Batches: 11.872395708225667\n",
      "9 layer(s), total Loss over Batches: 10.369298454374075\n",
      "9 layer(s), total Loss over Batches: 10.649103179574013\n",
      "9 layer(s), total Loss over Batches: 8.950723889283836\n",
      "9 layer(s), total Loss over Batches: 9.648847511969507\n",
      "9 layer(s), total Loss over Batches: 9.931325258221477\n",
      "9 layer(s), total Loss over Batches: 8.559333817800507\n",
      "9 layer(s), total Loss over Batches: 8.406231357017532\n",
      "9 layer(s), total Loss over Batches: 7.39070978667587\n",
      "9 layer(s), total Loss over Batches: 8.444535579765216\n",
      "Current Confusion Matrix\n",
      "[[ 970    1    1    0    0    3    1    2    2    0]\n",
      " [   0 1128    0    2    1    0    1    3    0    0]\n",
      " [   2    5 1000    4    3    0    4   11    3    0]\n",
      " [   0    0    2  994    0    1    0    7    5    1]\n",
      " [   2    0    2    1  959    0    5    4    0    9]\n",
      " [   1    0    0   15    1  865    4    1    3    2]\n",
      " [   4    4    0    0    4    2  940    1    3    0]\n",
      " [   1    2    8    1    0    0    0 1012    1    3]\n",
      " [   0    1    2    3    1    5    2    5  952    3]\n",
      " [   2    1    0    5   12    8    0   10    2  969]]\n",
      "\n",
      "10 layer(s), total Loss over Batches: 111.71527735888958\n",
      "10 layer(s), total Loss over Batches: 45.544976219534874\n",
      "10 layer(s), total Loss over Batches: 35.254380352795124\n",
      "10 layer(s), total Loss over Batches: 30.13932067528367\n",
      "10 layer(s), total Loss over Batches: 25.910707119852304\n",
      "10 layer(s), total Loss over Batches: 23.76467972062528\n",
      "10 layer(s), total Loss over Batches: 19.995282530784607\n",
      "10 layer(s), total Loss over Batches: 20.43738890439272\n",
      "10 layer(s), total Loss over Batches: 17.39380218461156\n",
      "10 layer(s), total Loss over Batches: 18.158880052156746\n",
      "10 layer(s), total Loss over Batches: 15.652009569108486\n",
      "10 layer(s), total Loss over Batches: 14.413328536786139\n",
      "10 layer(s), total Loss over Batches: 14.834698060527444\n",
      "10 layer(s), total Loss over Batches: 13.726425585802644\n",
      "10 layer(s), total Loss over Batches: 12.252768775448203\n",
      "10 layer(s), total Loss over Batches: 12.066177495289594\n",
      "10 layer(s), total Loss over Batches: 11.921941514126956\n",
      "10 layer(s), total Loss over Batches: 10.142194841057062\n",
      "10 layer(s), total Loss over Batches: 10.924513850361109\n",
      "10 layer(s), total Loss over Batches: 9.9429463124834\n",
      "10 layer(s), total Loss over Batches: 9.137968503404409\n",
      "10 layer(s), total Loss over Batches: 8.993131259456277\n",
      "10 layer(s), total Loss over Batches: 9.332709753420204\n",
      "10 layer(s), total Loss over Batches: 8.8756017931737\n",
      "10 layer(s), total Loss over Batches: 8.032032031100243\n",
      "Current Confusion Matrix\n",
      "[[ 972    0    3    0    0    0    3    1    1    0]\n",
      " [   0 1126    0    2    0    0    4    1    2    0]\n",
      " [   2    4 1008    4    3    0    1    8    2    0]\n",
      " [   0    0    3  987    0    7    0    5    6    2]\n",
      " [   0    2    2    0  971    0    3    0    1    3]\n",
      " [   4    0    0    8    2  867    3    1    2    5]\n",
      " [   8    1    0    0   17    7  923    0    1    1]\n",
      " [   0   10    8    4    0    0    0 1005    0    1]\n",
      " [   1    0    6    9    0   18    0    3  934    3]\n",
      " [   4    4    0    3   15    1    0   16    4  962]]\n",
      "\n"
     ]
    }
   ],
   "source": [
    "P = 100000\n",
    "batch_size = 256\n",
    "finalLossTest = []\n",
    "finalLossTrain = []\n",
    "trainingTime = []\n",
    "for k in range(1,10+1):\n",
    "    model = layerTesting(k,m_num(k,P))\n",
    "    model = model.to(device)\n",
    "    optimizer = optim.Adam(model.parameters(), lr = 0.001 )\n",
    "    startTime = time.time()\n",
    "    for epochs in range(25):\n",
    "        total_loss = 0\n",
    "        for batch in range( train_x.shape[0] // batch_size ):\n",
    "            x_batch, y_batch = get_batch(train_x, train_y, batch_size)\n",
    "            \n",
    "            optimizer.zero_grad()\n",
    "    \n",
    "            logits = model( x_batch )\n",
    "            loss = loss_function( logits, y_batch )\n",
    "    \n",
    "            loss.backward()\n",
    "            optimizer.step()\n",
    "    \n",
    "            total_loss += loss.item()\n",
    "    \n",
    "        print( k,\"layer(s), total Loss over Batches:\",total_loss )\n",
    "    endTime = time.time()\n",
    "    trainingTime.append(endTime - startTime)\n",
    "    finalLossTest.append(loss_function(model(test_x), test_y))\n",
    "    finalLossTrain.append(loss_function(model(train_x), train_y))\n",
    "    print(\"Current Confusion Matrix\")\n",
    "    print( confusion_matrix( model, test_x, test_y ) )\n",
    "    print()"
   ]
  },
  {
   "cell_type": "code",
   "execution_count": 261,
   "id": "70c1c91f-7abd-41a8-a4c4-80226205b64c",
   "metadata": {},
   "outputs": [
    {
     "name": "stdout",
     "output_type": "stream",
     "text": [
      "0.07250629365444183\n"
     ]
    }
   ],
   "source": [
    "print(finalLossTest[5].item())"
   ]
  },
  {
   "cell_type": "code",
   "execution_count": 260,
   "id": "2c120e3c-6b5e-4c53-91ff-c149ed8abaad",
   "metadata": {},
   "outputs": [
    {
     "data": {
      "text/plain": [
       "Text(0, 0.5, 'testing loss')"
      ]
     },
     "execution_count": 260,
     "metadata": {},
     "output_type": "execute_result"
    },
    {
     "data": {
      "image/png": "[encoded data removed]",
      "text/plain": [
       "<Figure size 640x480 with 1 Axes>"
      ]
     },
     "metadata": {},
     "output_type": "display_data"
    }
   ],
   "source": [
    "plt.plot([i for i in range(1,11)],[j.item() for j in finalLossTest],'o')\n",
    "plt.xlabel(\"k values\")\n",
    "plt.ylabel(\"testing loss\")"
   ]
  },
  {
   "cell_type": "code",
   "execution_count": 106,
   "id": "8c4adee1-3a66-4c24-a11b-5622251ec441",
   "metadata": {},
   "outputs": [
    {
     "data": {
      "text/plain": [
       "Text(0, 0.5, 'training loss')"
      ]
     },
     "execution_count": 106,
     "metadata": {},
     "output_type": "execute_result"
    },
    {
     "data": {
      "image/png": "[encoded data removed]",
      "text/plain": [
       "<Figure size 640x480 with 1 Axes>"
      ]
     },
     "metadata": {},
     "output_type": "display_data"
    }
   ],
   "source": [
    "plt.plot([i for i in range(1,11)],[j.item() for j in finalLossTrain],'o')\n",
    "plt.xlabel(\"k values\")\n",
    "plt.ylabel(\"training loss\")"
   ]
  },
  {
   "cell_type": "markdown",
   "id": "ff4ea849-571a-43dd-b48d-05c0bab30963",
   "metadata": {},
   "source": [
    "Now for comparison with the no hidden layers linear model:"
   ]
  },
  {
   "cell_type": "code",
   "execution_count": 38,
   "id": "2ade9d0d-61ee-4279-8619-60e5dde2ed7d",
   "metadata": {},
   "outputs": [
    {
     "name": "stdout",
     "output_type": "stream",
     "text": [
      "total Loss over Batches: 266.8634445667267\n",
      "total Loss over Batches: 133.9680559337139\n",
      "total Loss over Batches: 108.16572540998459\n",
      "total Loss over Batches: 96.46211349964142\n",
      "total Loss over Batches: 87.94975793361664\n",
      "total Loss over Batches: 84.07725578546524\n",
      "total Loss over Batches: 80.26980520784855\n",
      "total Loss over Batches: 79.16002659499645\n",
      "total Loss over Batches: 77.0686764717102\n",
      "total Loss over Batches: 73.97362124919891\n",
      "total Loss over Batches: 73.07093866169453\n",
      "total Loss over Batches: 71.4469300955534\n",
      "total Loss over Batches: 70.69508345425129\n",
      "total Loss over Batches: 70.02656215429306\n",
      "total Loss over Batches: 69.9735946059227\n",
      "total Loss over Batches: 68.42793133854866\n",
      "total Loss over Batches: 69.31025591492653\n",
      "total Loss over Batches: 67.01877181231976\n",
      "total Loss over Batches: 67.50968319177628\n",
      "total Loss over Batches: 68.02158491313457\n"
     ]
    }
   ],
   "source": [
    "model = LinearSoftmaxRegression()\n",
    "model = model.to(device)\n",
    "optimizer = optim.Adam(model.parameters(), lr = 0.0005 )\n",
    "\n",
    "for epochs in range(25):\n",
    "    total_loss = 0\n",
    "    for batch in range( train_x.shape[0] // batch_size ):\n",
    "        x_batch, y_batch = get_batch(train_x, train_y, batch_size)\n",
    "        \n",
    "        optimizer.zero_grad()\n",
    "\n",
    "        logits = model( x_batch )\n",
    "        loss = loss_function( logits, y_batch )\n",
    "\n",
    "        loss.backward()\n",
    "        optimizer.step()\n",
    "\n",
    "        total_loss += loss.item()\n",
    "\n",
    "    print(\"total Loss over Batches:\",total_loss )"
   ]
  },
  {
   "cell_type": "code",
   "execution_count": 39,
   "id": "f6658b51-7398-4f32-95cb-f8e709adab3a",
   "metadata": {},
   "outputs": [
    {
     "name": "stdout",
     "output_type": "stream",
     "text": [
      "No hidden layers training loss: 0.28607186675071716\n",
      "No hidden layers testing loss: 0.28210288286209106\n",
      "Current Confusion Matrix\n",
      "[[ 961    0    3    2    0    5    6    1    2    0]\n",
      " [   0 1110    2    2    0    2    4    2   13    0]\n",
      " [   9   10  924   13   13    4    9   11   32    7]\n",
      " [   3    1   25  903    0   35    2   13   15   13]\n",
      " [   1    2    4    1  918    1   10    2    8   35]\n",
      " [   9    3    5   29    8  785   12    8   25    8]\n",
      " [  12    3    9    1   13   19  897    2    2    0]\n",
      " [   2   11   21    8    6    1    0  939    2   38]\n",
      " [  10    9    8   20    9   36   10   11  852    9]\n",
      " [  11    6    2    9   38    6    0   23    7  907]]\n"
     ]
    }
   ],
   "source": [
    "print(\"No hidden layers training loss: \"+str(loss_function(model(train_x), train_y).item()))\n",
    "print(\"No hidden layers testing loss: \"+ str(loss_function(model(test_x), test_y).item()))\n",
    "print(\"Current Confusion Matrix\")\n",
    "print( confusion_matrix( model, test_x, test_y ) )"
   ]
  },
  {
   "cell_type": "markdown",
   "id": "c018bf13-d1a7-4a39-8399-e95d85f5a383",
   "metadata": {},
   "source": [
    "## How do the results compare to the baseline performance of the linear softmax model?"
   ]
  },
  {
   "cell_type": "markdown",
   "id": "f930cd24-e980-47be-8325-399a602f67d7",
   "metadata": {},
   "source": [
    "The testing loss of the linear model is on par with the 10 layer model, and the 1-2 hidden layer model has a loss that is an order of magnitude less."
   ]
  },
  {
   "cell_type": "markdown",
   "id": "5796e5fb-47c8-4c42-bcba-85742fad6f75",
   "metadata": {},
   "source": [
    "## What do you notice about the underlying trends? Is there a point where layers become too narrow to be useful, and if so, where is it? What seems to be the sweet spot, if any, for network shape? How does it depend on P?"
   ]
  },
  {
   "cell_type": "markdown",
   "id": "a9c2d57b-718f-4e0d-82ee-05713249eaa5",
   "metadata": {},
   "source": [
    "It seems like performance gets worse with the increase in the number of hidden layers.  Given that the testing loss of the 10 hidden layers is on par \n",
    "with the loss of the linear model, probably 10-13 layers is where the layers get too thin.  The best network shape seems to have two layers.  \n",
    "Clearly, the increase in parameters will make a better network, but as shown by testing the structure matters immensely."
   ]
  },
  {
   "cell_type": "markdown",
   "id": "5fa84e53-4f99-4983-bbf3-bb3f9b6ab613",
   "metadata": {},
   "source": [
    "# Training time vs. number of hidden layers"
   ]
  },
  {
   "cell_type": "code",
   "execution_count": 63,
   "id": "4c7096f4-5556-4978-8f8b-b2f4798b2549",
   "metadata": {},
   "outputs": [
    {
     "data": {
      "text/plain": [
       "Text(0, 0.5, 'training time (in seconds)')"
      ]
     },
     "execution_count": 63,
     "metadata": {},
     "output_type": "execute_result"
    },
    {
     "data": {
      "image/png": "[encoded data removed]",
      "text/plain": [
       "<Figure size 640x480 with 1 Axes>"
      ]
     },
     "metadata": {},
     "output_type": "display_data"
    }
   ],
   "source": [
    "plt.plot([i for i in range(1,11)],[j for j in trainingTime],'o')\n",
    "plt.xlabel(\"k values\")\n",
    "\n",
    "plt.ylabel(\"training time (in seconds)\")"
   ]
  },
  {
   "cell_type": "markdown",
   "id": "694c0fdf-ee91-4df1-b626-439bbdaa9ca8",
   "metadata": {},
   "source": [
    "# Problem 4:"
   ]
  },
  {
   "cell_type": "code",
   "execution_count": 7,
   "id": "40d8ce85-2d1f-4ff9-a68e-68587b0cf70f",
   "metadata": {},
   "outputs": [],
   "source": [
    "def totalParams(model):\n",
    "    totalParam = 0\n",
    "    for parameter in model.parameters():\n",
    "        totalParam = totalParam + parameter.numel()\n",
    "    return totalParam"
   ]
  },
  {
   "cell_type": "code",
   "execution_count": 8,
   "id": "1fa7ebd1-72b6-40ee-b046-dedb0bd5ff92",
   "metadata": {},
   "outputs": [],
   "source": [
    "def trainNetwork(model, device, train_x, train_y, text_x, test_y, loss_function, optimFunc, batch_size, learnRate):\n",
    "    model = model.to(device)\n",
    "    optimizer = optimFunc(model.parameters(), lr = learnRate )\n",
    "    testLoss = loss_function(model(test_x),test_y).item()\n",
    "    startTime = time.time()\n",
    "    for epochs in range(30):\n",
    "        total_loss = 0\n",
    "        for batch in range( train_x.shape[0] // batch_size ):\n",
    "            x_batch, y_batch = get_batch(train_x, train_y, batch_size)\n",
    "            \n",
    "            optimizer.zero_grad()\n",
    "    \n",
    "            logits = model( x_batch )\n",
    "            loss = loss_function( logits, y_batch )\n",
    "    \n",
    "            loss.backward()\n",
    "            optimizer.step()\n",
    "    \n",
    "            total_loss += loss.item()\n",
    "    \n",
    "        print(\"epochs: \" + str(1+epochs) + \" total Loss over Batches: \" + str(total_loss) + \" test loss: \" + str(testLoss) )\n",
    "        # if loss_function(model(test_x),test_y).item() > testLoss*1.1:\n",
    "        #     break\n",
    "        # else:\n",
    "        testLoss = loss_function(model(test_x),test_y).item()\n",
    "    endTime = time.time()\n",
    "    return endTime-startTime, loss_function(model(train_x),train_y).item(), testLoss\n",
    "\n",
    "        "
   ]
  },
  {
   "cell_type": "code",
   "execution_count": 240,
   "id": "7a7221e0-aedf-42e7-a4d6-611f8adedb41",
   "metadata": {},
   "outputs": [
    {
     "name": "stdout",
     "output_type": "stream",
     "text": [
      "125\n",
      "110\n",
      "100\n",
      "92\n",
      "87\n",
      "82\n",
      "78\n",
      "75\n",
      "72\n",
      "69\n"
     ]
    },
    {
     "data": {
      "image/png": "[encoded data removed]",
      "text/plain": [
       "<Figure size 640x480 with 1 Axes>"
      ]
     },
     "metadata": {},
     "output_type": "display_data"
    }
   ],
   "source": [
    "plt.plot([i for i in range(1,11)],[ abs(P-totalParams(layerTesting(i,m_num(i,P))))/P for i in range(1,11)])\n",
    "for i in range(1,11):\n",
    "    print(m_num(i,P))"
   ]
  },
  {
   "cell_type": "code",
   "execution_count": 68,
   "id": "9cb86998-0bc8-49ed-a724-1032b4b9a3de",
   "metadata": {},
   "outputs": [
    {
     "name": "stdout",
     "output_type": "stream",
     "text": [
      "99910\n"
     ]
    }
   ],
   "source": [
    "model = layerTesting(3,m_num(3,P))\n",
    "\n",
    "print(totalParams(model))"
   ]
  },
  {
   "cell_type": "code",
   "execution_count": 9,
   "id": "b056e61c-b93f-44b2-ad07-a0b1c0c058d9",
   "metadata": {},
   "outputs": [],
   "source": [
    "class badVGGDec(nn.Module):\n",
    "    def __init__(self):\n",
    "        super(badVGGDec, self).__init__()\n",
    "\n",
    "        self.layer_input = nn.Sequential(nn.Linear( in_features = 28*28*1, out_features = 95, bias=True ), nn.LayerNorm(95), nn.ELU())\n",
    "        self.layer_output = torch.nn.Linear( in_features = 82, out_features = 10, bias=True )\n",
    "        self.linears = nn.ModuleList([nn.Sequential(nn.Linear(95, 90), nn.LayerNorm(90), nn.ELU()),\n",
    "                                      nn.Sequential(nn.Linear(90, 87), nn.LayerNorm(87), nn.ELU()),\n",
    "                                      nn.Sequential(nn.Linear(87, 82), nn.LayerNorm(82), nn.ELU())])\n",
    "    def forward(self, input_tensor):\n",
    "        output = nn.Flatten()( input_tensor )\n",
    "        output = self.layer_input(output)\n",
    "        for l in self.linears:\n",
    "                output = l(output)\n",
    "        output = self.layer_output(output)\n",
    "        return output"
   ]
  },
  {
   "cell_type": "code",
   "execution_count": 278,
   "id": "4f96d260-e89d-4289-b11e-ec5d39b9bf4f",
   "metadata": {},
   "outputs": [],
   "source": [
    "class badVGGAsc(nn.Module):\n",
    "    def __init__(self):\n",
    "        super(badVGGAsc, self).__init__()\n",
    "\n",
    "        self.layer_input = nn.Sequential(nn.Linear( in_features = 28*28*1, out_features = 87, bias=True ), nn.LayerNorm(87), nn.ELU())\n",
    "        self.layer_output = torch.nn.Linear( in_features = 110, out_features = 10, bias=True )\n",
    "        self.linears = nn.ModuleList([nn.Sequential(nn.Linear(100, 110), nn.LayerNorm(110), nn.ELU()),\n",
    "                                      nn.Sequential(nn.Linear(90, 100), nn.LayerNorm(100), nn.ELU()),\n",
    "                                      nn.Sequential(nn.Linear(87, 90), nn.LayerNorm(90), nn.ELU())])\n",
    "    def forward(self, input_tensor):\n",
    "        output = nn.Flatten()( input_tensor )\n",
    "        output = self.layer_input(output)\n",
    "        for l in reversed(self.linears):\n",
    "                output = l(output)\n",
    "        output = self.layer_output(output)\n",
    "        return output"
   ]
  },
  {
   "cell_type": "code",
   "execution_count": 318,
   "id": "06cd8bc3-e16e-4eb8-82db-81658ea41bbd",
   "metadata": {},
   "outputs": [
    {
     "name": "stdout",
     "output_type": "stream",
     "text": [
      "99886\n"
     ]
    }
   ],
   "source": [
    "model1 = badVGGDec()\n",
    "print(totalParams(model1))"
   ]
  },
  {
   "cell_type": "code",
   "execution_count": 319,
   "id": "c215f45f-b96c-4a49-8cae-b24bf2298a7e",
   "metadata": {},
   "outputs": [
    {
     "name": "stdout",
     "output_type": "stream",
     "text": [
      "epochs: 1 total Loss over Batches: 119.24925297498703 test loss: 2.3797810077667236\n",
      "epochs: 2 total Loss over Batches: 46.238544560968876 test loss: 0.2345850169658661\n",
      "epochs: 3 total Loss over Batches: 32.78550262004137 test loss: 0.15872162580490112\n",
      "epochs: 4 total Loss over Batches: 26.247574012726545 test loss: 0.12258315086364746\n",
      "epochs: 5 total Loss over Batches: 21.73243731074035 test loss: 0.10560594499111176\n",
      "epochs: 6 total Loss over Batches: 19.50059736147523 test loss: 0.09950949996709824\n",
      "epochs: 7 total Loss over Batches: 17.423807747662067 test loss: 0.09810847043991089\n",
      "epochs: 8 total Loss over Batches: 14.755033422261477 test loss: 0.08864877372980118\n",
      "epochs: 9 total Loss over Batches: 13.728905508294702 test loss: 0.0854114219546318\n",
      "epochs: 10 total Loss over Batches: 13.275696613825858 test loss: 0.09054294973611832\n",
      "epochs: 11 total Loss over Batches: 11.563978120684624 test loss: 0.081595778465271\n",
      "epochs: 12 total Loss over Batches: 11.651830056682229 test loss: 0.07956744730472565\n",
      "epochs: 13 total Loss over Batches: 11.367649517953396 test loss: 0.08759921044111252\n",
      "epochs: 14 total Loss over Batches: 10.928957615979016 test loss: 0.08143673092126846\n",
      "epochs: 15 total Loss over Batches: 8.608174927998334 test loss: 0.09155917912721634\n",
      "epochs: 16 total Loss over Batches: 8.873087742365897 test loss: 0.07491523027420044\n",
      "epochs: 17 total Loss over Batches: 8.213169545866549 test loss: 0.086979441344738\n",
      "epochs: 18 total Loss over Batches: 7.472108035814017 test loss: 0.07705019414424896\n",
      "epochs: 19 total Loss over Batches: 8.37512385752052 test loss: 0.08836714923381805\n",
      "epochs: 20 total Loss over Batches: 7.757254124153405 test loss: 0.08514051884412766\n",
      "epochs: 21 total Loss over Batches: 6.731254892423749 test loss: 0.0862455815076828\n",
      "epochs: 22 total Loss over Batches: 7.319938481086865 test loss: 0.06988874077796936\n",
      "epochs: 23 total Loss over Batches: 5.933054640889168 test loss: 0.07077524811029434\n",
      "epochs: 24 total Loss over Batches: 5.923217991716228 test loss: 0.08044502884149551\n",
      "epochs: 25 total Loss over Batches: 5.914236268727109 test loss: 0.09363651275634766\n",
      "epochs: 26 total Loss over Batches: 5.245449782116339 test loss: 0.0808730274438858\n",
      "epochs: 27 total Loss over Batches: 5.404285985743627 test loss: 0.07812720537185669\n",
      "epochs: 28 total Loss over Batches: 6.40192255936563 test loss: 0.07870127260684967\n",
      "epochs: 29 total Loss over Batches: 5.352836597710848 test loss: 0.09608814120292664\n",
      "epochs: 30 total Loss over Batches: 4.382880521239713 test loss: 0.07340343296527863\n"
     ]
    },
    {
     "data": {
      "text/plain": [
       "(48.99853253364563, 0.017525294795632362, 0.06678382307291031)"
      ]
     },
     "execution_count": 319,
     "metadata": {},
     "output_type": "execute_result"
    }
   ],
   "source": [
    "trainNetwork(model1, device, train_x, train_y, test_x, test_y, loss_function, optim.Adam, 256, 0.0004)\n",
    "# model = model.to(device)\n",
    "# optimizer = optim.Adam(model.parameters(), lr = 0.001 )\n",
    "\n",
    "# for epochs in range(40):\n",
    "#     total_loss = 0\n",
    "#     for batch in range( train_x.shape[0] // batch_size ):\n",
    "#         x_batch, y_batch = get_batch(train_x, train_y, batch_size)\n",
    "        \n",
    "#         optimizer.zero_grad()\n",
    "\n",
    "#         logits = model( x_batch )\n",
    "#         loss = loss_function( logits, y_batch )\n",
    "\n",
    "#         loss.backward()\n",
    "#         optimizer.step()\n",
    "\n",
    "#         total_loss += loss.item()\n",
    "\n",
    "#     print(\"layer(s), total Loss over Batches:\",total_loss )"
   ]
  },
  {
   "cell_type": "code",
   "execution_count": 299,
   "id": "8df3a4c1-3e80-44ef-92db-44e4f98a65c7",
   "metadata": {},
   "outputs": [
    {
     "name": "stdout",
     "output_type": "stream",
     "text": [
      "0.08195707947015762\n",
      "0.02052256464958191\n"
     ]
    }
   ],
   "source": [
    "print(loss_function(model1(test_x),test_y).item())\n",
    "print(loss_function(model1(train_x),train_y).item())"
   ]
  },
  {
   "cell_type": "code",
   "execution_count": 320,
   "id": "5aec59f9-42e7-45c4-9a3a-363f80703a18",
   "metadata": {},
   "outputs": [
    {
     "name": "stdout",
     "output_type": "stream",
     "text": [
      "98309\n"
     ]
    }
   ],
   "source": [
    "model2 = badVGGAsc()\n",
    "print(totalParams(model2))"
   ]
  },
  {
   "cell_type": "code",
   "execution_count": 321,
   "id": "825ac01e-78a4-451a-9a27-743185713a21",
   "metadata": {},
   "outputs": [
    {
     "name": "stdout",
     "output_type": "stream",
     "text": [
      "epochs: 1 total Loss over Batches: 114.36639992892742 test loss: 2.4027390480041504\n",
      "epochs: 2 total Loss over Batches: 43.22977264225483 test loss: 0.22474659979343414\n",
      "epochs: 3 total Loss over Batches: 31.085518423467875 test loss: 0.1658814400434494\n",
      "epochs: 4 total Loss over Batches: 25.80313180014491 test loss: 0.13634245097637177\n",
      "epochs: 5 total Loss over Batches: 21.19843821041286 test loss: 0.12373845279216766\n",
      "epochs: 6 total Loss over Batches: 20.03904812783003 test loss: 0.09590223431587219\n",
      "epochs: 7 total Loss over Batches: 16.440734358504415 test loss: 0.09162697196006775\n",
      "epochs: 8 total Loss over Batches: 14.452215984463692 test loss: 0.08741438388824463\n",
      "epochs: 9 total Loss over Batches: 13.104112600907683 test loss: 0.0922897607088089\n",
      "epochs: 10 total Loss over Batches: 12.707748303189874 test loss: 0.08670751005411148\n",
      "epochs: 11 total Loss over Batches: 11.568751531653106 test loss: 0.115187868475914\n",
      "epochs: 12 total Loss over Batches: 11.365066163241863 test loss: 0.08923350274562836\n",
      "epochs: 13 total Loss over Batches: 11.071654302999377 test loss: 0.09999998658895493\n",
      "epochs: 14 total Loss over Batches: 10.080543227959424 test loss: 0.11956880986690521\n",
      "epochs: 15 total Loss over Batches: 7.99750354886055 test loss: 0.0853400006890297\n",
      "epochs: 16 total Loss over Batches: 8.13680275157094 test loss: 0.07711131125688553\n",
      "epochs: 17 total Loss over Batches: 9.093949653208256 test loss: 0.07603152841329575\n",
      "epochs: 18 total Loss over Batches: 7.5842943037860096 test loss: 0.07136958837509155\n",
      "epochs: 19 total Loss over Batches: 6.982929775025696 test loss: 0.07263188809156418\n",
      "epochs: 20 total Loss over Batches: 7.171787081751972 test loss: 0.08134303241968155\n",
      "epochs: 21 total Loss over Batches: 7.3889605067670345 test loss: 0.07266660034656525\n",
      "epochs: 22 total Loss over Batches: 7.348773133009672 test loss: 0.08280986547470093\n",
      "epochs: 23 total Loss over Batches: 5.9491238673217595 test loss: 0.07754753530025482\n",
      "epochs: 24 total Loss over Batches: 5.198917492991313 test loss: 0.07303681969642639\n",
      "epochs: 25 total Loss over Batches: 6.279400426428765 test loss: 0.07814743369817734\n",
      "epochs: 26 total Loss over Batches: 5.647956953383982 test loss: 0.07799797505140305\n",
      "epochs: 27 total Loss over Batches: 5.755887674167752 test loss: 0.07331429421901703\n",
      "epochs: 28 total Loss over Batches: 4.966382476268336 test loss: 0.09190832078456879\n",
      "epochs: 29 total Loss over Batches: 4.144379348028451 test loss: 0.08431856334209442\n",
      "epochs: 30 total Loss over Batches: 4.576708409469575 test loss: 0.08709543198347092\n"
     ]
    },
    {
     "data": {
      "text/plain": [
       "(48.015636920928955, 0.023185379803180695, 0.08347839117050171)"
      ]
     },
     "execution_count": 321,
     "metadata": {},
     "output_type": "execute_result"
    }
   ],
   "source": [
    "trainNetwork(model2, device, train_x, train_y, test_x, test_y, loss_function, optim.Adam, 256,0.0004)"
   ]
  },
  {
   "cell_type": "code",
   "execution_count": 295,
   "id": "6431500e-6694-4c9f-adb1-6b842000440f",
   "metadata": {},
   "outputs": [
    {
     "name": "stdout",
     "output_type": "stream",
     "text": [
      "0.08538950234651566\n",
      "0.017661165446043015\n"
     ]
    }
   ],
   "source": [
    "print(loss_function(model2(test_x),test_y).item())\n",
    "print(loss_function(model2(train_x),train_y).item())"
   ]
  },
  {
   "cell_type": "markdown",
   "id": "b6d8c5c1-29e4-4292-9689-9f455128fcea",
   "metadata": {},
   "source": [
    "Above are the two different architectures I tried after a lot of experimentation.  Broadly speaking I have 3 different types of architectures, \n",
    "the architecture with the same sized hidden layers, decreasing, and increasing.  For the decreasing and increasing ones, I used the numbers computed above of the \"ideal\" $m$ for each $k$ to maintain approximately $P = 100000$, and made my layers decrease within those bounds, roughly.  Ultimately \n",
    "I was able to slightly beat my best uniform layer model by my decreasing model, but not by much.  I also only got to this performance by greatly restricting the number of layers for both the decreasing and increasing.  Generally the increasing did worse than the increasing, however their \n",
    "performances were always on average to better than average for the uniform layer models tested.  "
   ]
  },
  {
   "cell_type": "markdown",
   "id": "abf5b43e-a02c-4d8b-83d2-530354dcfe67",
   "metadata": {},
   "source": [
    "## Problem 5:"
   ]
  },
  {
   "cell_type": "code",
   "execution_count": null,
   "id": "c0679663-db3f-4c10-9497-0778b74652e4",
   "metadata": {},
   "outputs": [
    {
     "name": "stdout",
     "output_type": "stream",
     "text": [
      "epochs: 1 total Loss over Batches: 9858.104459446971 test loss: 2.3075947761535645\n",
      "epochs: 2 total Loss over Batches: 5191.653352875321 test loss: 0.1725383847951889\n",
      "epochs: 3 total Loss over Batches: 3993.7492698884307 test loss: 0.21757301688194275\n",
      "epochs: 4 total Loss over Batches: 3313.0694510769463 test loss: 0.13155031204223633\n",
      "epochs: 5 total Loss over Batches: 2922.7617578137324 test loss: 0.11201583594083786\n",
      "epochs: 6 total Loss over Batches: 2478.5719642472723 test loss: 0.09563594311475754\n",
      "epochs: 7 total Loss over Batches: 2249.45192943444 test loss: 0.09406843781471252\n",
      "epochs: 8 total Loss over Batches: 2062.8408026408015 test loss: 0.09922480583190918\n"
     ]
    }
   ],
   "source": [
    "telemVect = [(13036.46961259842, 0.03382675722241402, 0.12305501848459244)]\n",
    "flag = 1\n",
    "for i in range(1,11): \n",
    "    model1 = badVGGDec()\n",
    "    telemVect.append(trainNetwork(model1, device, train_x, train_y, test_x, test_y, loss_function, optim.Adam, 2**i, 0.0004))\n",
    "        "
   ]
  },
  {
   "cell_type": "code",
   "execution_count": 22,
   "id": "b8f1799c-7866-49eb-b54d-a0b87a6f3339",
   "metadata": {},
   "outputs": [
    {
     "name": "stdout",
     "output_type": "stream",
     "text": [
      "[(13036.46961259842, 0.03382675722241402, 0.12305501848459244)]\n"
     ]
    }
   ],
   "source": [
    "print(telemVect)"
   ]
  },
  {
   "cell_type": "code",
   "execution_count": null,
   "id": "5cefafd9-eca1-4f86-9b45-5f340fd8c6a7",
   "metadata": {},
   "outputs": [],
   "source": [
    "plt.plot([i for i in range(11)],[telemVect[j][0] for j in range(11)],'o')\n",
    "plt.xlabel(\"log batch size\")\n",
    "\n",
    "plt.ylabel(\"training time (in seconds)\")"
   ]
  },
  {
   "cell_type": "code",
   "execution_count": null,
   "id": "207eafda-093f-4845-8394-9fd462df9348",
   "metadata": {},
   "outputs": [],
   "source": [
    "plt.plot([i for i in range(11)],[telemVect[j][1] for j in range(11)],'o')\n",
    "plt.xlabel(\"log batch size\")\n",
    "\n",
    "plt.ylabel(\"training loss\")"
   ]
  },
  {
   "cell_type": "code",
   "execution_count": null,
   "id": "b6a727c0-ba94-4fec-b8b0-ba6176d33cb3",
   "metadata": {},
   "outputs": [],
   "source": [
    "plt.plot([i for i in range(11)],[telemVect[j][2] for j in range(11)],'o')\n",
    "plt.xlabel(\"log batch size\")\n",
    "\n",
    "plt.ylabel(\"testing loss\")"
   ]
  },
  {
   "cell_type": "markdown",
   "id": "96a40bca-21b1-457e-a3cf-36cf662f2391",
   "metadata": {},
   "source": [
    "## Problem 6:"
   ]
  },
  {
   "cell_type": "markdown",
   "id": "1e46d538-dc36-4c4a-b80d-03e55da2a1b3",
   "metadata": {},
   "source": [
    "Due to the insanity of the run time for a batch size of 1, I'm going to start at a batch size of $32$ and double from there for \n",
    "sgd, and compare between adam and SGD"
   ]
  },
  {
   "cell_type": "code",
   "execution_count": null,
   "id": "4f13c7e5-c933-41e9-a1fc-e055160c3d4b",
   "metadata": {},
   "outputs": [],
   "source": [
    "telemVectSGD = []\n",
    "for i in range(0,11):\n",
    "    model1 = badVGGDec()\n",
    "    telemVectSGD.append(trainNetwork(model1, device, train_x, train_y, test_x, test_y, loss_function, optim.SGD, 2**i, 0.0004))"
   ]
  },
  {
   "cell_type": "code",
   "execution_count": null,
   "id": "bc9b49dd-7cb3-4ef6-878b-3d219505f48e",
   "metadata": {},
   "outputs": [],
   "source": [
    "plt.plot([i for i in range(5,11)],[telemVectSGD[j][0] for j in range(11)],'o')\n",
    "plt.xlabel(\"log batch size\")\n",
    "\n",
    "plt.ylabel(\"training time (SGD) (in seconds)\")"
   ]
  },
  {
   "cell_type": "code",
   "execution_count": null,
   "id": "3e35b133-c1c3-4bfc-94bb-18060455a5e1",
   "metadata": {},
   "outputs": [],
   "source": [
    "plt.plot([i for i in range(5,11)],[telemVectSGD[j][1] for j in range(11)],'o')\n",
    "plt.xlabel(\"log batch size\")\n",
    "\n",
    "plt.ylabel(\"training loss (SGD)\")"
   ]
  },
  {
   "cell_type": "code",
   "execution_count": null,
   "id": "c808cbc1-bd3c-4649-aad9-99f21e5ed9da",
   "metadata": {},
   "outputs": [],
   "source": [
    "plt.plot([i for i in range(5,11)],[telemVectSGD[j][2] for j in range(11)],'o')\n",
    "plt.xlabel(\"log batch size\")\n",
    "\n",
    "plt.ylabel(\"testing loss (SGD)\")"
   ]
  },
  {
   "cell_type": "markdown",
   "id": "0fdf4c0f-c19d-4d6c-8fcb-a56cb5bfd814",
   "metadata": {},
   "source": [
    "## Problem 7:"
   ]
  },
  {
   "cell_type": "code",
   "execution_count": null,
   "id": "dcf977ef-c46a-4204-9dd4-02156af7dbf3",
   "metadata": {},
   "outputs": [],
   "source": [
    "class badVGGDecACTIVE(nn.Module):\n",
    "    def __init__(self, activate):\n",
    "        super(badVGGDec, self).__init__()\n",
    "\n",
    "        self.layer_input = nn.Sequential(nn.Linear( in_features = 28*28*1, out_features = 95, bias=True ), nn.LayerNorm(95), activate)\n",
    "        self.layer_output = torch.nn.Linear( in_features = 82, out_features = 10, bias=True )\n",
    "        self.linears = nn.ModuleList([nn.Sequential(nn.Linear(95, 90), nn.LayerNorm(90), activate),\n",
    "                                      nn.Sequential(nn.Linear(90, 87), nn.LayerNorm(87), activate),\n",
    "                                      nn.Sequential(nn.Linear(87, 82), nn.LayerNorm(82), activate)])\n",
    "    def forward(self, input_tensor):\n",
    "        output = nn.Flatten()( input_tensor )\n",
    "        output = self.layer_input(output)\n",
    "        for l in self.linears:\n",
    "                output = l(output)\n",
    "        output = self.layer_output(output)\n",
    "        return output"
   ]
  },
  {
   "cell_type": "code",
   "execution_count": null,
   "id": "c906a71e-0b73-4448-8f4d-3eba0fb0fe90",
   "metadata": {},
   "outputs": [],
   "source": [
    "telemVectReLU = []\n",
    "telemVectSigmoid = []\n",
    "telemVectTanh = []\n",
    "for i in range(5,11)\n",
    "    modelReLU = badVGGDecACTIVE(nn.ReLU())\n",
    "    modelSigmoid = badVGGDecACTIVE(nn.Sigmoid())\n",
    "    modelTanh = badVGGDecACTIVE(nn.Tanh())\n",
    "    telemVectReLU.append(trainNetwork(modelReLU, device, train_x, train_y, test_x, test_y, loss_function, optim.Adam, 2**i, 0.0004))\n",
    "    telemVectSigmoid.append(trainNetwork(modelSigmoid, device, train_x, train_y, test_x, test_y, loss_function, optim.Adam, 2**i, 0.0004))\n",
    "    telemVectTanh.append(trainNetwork(modelTanh, device, train_x, train_y, test_x, test_y, loss_function, optim.Adam, 2**i, 0.0004))\n"
   ]
  },
  {
   "cell_type": "markdown",
   "id": "76510ae8-61fb-486f-94f9-41ac806c44d3",
   "metadata": {},
   "source": [
    "## Problem 8:"
   ]
  }
 ],
 "metadata": {
  "kernelspec": {
   "display_name": "Python 3 (ipykernel)",
   "language": "python",
   "name": "python3"
  },
  "language_info": {
   "codemirror_mode": {
    "name": "ipython",
    "version": 3
   },
   "file_extension": ".py",
   "mimetype": "text/x-python",
   "name": "python",
   "nbconvert_exporter": "python",
   "pygments_lexer": "ipython3",
   "version": "3.8.3"
  }
 },
 "nbformat": 4,
 "nbformat_minor": 5
}
