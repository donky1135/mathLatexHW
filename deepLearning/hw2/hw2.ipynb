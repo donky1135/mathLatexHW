{
 "cells": [
  {
   "cell_type": "markdown",
   "id": "91bd7ef4",
   "metadata": {},
   "source": [
    "# Problem 1:"
   ]
  },
  {
   "cell_type": "markdown",
   "id": "d96d3d81",
   "metadata": {},
   "source": [
    "Note for no layers, we have 784 inputs going to 10 outputs, and we assume a bias term per each.  This will yield \n",
    "$10 \\cdot 784 $ parameters, as we have each pixel weighted, and 10 outputs, with a further 10 bias terms, one for each \n",
    "output node.  Therefore there is a total of $7840 + 10 = 7850$ parameters when we don't include a hidden layer."
   ]
  },
  {
   "cell_type": "markdown",
   "id": "faf20ebc",
   "metadata": {},
   "source": [
    "If a model has $k$ hidden layers with $m$ nodes a piece we have the following calculation: For the first layer we have $784m + m$ parameters for intaking from the image to the first layer.  For the next $k-1$ layers, for each layer we have $m^2$ \n",
    "interconnects, and $m$ bias terms yielding $(k-1)(m^2 + m)$ parameters.  Finally we have $10m$ connections into the output layer, with an additionally $10$ bias.  Therefore, $$Params(m,k) = 784m + m + (k-1)(m^2 + m) + 10(m+1)$$."
   ]
  },
  {
   "cell_type": "markdown",
   "id": "476809af",
   "metadata": {},
   "source": [
    "# Problem 2:"
   ]
  },
  {
   "cell_type": "markdown",
   "id": "64fda411",
   "metadata": {},
   "source": [
    "For a given number of parameters P, we have the equation $784m + m + (k-1)(m^2 + m) + 10(m+1) = P.$  We can rearrange the equation to find that $k = \\frac{P-10}{m(m+1)} - \\frac{795}{m+1} + 1$.  In order to maximize/minimize the function \n",
    "we can take the m derivative, and set the numerator of the fraction equal to zero.  In this scenerio \n",
    "we have to solve the equation $0=-795m^2 + 2(P-10)m + (P-10)$.  This has the resulting $m$ values of \n",
    "$$ m = \\frac{1}{795} \\left(P-10 \\pm \\sqrt{(P-10)^2+795(P-10)} \\right) $$.  Note that for sufficently large $P$ that \n",
    "the square root will always be positive, thus we will always have two roots, a maximum and a minimum.  However, \n",
    "for the smaller of the two roots, the limit approaches -0.5, and since we know that by our model we have to have at least 1 parameter per layer implies that solving for $m=1$ will yield $k_p$.  For the smallest $k$, we know for the smaller root $m_b$ that $\\lim_{P \\to \\infty} k(m_b) = -1$.  Thus \n",
    "the smallest possible $k$ would have to be $k=1$.  Note that if $k_p$ is not an integer then one should round $k_p$ down since $m$ is already the \n",
    "correct integer of 1 then the actual number of used parameters falls \"under budget\".  "
   ]
  },
  {
   "cell_type": "markdown",
   "id": "a6968830-b954-40a9-8bd6-c5deeecafa28",
   "metadata": {
    "vscode": {
     "languageId": "plaintext"
    }
   },
   "source": [
    "# Problem 3:"
   ]
  },
  {
   "cell_type": "code",
   "execution_count": 2,
   "id": "35bb12e6-a7f1-42ff-ba7e-b4b488405a91",
   "metadata": {},
   "outputs": [],
   "source": [
    "def m_num(k,P):\n",
    "    if k == 1:\n",
    "        return (P-10) // 795\n",
    "    else:\n",
    "        return (int)(math.sqrt((794+k)**2 + 4*(P-10)*(k-1)))// (2*(k-1))"
   ]
  },
  {
   "cell_type": "code",
   "execution_count": 3,
   "id": "cc31a06f-7666-4878-b682-973212477a21",
   "metadata": {},
   "outputs": [
    {
     "name": "stdout",
     "output_type": "stream",
     "text": [
      "Using device: cuda\n"
     ]
    }
   ],
   "source": [
    "import torch\n",
    "import torchvision\n",
    "import torchvision.transforms as transforms\n",
    "import torchvision.datasets as datasets\n",
    "import matplotlib.pyplot as plt\n",
    "import numpy as np\n",
    "import torch.nn as nn\n",
    "import torch.optim as optim\n",
    "import random\n",
    "import math\n",
    "\n",
    "device = torch.device('cuda' if torch.cuda.is_available() else 'cpu')\n",
    "print('Using device:', device)"
   ]
  },
  {
   "cell_type": "code",
   "execution_count": 4,
   "id": "ff1ecff4-a10c-451e-9e1f-ee0971a4bedd",
   "metadata": {},
   "outputs": [],
   "source": [
    "trainset = datasets.MNIST(root='./data', train=True, download=True, transform=transforms.ToTensor())\n",
    "testset = datasets.MNIST(root='./data', train=False, download=True, transform=transforms.ToTensor())\n"
   ]
  },
  {
   "cell_type": "code",
   "execution_count": 5,
   "id": "0368690e-6fb3-411e-8894-545bfd8a6c04",
   "metadata": {},
   "outputs": [],
   "source": [
    "test_x = torch.Tensor( testset.data ) / 256.0 - 0.5\n",
    "test_x = test_x.to(device)\n",
    "test_y = torch.Tensor( testset.targets ).long()\n",
    "test_y = test_y.to(device)\n",
    "train_x = torch.Tensor( trainset.data ) / 256.0 - 0.5\n",
    "train_x = train_x.to(device)\n",
    "train_y = torch.Tensor( trainset.targets ).long()\n",
    "train_y = train_y.to(device)"
   ]
  },
  {
   "cell_type": "code",
   "execution_count": 6,
   "id": "3b6377a8-1311-4d31-b15c-7086f4b5fcf3",
   "metadata": {},
   "outputs": [],
   "source": [
    "def get_batch(x, y, batch_size):\n",
    "    n = x.shape[0]\n",
    "\n",
    "    batch_indices = random.sample( [ i for i in range(n) ], k = batch_size )\n",
    "\n",
    "    x_batch = x[ batch_indices ]\n",
    "    y_batch = y[ batch_indices ]\n",
    "\n",
    "    return x_batch, y_batch"
   ]
  },
  {
   "cell_type": "code",
   "execution_count": 7,
   "id": "cf9c2d23-6de6-490a-95bd-f0be6ae05d57",
   "metadata": {},
   "outputs": [],
   "source": [
    "class layerTesting(nn.Module):\n",
    "    def __init__(self,k,m):\n",
    "        super(layerTesting, self).__init__()\n",
    "\n",
    "        self.layer_input = torch.nn.Linear( in_features = 28*28*1, out_features = m, bias=True )\n",
    "        self.layer_output = torch.nn.Linear( in_features = m, out_features = 10, bias=True )\n",
    "        self.linears = nn.ModuleList([nn.Linear(m, m) for i in range(k-1)])\n",
    "        self.normalize = nn.LayerNorm(m)\n",
    "\n",
    "    def forward(self, input_tensor):\n",
    "        output = nn.Flatten()( input_tensor )\n",
    "        output = self.layer_input(output)\n",
    "        output = nn.ELU()(output)\n",
    "        output = self.normalize(output)\n",
    "        for l in self.linears:\n",
    "            output = l(output)\n",
    "            output = nn.ELU()(output)\n",
    "            output = self.normalize(output)\n",
    "        output = self.layer_output(output)\n",
    "        return output"
   ]
  },
  {
   "cell_type": "code",
   "execution_count": 8,
   "id": "b4f7904e-74d5-4c40-a80a-3555ba27285d",
   "metadata": {},
   "outputs": [],
   "source": [
    "class LinearSoftmaxRegression(nn.Module):\n",
    "    def __init__(self):\n",
    "        super(LinearSoftmaxRegression, self).__init__()\n",
    "\n",
    "        self.layer_1 = torch.nn.Linear( in_features = 28*28*1, out_features = 10, bias=True )\n",
    "\n",
    "    def forward(self, input_tensor):\n",
    "        flattened = nn.Flatten()( input_tensor )\n",
    "\n",
    "        logits = self.layer_1( flattened )\n",
    "\n",
    "        return logits\n",
    "\n",
    "        # NOTE: Correcting a mistake I made previously, I am outputing the results of a linear layer,\n",
    "        # For softmax to be applied elsewhere. Shiwei correctly pointed out that if we use the built in\n",
    "        # cross entropy loss function, it expects to receive these linear values, and will apply\n",
    "        # logOfSoftmax internally when calculating the loss, so that we don't have to.\n",
    "\n",
    "        # But if we want the probabilities, we do need to apply softmax"
   ]
  },
  {
   "cell_type": "code",
   "execution_count": 9,
   "id": "1fe7c3f7-4edc-4a5b-8971-939e11f90c45",
   "metadata": {},
   "outputs": [],
   "source": [
    "def confusion_matrix( model, x, y ):\n",
    "    identification_counts = np.zeros( shape = (10,10), dtype = np.int32 )\n",
    "    \n",
    "    logits = model.forward( x )\n",
    "    predicted_classes = torch.argmax( logits, dim = 1 )\n",
    "\n",
    "    n = x.shape[0]\n",
    "\n",
    "    for i in range(n):\n",
    "        actual_class = int( y[i].item() )\n",
    "        predicted_class = predicted_classes[i].item()\n",
    "        identification_counts[actual_class, predicted_class] += 1\n",
    "\n",
    "    return identification_counts"
   ]
  },
  {
   "cell_type": "code",
   "execution_count": 11,
   "id": "38314cfa-ace0-4c98-baa0-0351c8bf4ff9",
   "metadata": {},
   "outputs": [
    {
     "name": "stdout",
     "output_type": "stream",
     "text": [
      "Initial Confusion Matrix\n",
      "[[ 10  27  13  20   2 284  60 161 369  34]\n",
      " [  8   0   0 451   0 130 494   0  52   0]\n",
      " [ 10   1   0 230   0 221 243 121 206   0]\n",
      " [ 47  27   1  77   2 310 148  26 372   0]\n",
      " [  4  18   0  57   5 447 172   9 270   0]\n",
      " [ 30  38   1  22   2 447 166  44 142   0]\n",
      " [ 25   5   0  43   1 259 354 125 146   0]\n",
      " [ 40  75   0 143  10 143 442   2 171   2]\n",
      " [ 27   6   1 116   1 290  41  35 457   0]\n",
      " [ 15  31   1  47   2 430 131   3 349   0]]\n"
     ]
    }
   ],
   "source": [
    "model3 = layerTesting(3,m_num(3,100000))\n",
    "model3.to(device)\n",
    "loss_function = torch.nn.CrossEntropyLoss()\n",
    "\n",
    "print(\"Initial Confusion Matrix\")\n",
    "print( confusion_matrix( model3, test_x, test_y ) )"
   ]
  },
  {
   "cell_type": "markdown",
   "id": "e6dd8395-8e07-4689-ba5b-759aeea340fb",
   "metadata": {},
   "source": [
    "Based off of Dr.Cowan's suggestions, I'm using $P=100000$ and $k=1\\ldots 10$"
   ]
  },
  {
   "cell_type": "code",
   "execution_count": 12,
   "id": "3cf0b669-f66f-40f5-8b60-c2eda0b5309c",
   "metadata": {},
   "outputs": [
    {
     "name": "stdout",
     "output_type": "stream",
     "text": [
      "1 layer(s), total Loss over Batches: 117.06964395940304\n",
      "1 layer(s), total Loss over Batches: 70.60429352521896\n",
      "1 layer(s), total Loss over Batches: 61.5102037191391\n",
      "1 layer(s), total Loss over Batches: 52.71329865604639\n",
      "1 layer(s), total Loss over Batches: 45.71065382659435\n",
      "1 layer(s), total Loss over Batches: 39.896190501749516\n",
      "1 layer(s), total Loss over Batches: 33.85286169871688\n",
      "1 layer(s), total Loss over Batches: 30.32758166268468\n",
      "1 layer(s), total Loss over Batches: 24.785035204142332\n",
      "1 layer(s), total Loss over Batches: 23.931896209716797\n",
      "1 layer(s), total Loss over Batches: 22.247295025736094\n",
      "1 layer(s), total Loss over Batches: 19.903948541730642\n",
      "1 layer(s), total Loss over Batches: 18.489243168383837\n",
      "1 layer(s), total Loss over Batches: 17.714156134054065\n",
      "1 layer(s), total Loss over Batches: 15.916894627735019\n",
      "1 layer(s), total Loss over Batches: 14.08684323169291\n",
      "1 layer(s), total Loss over Batches: 13.337606210261583\n",
      "1 layer(s), total Loss over Batches: 12.04009018279612\n",
      "1 layer(s), total Loss over Batches: 11.801191508769989\n",
      "1 layer(s), total Loss over Batches: 10.04997458588332\n",
      "Current Confusion Matrix\n",
      "[[ 971    1    0    1    0    0    3    1    2    1]\n",
      " [   0 1121    2    2    0    1    3    0    6    0]\n",
      " [   5    1  996    9    1    0    3    9    7    1]\n",
      " [   0    0    1  995    0    3    0    3    5    3]\n",
      " [   1    0    3    0  937    0    3    3    1   34]\n",
      " [   4    0    0    7    1  871    2    2    2    3]\n",
      " [   6    3    0    0    5   13  927    0    4    0]\n",
      " [   1    1    7    4    0    0    0 1000    3   12]\n",
      " [   2    0    3    5    4    3    1    3  948    5]\n",
      " [   3    2    0    5    4    2    1    2    1  989]]\n",
      "\n",
      "2 layer(s), total Loss over Batches: 85.38971841335297\n",
      "2 layer(s), total Loss over Batches: 40.73843179643154\n",
      "2 layer(s), total Loss over Batches: 27.706841357052326\n",
      "2 layer(s), total Loss over Batches: 21.878696367144585\n",
      "2 layer(s), total Loss over Batches: 17.486464504152536\n",
      "2 layer(s), total Loss over Batches: 14.685323582962155\n",
      "2 layer(s), total Loss over Batches: 12.809410817921162\n",
      "2 layer(s), total Loss over Batches: 10.694638305343688\n",
      "2 layer(s), total Loss over Batches: 9.833968509919941\n",
      "2 layer(s), total Loss over Batches: 8.435695005580783\n",
      "2 layer(s), total Loss over Batches: 6.795865912921727\n",
      "2 layer(s), total Loss over Batches: 6.491763831116259\n",
      "2 layer(s), total Loss over Batches: 6.5429192231968045\n",
      "2 layer(s), total Loss over Batches: 4.964788680896163\n",
      "2 layer(s), total Loss over Batches: 4.40593624766916\n",
      "2 layer(s), total Loss over Batches: 4.872709356248379\n",
      "2 layer(s), total Loss over Batches: 4.367626374820247\n",
      "2 layer(s), total Loss over Batches: 3.3210695823654532\n",
      "2 layer(s), total Loss over Batches: 4.427401972003281\n",
      "2 layer(s), total Loss over Batches: 3.257534243981354\n",
      "Current Confusion Matrix\n",
      "[[ 973    0    1    0    0    1    2    1    1    1]\n",
      " [   0 1121    4    1    0    1    4    0    4    0]\n",
      " [   1    1 1017    0    4    0    3    3    3    0]\n",
      " [   1    0    7  992    0    2    0    1    3    4]\n",
      " [   0    1    2    1  965    0    4    1    1    7]\n",
      " [   3    0    0    9    2  864    8    1    3    2]\n",
      " [   2    2    0    0    4    1  948    0    1    0]\n",
      " [   1    4   10    1    2    0    0 1005    2    3]\n",
      " [   4    0    2    3    2    1    2    2  955    3]\n",
      " [   3    2    0    5    6    1    2    2    5  983]]\n",
      "\n",
      "3 layer(s), total Loss over Batches: 88.78311756253242\n",
      "3 layer(s), total Loss over Batches: 38.829535245895386\n",
      "3 layer(s), total Loss over Batches: 26.131853338330984\n",
      "3 layer(s), total Loss over Batches: 21.132500652223825\n",
      "3 layer(s), total Loss over Batches: 17.257720640860498\n",
      "3 layer(s), total Loss over Batches: 14.92600115481764\n",
      "3 layer(s), total Loss over Batches: 13.879514833912253\n",
      "3 layer(s), total Loss over Batches: 11.525505769997835\n",
      "3 layer(s), total Loss over Batches: 10.997013464570045\n",
      "3 layer(s), total Loss over Batches: 10.10518216714263\n",
      "3 layer(s), total Loss over Batches: 7.777494251728058\n",
      "3 layer(s), total Loss over Batches: 8.631398976780474\n",
      "3 layer(s), total Loss over Batches: 6.874691125936806\n",
      "3 layer(s), total Loss over Batches: 6.319163259118795\n",
      "3 layer(s), total Loss over Batches: 7.501037116162479\n",
      "3 layer(s), total Loss over Batches: 5.179358220426366\n",
      "3 layer(s), total Loss over Batches: 5.242844985798001\n",
      "3 layer(s), total Loss over Batches: 5.5756283877417445\n",
      "3 layer(s), total Loss over Batches: 4.833580562262796\n",
      "3 layer(s), total Loss over Batches: 5.15515618911013\n",
      "Current Confusion Matrix\n",
      "[[ 972    1    1    0    0    1    0    1    2    2]\n",
      " [   0 1128    0    4    0    0    1    1    1    0]\n",
      " [   0    0 1020    4    0    0    2    3    3    0]\n",
      " [   0    0    3  990    0    6    0    2    5    4]\n",
      " [   2    1    1    1  952    0    4    4    1   16]\n",
      " [   2    0    0    8    0  869    6    2    4    1]\n",
      " [   3    4    0    1    2    2  943    0    3    0]\n",
      " [   1    2    6    6    0    0    1 1004    4    4]\n",
      " [   3    0    2    7    0    2    1    2  954    3]\n",
      " [   3    2    0    3    3    2    0    4    3  989]]\n",
      "\n",
      "4 layer(s), total Loss over Batches: 88.67733136564493\n",
      "4 layer(s), total Loss over Batches: 38.7987045198679\n",
      "4 layer(s), total Loss over Batches: 27.53810752183199\n",
      "4 layer(s), total Loss over Batches: 20.87163694947958\n",
      "4 layer(s), total Loss over Batches: 17.89476791769266\n",
      "4 layer(s), total Loss over Batches: 16.106745986267924\n",
      "4 layer(s), total Loss over Batches: 14.001212413422763\n",
      "4 layer(s), total Loss over Batches: 12.46580751426518\n",
      "4 layer(s), total Loss over Batches: 11.168682233430445\n",
      "4 layer(s), total Loss over Batches: 10.284101076424122\n",
      "4 layer(s), total Loss over Batches: 8.659884728956968\n",
      "4 layer(s), total Loss over Batches: 9.167461581528187\n",
      "4 layer(s), total Loss over Batches: 7.947048665955663\n",
      "4 layer(s), total Loss over Batches: 7.80230610165745\n",
      "4 layer(s), total Loss over Batches: 6.39557142695412\n",
      "4 layer(s), total Loss over Batches: 6.0367275308817625\n",
      "4 layer(s), total Loss over Batches: 6.456485101953149\n",
      "4 layer(s), total Loss over Batches: 6.2169826603494585\n",
      "4 layer(s), total Loss over Batches: 5.272232812829316\n",
      "4 layer(s), total Loss over Batches: 4.241883374983445\n",
      "Current Confusion Matrix\n",
      "[[ 971    1    1    0    0    1    2    1    2    1]\n",
      " [   0 1132    1    0    0    0    1    0    1    0]\n",
      " [   3    2 1020    1    1    0    1    3    1    0]\n",
      " [   0    2   13  958    0   21    0    1   12    3]\n",
      " [   3    2    7    0  933    3    3    2    8   21]\n",
      " [   2    0    0    2    0  882    4    1    1    0]\n",
      " [   3    4    2    0    1    3  944    0    1    0]\n",
      " [   2    7   17    1    0    0    0  987    5    9]\n",
      " [   2    1    3    1    0    3    2    2  958    2]\n",
      " [   2    2    1    0    3    9    2    0   16  974]]\n",
      "\n",
      "5 layer(s), total Loss over Batches: 89.1308246999979\n",
      "5 layer(s), total Loss over Batches: 36.956029150635004\n",
      "5 layer(s), total Loss over Batches: 29.37217130884528\n",
      "5 layer(s), total Loss over Batches: 21.67424213141203\n",
      "5 layer(s), total Loss over Batches: 20.745128087699413\n",
      "5 layer(s), total Loss over Batches: 15.612670563161373\n",
      "5 layer(s), total Loss over Batches: 14.08331597596407\n",
      "5 layer(s), total Loss over Batches: 13.665844480507076\n",
      "5 layer(s), total Loss over Batches: 12.066499276086688\n",
      "5 layer(s), total Loss over Batches: 10.871633927803487\n",
      "5 layer(s), total Loss over Batches: 9.877996182069182\n",
      "5 layer(s), total Loss over Batches: 9.144358521793038\n",
      "5 layer(s), total Loss over Batches: 8.450718745589256\n",
      "5 layer(s), total Loss over Batches: 7.871814219281077\n",
      "5 layer(s), total Loss over Batches: 6.976352026918903\n",
      "5 layer(s), total Loss over Batches: 8.888279252685606\n",
      "5 layer(s), total Loss over Batches: 6.285314180189744\n",
      "5 layer(s), total Loss over Batches: 5.934999496908858\n",
      "5 layer(s), total Loss over Batches: 5.598659414914437\n",
      "5 layer(s), total Loss over Batches: 6.1645331250038\n",
      "Current Confusion Matrix\n",
      "[[ 965    1    5    0    0    1    4    1    1    2]\n",
      " [   0 1128    3    1    0    0    1    2    0    0]\n",
      " [   4    1 1023    0    1    0    1    1    1    0]\n",
      " [   0    0   11  988    0    2    0    3    2    4]\n",
      " [   1    0    4    0  966    0    5    2    0    4]\n",
      " [   2    0    0    6    2  874    5    1    1    1]\n",
      " [   2    3    2    0    3    8  940    0    0    0]\n",
      " [   0    1   24    2    0    0    1  993    3    4]\n",
      " [   1    0    8   10    1    8    3    3  936    4]\n",
      " [   3    3    2    7   14    0    2    8    0  970]]\n",
      "\n",
      "6 layer(s), total Loss over Batches: 95.66580751538277\n",
      "6 layer(s), total Loss over Batches: 38.6098236143589\n",
      "6 layer(s), total Loss over Batches: 28.28706021606922\n",
      "6 layer(s), total Loss over Batches: 23.347686709836125\n",
      "6 layer(s), total Loss over Batches: 20.62012585066259\n",
      "6 layer(s), total Loss over Batches: 17.241883715614676\n",
      "6 layer(s), total Loss over Batches: 15.052377653308213\n",
      "6 layer(s), total Loss over Batches: 14.421692690812051\n",
      "6 layer(s), total Loss over Batches: 13.016519781202078\n",
      "6 layer(s), total Loss over Batches: 12.007848136126995\n",
      "6 layer(s), total Loss over Batches: 10.924053960479796\n",
      "6 layer(s), total Loss over Batches: 10.214128280058503\n",
      "6 layer(s), total Loss over Batches: 9.792128501459956\n",
      "6 layer(s), total Loss over Batches: 8.953086835797876\n",
      "6 layer(s), total Loss over Batches: 7.540204589720815\n",
      "6 layer(s), total Loss over Batches: 8.08989135781303\n",
      "6 layer(s), total Loss over Batches: 7.470129601075314\n",
      "6 layer(s), total Loss over Batches: 6.487635761266574\n",
      "6 layer(s), total Loss over Batches: 6.963119306601584\n",
      "6 layer(s), total Loss over Batches: 6.194967687712051\n",
      "Current Confusion Matrix\n",
      "[[ 973    0    0    0    1    0    1    0    2    3]\n",
      " [   2 1128    0    0    0    0    1    1    1    2]\n",
      " [   7    5  988    7    2    0    3    8    8    4]\n",
      " [   0    1    1  979    0    3    0    7    6   13]\n",
      " [   1    0    7    0  953    1    3    4    0   13]\n",
      " [   3    1    0   11    0  848    5    1    7   16]\n",
      " [   5    3    0    1    5    2  938    0    4    0]\n",
      " [   0    5    7    1    1    0    0  983    1   30]\n",
      " [   4    1    2    2    7    3    1    2  940   12]\n",
      " [   2    1    0    1    8    1    1    1    0  994]]\n",
      "\n",
      "7 layer(s), total Loss over Batches: 93.72475049644709\n",
      "7 layer(s), total Loss over Batches: 39.03898410499096\n",
      "7 layer(s), total Loss over Batches: 30.5653932467103\n",
      "7 layer(s), total Loss over Batches: 23.45578157156706\n",
      "7 layer(s), total Loss over Batches: 19.901955392211676\n",
      "7 layer(s), total Loss over Batches: 17.56513655744493\n",
      "7 layer(s), total Loss over Batches: 16.35001834668219\n",
      "7 layer(s), total Loss over Batches: 14.5791802033782\n",
      "7 layer(s), total Loss over Batches: 14.294213741086423\n",
      "7 layer(s), total Loss over Batches: 13.315793028101325\n",
      "7 layer(s), total Loss over Batches: 10.925079744309187\n",
      "7 layer(s), total Loss over Batches: 12.032539002597332\n",
      "7 layer(s), total Loss over Batches: 9.309157442301512\n",
      "7 layer(s), total Loss over Batches: 9.31498787086457\n",
      "7 layer(s), total Loss over Batches: 9.299844137392938\n",
      "7 layer(s), total Loss over Batches: 8.721339367330074\n",
      "7 layer(s), total Loss over Batches: 9.412701916415244\n",
      "7 layer(s), total Loss over Batches: 8.573896567104384\n",
      "7 layer(s), total Loss over Batches: 6.040356137789786\n",
      "7 layer(s), total Loss over Batches: 7.224296289496124\n",
      "Current Confusion Matrix\n",
      "[[ 975    1    0    0    1    0    1    0    1    1]\n",
      " [   0 1127    0    3    1    0    1    0    3    0]\n",
      " [   4    2  994    6    4    0    3    9   10    0]\n",
      " [   0    0    2  995    0    2    0    5    3    3]\n",
      " [   0    0    1    0  967    0    5    8    1    0]\n",
      " [   3    0    0    9    1  871    3    1    3    1]\n",
      " [   2    2    0    1    4    3  944    0    2    0]\n",
      " [   1    6    7    1    3    0    0 1007    2    1]\n",
      " [   0    0    1    5    2    6    1    3  954    2]\n",
      " [   4    2    0    6   18    2    4   11    7  955]]\n",
      "\n",
      "8 layer(s), total Loss over Batches: 94.2525414377451\n",
      "8 layer(s), total Loss over Batches: 39.3185104355216\n",
      "8 layer(s), total Loss over Batches: 27.87123753875494\n",
      "8 layer(s), total Loss over Batches: 23.589765422046185\n",
      "8 layer(s), total Loss over Batches: 20.35750076547265\n",
      "8 layer(s), total Loss over Batches: 17.578647984191775\n",
      "8 layer(s), total Loss over Batches: 16.385086378082633\n",
      "8 layer(s), total Loss over Batches: 15.620522557757795\n",
      "8 layer(s), total Loss over Batches: 13.477696226909757\n",
      "8 layer(s), total Loss over Batches: 12.255784975364804\n",
      "8 layer(s), total Loss over Batches: 12.398288340307772\n",
      "8 layer(s), total Loss over Batches: 12.125199251808226\n",
      "8 layer(s), total Loss over Batches: 12.470038881525397\n",
      "8 layer(s), total Loss over Batches: 9.014221052639186\n",
      "8 layer(s), total Loss over Batches: 9.460203102324158\n",
      "8 layer(s), total Loss over Batches: 9.051593331620097\n",
      "8 layer(s), total Loss over Batches: 8.881543942261487\n",
      "8 layer(s), total Loss over Batches: 7.970928394468501\n",
      "8 layer(s), total Loss over Batches: 8.262173425871879\n",
      "8 layer(s), total Loss over Batches: 7.783812558744103\n",
      "Current Confusion Matrix\n",
      "[[ 970    0    2    0    0    0    1    0    6    1]\n",
      " [   0 1128    0    0    0    1    2    3    0    1]\n",
      " [   1    4 1015    2    3    1    1    1    4    0]\n",
      " [   2    1    5  958    0   29    0    2    5    8]\n",
      " [   1    0    2    0  952    0    4    4    0   19]\n",
      " [   2    0    0    3    0  873    4    0    7    3]\n",
      " [   5    3    1    1    1    4  941    0    2    0]\n",
      " [   2    3    8    1    0    0    0  992   10   12]\n",
      " [   0    0    3    0    0    1    0    2  966    2]\n",
      " [   2    2    0    0    6    5    2    2    9  981]]\n",
      "\n",
      "9 layer(s), total Loss over Batches: 93.88425904512405\n",
      "9 layer(s), total Loss over Batches: 38.86909735202789\n",
      "9 layer(s), total Loss over Batches: 29.270908303558826\n",
      "9 layer(s), total Loss over Batches: 25.079274754971266\n",
      "9 layer(s), total Loss over Batches: 21.641668451949954\n",
      "9 layer(s), total Loss over Batches: 18.910276466980577\n",
      "9 layer(s), total Loss over Batches: 17.170744577422738\n",
      "9 layer(s), total Loss over Batches: 16.485228080302477\n",
      "9 layer(s), total Loss over Batches: 14.171441148035228\n",
      "9 layer(s), total Loss over Batches: 14.337712035514414\n",
      "9 layer(s), total Loss over Batches: 12.345505461096764\n",
      "9 layer(s), total Loss over Batches: 11.89005919592455\n",
      "9 layer(s), total Loss over Batches: 10.946653596591204\n",
      "9 layer(s), total Loss over Batches: 10.90982573106885\n",
      "9 layer(s), total Loss over Batches: 11.545822677202523\n",
      "9 layer(s), total Loss over Batches: 10.08205938898027\n",
      "9 layer(s), total Loss over Batches: 9.045361033640802\n",
      "9 layer(s), total Loss over Batches: 7.57949676271528\n",
      "9 layer(s), total Loss over Batches: 8.149946200661361\n",
      "9 layer(s), total Loss over Batches: 8.383198027033359\n",
      "Current Confusion Matrix\n",
      "[[ 973    1    0    1    1    0    1    0    2    1]\n",
      " [   3 1123    1    2    1    0    1    2    1    1]\n",
      " [   5    0  990   16    1    0    0   16    4    0]\n",
      " [   4    1    4  975    0    4    0    7   11    4]\n",
      " [   2    1    3    0  943    0    1    3    1   28]\n",
      " [   3    0    0   21    0  848    6    2    6    6]\n",
      " [   5    4    1    1    8    4  931    0    4    0]\n",
      " [   2    3    3    3    2    0    0 1002    3   10]\n",
      " [   3    0    2    3    0    1    0    5  956    4]\n",
      " [   5    0    0    4    3    2    1    1    5  988]]\n",
      "\n",
      "10 layer(s), total Loss over Batches: 100.71893653273582\n",
      "10 layer(s), total Loss over Batches: 41.770766697824\n",
      "10 layer(s), total Loss over Batches: 30.82134300097823\n",
      "10 layer(s), total Loss over Batches: 26.058751165866852\n",
      "10 layer(s), total Loss over Batches: 23.62414000928402\n",
      "10 layer(s), total Loss over Batches: 21.515163630247116\n",
      "10 layer(s), total Loss over Batches: 18.28835378587246\n",
      "10 layer(s), total Loss over Batches: 15.77194345369935\n",
      "10 layer(s), total Loss over Batches: 15.516982172615826\n",
      "10 layer(s), total Loss over Batches: 14.631810002028942\n",
      "10 layer(s), total Loss over Batches: 12.734329499304295\n",
      "10 layer(s), total Loss over Batches: 13.522727988660336\n",
      "10 layer(s), total Loss over Batches: 12.247738484293222\n",
      "10 layer(s), total Loss over Batches: 11.198255891911685\n",
      "10 layer(s), total Loss over Batches: 10.246037976350635\n",
      "10 layer(s), total Loss over Batches: 11.100698697846383\n",
      "10 layer(s), total Loss over Batches: 9.475206077564508\n",
      "10 layer(s), total Loss over Batches: 8.87517643161118\n",
      "10 layer(s), total Loss over Batches: 8.679981998866424\n",
      "10 layer(s), total Loss over Batches: 8.483681324636564\n",
      "Current Confusion Matrix\n",
      "[[ 973    0    0    1    0    1    3    0    1    1]\n",
      " [   0 1127    1    2    0    2    2    0    1    0]\n",
      " [   2    1 1021    2    2    0    1    3    0    0]\n",
      " [   2    0    7  985    0    7    0    2    5    2]\n",
      " [   0    0    2    0  962    0    6    2    0   10]\n",
      " [   2    0    0    6    0  871    6    1    3    3]\n",
      " [   4    3    0    1    5    5  939    0    1    0]\n",
      " [   0   12   13    3    0    0    1  987    2   10]\n",
      " [   5    0    4    8    2    2    2    3  946    2]\n",
      " [   2    2    0    4    5    1    1    1    3  990]]\n",
      "\n"
     ]
    }
   ],
   "source": [
    "P = 100000\n",
    "batch_size = 256\n",
    "finalLossTest = []\n",
    "finalLossTrain = []\n",
    "for k in range(1,10+1):\n",
    "    model = layerTesting(k,m_num(k,P))\n",
    "    model = model.to(device)\n",
    "    optimizer = optim.Adam(model.parameters(), lr = 0.0005 )\n",
    "    for epochs in range(20):\n",
    "        total_loss = 0\n",
    "        for batch in range( train_x.shape[0] // batch_size ):\n",
    "            x_batch, y_batch = get_batch(train_x, train_y, batch_size)\n",
    "            \n",
    "            optimizer.zero_grad()\n",
    "    \n",
    "            logits = model( x_batch )\n",
    "            loss = loss_function( logits, y_batch )\n",
    "    \n",
    "            loss.backward()\n",
    "            optimizer.step()\n",
    "    \n",
    "            total_loss += loss.item()\n",
    "    \n",
    "        print( k,\"layer(s), total Loss over Batches:\",total_loss )\n",
    "    finalLossTest.append(loss_function(model(test_x), test_y))\n",
    "    finalLossTrain.append(loss_function(model(train_x), train_y))\n",
    "    print(\"Current Confusion Matrix\")\n",
    "    print( confusion_matrix( model, test_x, test_y ) )\n",
    "    print()"
   ]
  },
  {
   "cell_type": "code",
   "execution_count": 88,
   "id": "70c1c91f-7abd-41a8-a4c4-80226205b64c",
   "metadata": {},
   "outputs": [
    {
     "name": "stdout",
     "output_type": "stream",
     "text": [
      "0.08009275794029236\n"
     ]
    }
   ],
   "source": [
    "print(finalLoss[1].item())"
   ]
  },
  {
   "cell_type": "code",
   "execution_count": 90,
   "id": "2c120e3c-6b5e-4c53-91ff-c149ed8abaad",
   "metadata": {},
   "outputs": [
    {
     "data": {
      "text/plain": [
       "Text(0, 0.5, 'testing loss')"
      ]
     },
     "execution_count": 90,
     "metadata": {},
     "output_type": "execute_result"
    },
    {
     "data": {
      "image/png": "[encoded data removed]",
      "text/plain": [
       "<Figure size 640x480 with 1 Axes>"
      ]
     },
     "metadata": {},
     "output_type": "display_data"
    }
   ],
   "source": [
    "plt.plot([i for i in range(1,11)],[j.item() for j in finalLossTest],'o')\n",
    "plt.xlabel(\"k values\")\n",
    "plt.ylabel(\"testing loss\")"
   ]
  },
  {
   "cell_type": "code",
   "execution_count": 13,
   "id": "8c4adee1-3a66-4c24-a11b-5622251ec441",
   "metadata": {},
   "outputs": [
    {
     "data": {
      "text/plain": [
       "Text(0, 0.5, 'training loss')"
      ]
     },
     "execution_count": 13,
     "metadata": {},
     "output_type": "execute_result"
    },
    {
     "data": {
      "image/png": "[encoded data removed]",
      "text/plain": [
       "<Figure size 640x480 with 1 Axes>"
      ]
     },
     "metadata": {},
     "output_type": "display_data"
    }
   ],
   "source": [
    "plt.plot([i for i in range(1,11)],[j.item() for j in finalLossTrain],'o')\n",
    "plt.xlabel(\"k values\")\n",
    "plt.ylabel(\"training loss\")"
   ]
  },
  {
   "cell_type": "markdown",
   "id": "ff4ea849-571a-43dd-b48d-05c0bab30963",
   "metadata": {},
   "source": [
    "Now for comparison with the no hidden layers linear model:"
   ]
  }
 ],
 "metadata": {
  "kernelspec": {
   "display_name": "Python 3 (ipykernel)",
   "language": "python",
   "name": "python3"
  },
  "language_info": {
   "codemirror_mode": {
    "name": "ipython",
    "version": 3
   },
   "file_extension": ".py",
   "mimetype": "text/x-python",
   "name": "python",
   "nbconvert_exporter": "python",
   "pygments_lexer": "ipython3",
   "version": "3.8.3"
  }
 },
 "nbformat": 4,
 "nbformat_minor": 5
}
