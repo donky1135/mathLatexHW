{
 "cells": [
  {
   "cell_type": "code",
   "execution_count": 5,
   "id": "51a006c5",
   "metadata": {},
   "outputs": [],
   "source": [
    "#computational graph\n",
    "#x = a * b,  y = x *5\n",
    "#then pytorch will track the computational graph, and\n",
    "# a --\\/\n",
    "#      * x --> * y\n",
    "# b --/\\      |\n",
    "# 5 ----------|\n",
    "#pytorch at each level will compute d out/d node, and output that as node.grad\n",
    "# this is computed by y.backwards()\n"
   ]
  },
  {
   "cell_type": "code",
   "execution_count": 6,
   "id": "ff4dbfb4",
   "metadata": {},
   "outputs": [],
   "source": [
    "import torch"
   ]
  },
  {
   "cell_type": "code",
   "execution_count": 7,
   "id": "861be4c8",
   "metadata": {},
   "outputs": [],
   "source": [
    "def generate_data(n):\n",
    "    xRaw = torch.randN((n,2)) #generates n normally distributed samples with 2 dimensions\n",
    "    x = torch.ones((n,3)) #3 element vector with 1s\n",
    "    x[:,1] = xRaw[:,0]\n",
    "    x[:,2] = xRaw[:,1]\n",
    "    y = torch.zeros((n,1)) \n",
    "    for i in range(n):\n",
    "        noise = (torch.randn(1) * 0.1).item()\n",
    "        \n",
    "        \n",
    "        if 0 * x[i,0] + 1 * x[i,1] + 1 * x[i,2] + noise > 0.5:\n",
    "            y[i,0] = 1\n",
    "        else: \n",
    "            y[i,0] = 0\n",
    "        \n",
    "    return x,y\n",
    "        \n"
   ]
  },
  {
   "cell_type": "code",
   "execution_count": 8,
   "id": "44335289",
   "metadata": {},
   "outputs": [],
   "source": [
    "import matplotlib.pyplot as plt"
   ]
  },
  {
   "cell_type": "code",
   "execution_count": null,
   "id": "0090220a",
   "metadata": {},
   "outputs": [],
   "source": []
  },
  {
   "cell_type": "code",
   "execution_count": null,
   "id": "dcb1e5c4",
   "metadata": {},
   "outputs": [],
   "source": []
  }
 ],
 "metadata": {
  "kernelspec": {
   "display_name": "Python 3 (ipykernel)",
   "language": "python",
   "name": "python3"
  },
  "language_info": {
   "codemirror_mode": {
    "name": "ipython",
    "version": 3
   },
   "file_extension": ".py",
   "mimetype": "text/x-python",
   "name": "python",
   "nbconvert_exporter": "python",
   "pygments_lexer": "ipython3",
   "version": "3.10.12"
  }
 },
 "nbformat": 4,
 "nbformat_minor": 5
}
