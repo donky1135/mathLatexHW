{
 "cells": [
  {
   "cell_type": "code",
   "execution_count": 1,
   "metadata": {
    "id": "qZYBZrpkSKk3"
   },
   "outputs": [
    {
     "ename": "ModuleNotFoundError",
     "evalue": "No module named 'torchvision'",
     "output_type": "error",
     "traceback": [
      "\u001b[1;31m---------------------------------------------------------------------------\u001b[0m",
      "\u001b[1;31mModuleNotFoundError\u001b[0m                       Traceback (most recent call last)",
      "\u001b[1;32m~\\AppData\\Local\\Temp/ipykernel_2032/1746464411.py\u001b[0m in \u001b[0;36m<module>\u001b[1;34m\u001b[0m\n\u001b[0;32m      1\u001b[0m \u001b[1;32mimport\u001b[0m \u001b[0mtorch\u001b[0m\u001b[1;33m\u001b[0m\u001b[1;33m\u001b[0m\u001b[0m\n\u001b[1;32m----> 2\u001b[1;33m \u001b[1;32mimport\u001b[0m \u001b[0mtorchvision\u001b[0m\u001b[1;33m\u001b[0m\u001b[1;33m\u001b[0m\u001b[0m\n\u001b[0m\u001b[0;32m      3\u001b[0m \u001b[1;32mimport\u001b[0m \u001b[0mtorchvision\u001b[0m\u001b[1;33m.\u001b[0m\u001b[0mtransforms\u001b[0m \u001b[1;32mas\u001b[0m \u001b[0mtransforms\u001b[0m\u001b[1;33m\u001b[0m\u001b[1;33m\u001b[0m\u001b[0m\n\u001b[0;32m      4\u001b[0m \u001b[1;32mimport\u001b[0m \u001b[0mtorchvision\u001b[0m\u001b[1;33m.\u001b[0m\u001b[0mdatasets\u001b[0m \u001b[1;32mas\u001b[0m \u001b[0mdatasets\u001b[0m\u001b[1;33m\u001b[0m\u001b[1;33m\u001b[0m\u001b[0m\n\u001b[0;32m      5\u001b[0m \u001b[1;32mimport\u001b[0m \u001b[0mmatplotlib\u001b[0m\u001b[1;33m.\u001b[0m\u001b[0mpyplot\u001b[0m \u001b[1;32mas\u001b[0m \u001b[0mplt\u001b[0m\u001b[1;33m\u001b[0m\u001b[1;33m\u001b[0m\u001b[0m\n",
      "\u001b[1;31mModuleNotFoundError\u001b[0m: No module named 'torchvision'"
     ]
    }
   ],
   "source": [
    "import torch\n",
    "import torchvision\n",
    "import torchvision.transforms as transforms\n",
    "import torchvision.datasets as datasets\n",
    "import matplotlib.pyplot as plt\n",
    "import numpy as np\n",
    "import torch.nn as nn\n",
    "import torch.optim as optim\n",
    "import random"
   ]
  },
  {
   "cell_type": "code",
   "execution_count": 180,
   "metadata": {
    "id": "7tpXZEJ-SP27"
   },
   "outputs": [],
   "source": [
    "trainset = datasets.MNIST(root='./data', train=True, download=True, transform=transforms.ToTensor())\n",
    "testset = datasets.MNIST(root='./data', train=False, download=True, transform=transforms.ToTensor())\n",
    "\n",
    "# Note: Originally I planned to do this with the CIFAR data set but training was going too slowly\n",
    "# So sticking with MNIST, what we've been working with so far"
   ]
  },
  {
   "cell_type": "code",
   "execution_count": 181,
   "metadata": {
    "colab": {
     "base_uri": "https://localhost:8080/"
    },
    "id": "mdL7LYTrSZsT",
    "outputId": "1d1ba4f2-cb6d-4452-bb22-ed6a6e50e6d4"
   },
   "outputs": [
    {
     "data": {
      "text/plain": [
       "torch.Size([60000, 28, 28])"
      ]
     },
     "execution_count": 181,
     "metadata": {},
     "output_type": "execute_result"
    }
   ],
   "source": [
    "trainset.data.shape"
   ]
  },
  {
   "cell_type": "code",
   "execution_count": 182,
   "metadata": {
    "colab": {
     "base_uri": "https://localhost:8080/"
    },
    "id": "6FYKiDhHSeWV",
    "outputId": "ef266b21-ae86-47f5-c4a1-945917a887de"
   },
   "outputs": [
    {
     "data": {
      "text/plain": [
       "torch.Size([10000, 28, 28])"
      ]
     },
     "execution_count": 182,
     "metadata": {},
     "output_type": "execute_result"
    }
   ],
   "source": [
    "testset.data.shape"
   ]
  },
  {
   "cell_type": "code",
   "execution_count": 184,
   "metadata": {
    "colab": {
     "base_uri": "https://localhost:8080/"
    },
    "id": "2hOFmunq_sQT",
    "outputId": "ac034aa0-b072-477f-9924-5ed9f51bb1c0"
   },
   "outputs": [
    {
     "data": {
      "text/plain": [
       "tensor([[  0,   0,   0,   0,   0,   0,   0,   0,   0,   0,   0,   0,   0,   0,\n",
       "           0,   0,   0,   0,   0,   0,   0,   0,   0,   0,   0,   0,   0,   0],\n",
       "        [  0,   0,   0,   0,   0,   0,   0,   0,   0,   0,   0,   0,   0,   0,\n",
       "           0,   0,   0,   0,   0,   0,   0,   0,   0,   0,   0,   0,   0,   0],\n",
       "        [  0,   0,   0,   0,   0,   0,   0,   0,   0,   0,   0,   0,   0,   0,\n",
       "           0,   0,   0,   0,   0,   0,   0,   0,   0,   0,   0,   0,   0,   0],\n",
       "        [  0,   0,   0,   0,   0,   0,   0,   0,   0,   0,   0,   0,   0,   0,\n",
       "           0,   0,   0,   0,   0,   0,   0,   0,   0,   0,   0,   0,   0,   0],\n",
       "        [  0,   0,   0,   0,   0,   0,   0,   0,   0,   0,   0,   0,   0,   0,\n",
       "           0,   0,   0,   0,   0,   0,   0,   0,   0,   0,   0,   0,   0,   0],\n",
       "        [  0,   0,   0,   0,   0,   0,   0,   0,   0,   0,   0,   0,   0,   0,\n",
       "           0,   0,   0,   0,   0,   0,   0,   0,   0,   0,   0,   0,   0,   0],\n",
       "        [  0,   0,   0,   0,   0,   0,   0,   0,   0,   0,   0,   0,   0,   0,\n",
       "           0,   0,   0,   0,   0,   0,   0,   0,   0,   0,   0,   0,   0,   0],\n",
       "        [  0,   0,   0,   0,   0,   0,  84, 185, 159, 151,  60,  36,   0,   0,\n",
       "           0,   0,   0,   0,   0,   0,   0,   0,   0,   0,   0,   0,   0,   0],\n",
       "        [  0,   0,   0,   0,   0,   0, 222, 254, 254, 254, 254, 241, 198, 198,\n",
       "         198, 198, 198, 198, 198, 198, 170,  52,   0,   0,   0,   0,   0,   0],\n",
       "        [  0,   0,   0,   0,   0,   0,  67, 114,  72, 114, 163, 227, 254, 225,\n",
       "         254, 254, 254, 250, 229, 254, 254, 140,   0,   0,   0,   0,   0,   0],\n",
       "        [  0,   0,   0,   0,   0,   0,   0,   0,   0,   0,   0,  17,  66,  14,\n",
       "          67,  67,  67,  59,  21, 236, 254, 106,   0,   0,   0,   0,   0,   0],\n",
       "        [  0,   0,   0,   0,   0,   0,   0,   0,   0,   0,   0,   0,   0,   0,\n",
       "           0,   0,   0,   0,  83, 253, 209,  18,   0,   0,   0,   0,   0,   0],\n",
       "        [  0,   0,   0,   0,   0,   0,   0,   0,   0,   0,   0,   0,   0,   0,\n",
       "           0,   0,   0,  22, 233, 255,  83,   0,   0,   0,   0,   0,   0,   0],\n",
       "        [  0,   0,   0,   0,   0,   0,   0,   0,   0,   0,   0,   0,   0,   0,\n",
       "           0,   0,   0, 129, 254, 238,  44,   0,   0,   0,   0,   0,   0,   0],\n",
       "        [  0,   0,   0,   0,   0,   0,   0,   0,   0,   0,   0,   0,   0,   0,\n",
       "           0,   0,  59, 249, 254,  62,   0,   0,   0,   0,   0,   0,   0,   0],\n",
       "        [  0,   0,   0,   0,   0,   0,   0,   0,   0,   0,   0,   0,   0,   0,\n",
       "           0,   0, 133, 254, 187,   5,   0,   0,   0,   0,   0,   0,   0,   0],\n",
       "        [  0,   0,   0,   0,   0,   0,   0,   0,   0,   0,   0,   0,   0,   0,\n",
       "           0,   9, 205, 248,  58,   0,   0,   0,   0,   0,   0,   0,   0,   0],\n",
       "        [  0,   0,   0,   0,   0,   0,   0,   0,   0,   0,   0,   0,   0,   0,\n",
       "           0, 126, 254, 182,   0,   0,   0,   0,   0,   0,   0,   0,   0,   0],\n",
       "        [  0,   0,   0,   0,   0,   0,   0,   0,   0,   0,   0,   0,   0,   0,\n",
       "          75, 251, 240,  57,   0,   0,   0,   0,   0,   0,   0,   0,   0,   0],\n",
       "        [  0,   0,   0,   0,   0,   0,   0,   0,   0,   0,   0,   0,   0,  19,\n",
       "         221, 254, 166,   0,   0,   0,   0,   0,   0,   0,   0,   0,   0,   0],\n",
       "        [  0,   0,   0,   0,   0,   0,   0,   0,   0,   0,   0,   0,   3, 203,\n",
       "         254, 219,  35,   0,   0,   0,   0,   0,   0,   0,   0,   0,   0,   0],\n",
       "        [  0,   0,   0,   0,   0,   0,   0,   0,   0,   0,   0,   0,  38, 254,\n",
       "         254,  77,   0,   0,   0,   0,   0,   0,   0,   0,   0,   0,   0,   0],\n",
       "        [  0,   0,   0,   0,   0,   0,   0,   0,   0,   0,   0,  31, 224, 254,\n",
       "         115,   1,   0,   0,   0,   0,   0,   0,   0,   0,   0,   0,   0,   0],\n",
       "        [  0,   0,   0,   0,   0,   0,   0,   0,   0,   0,   0, 133, 254, 254,\n",
       "          52,   0,   0,   0,   0,   0,   0,   0,   0,   0,   0,   0,   0,   0],\n",
       "        [  0,   0,   0,   0,   0,   0,   0,   0,   0,   0,  61, 242, 254, 254,\n",
       "          52,   0,   0,   0,   0,   0,   0,   0,   0,   0,   0,   0,   0,   0],\n",
       "        [  0,   0,   0,   0,   0,   0,   0,   0,   0,   0, 121, 254, 254, 219,\n",
       "          40,   0,   0,   0,   0,   0,   0,   0,   0,   0,   0,   0,   0,   0],\n",
       "        [  0,   0,   0,   0,   0,   0,   0,   0,   0,   0, 121, 254, 207,  18,\n",
       "           0,   0,   0,   0,   0,   0,   0,   0,   0,   0,   0,   0,   0,   0],\n",
       "        [  0,   0,   0,   0,   0,   0,   0,   0,   0,   0,   0,   0,   0,   0,\n",
       "           0,   0,   0,   0,   0,   0,   0,   0,   0,   0,   0,   0,   0,   0]],\n",
       "       dtype=torch.uint8)"
      ]
     },
     "execution_count": 184,
     "metadata": {},
     "output_type": "execute_result"
    }
   ],
   "source": [
    "testset.data[0]"
   ]
  },
  {
   "cell_type": "code",
   "execution_count": 185,
   "metadata": {
    "id": "ACMEda_kSwWo"
   },
   "outputs": [],
   "source": [
    "def imshow(img):\n",
    "    img = img / 256\n",
    "    plt.imshow( img )\n",
    "    plt.show()"
   ]
  },
  {
   "cell_type": "code",
   "execution_count": 186,
   "metadata": {
    "colab": {
     "base_uri": "https://localhost:8080/",
     "height": 430
    },
    "id": "1bEQyoDpS0ws",
    "outputId": "fb3658b6-9d8b-475d-aac1-7c3c24934061"
   },
   "outputs": [
    {
     "data": {
      "image/png": "[encoded data removed]",
      "text/plain": [
       "<Figure size 640x480 with 1 Axes>"
      ]
     },
     "metadata": {},
     "output_type": "display_data"
    }
   ],
   "source": [
    "imshow( trainset.data[0] )"
   ]
  },
  {
   "cell_type": "code",
   "execution_count": 188,
   "metadata": {
    "id": "_wdXkSXLTT0R"
   },
   "outputs": [],
   "source": [
    "class LinearSoftmaxRegression(nn.Module):\n",
    "    def __init__(self):\n",
    "        super(LinearSoftmaxRegression, self).__init__()\n",
    "\n",
    "        self.layer_1 = torch.nn.Linear( in_features = 28*28*1, out_features = 10, bias=True )\n",
    "\n",
    "    def forward(self, input_tensor):\n",
    "        flattened = nn.Flatten()( input_tensor )\n",
    "\n",
    "        logits = self.layer_1( flattened )\n",
    "\n",
    "        return logits\n",
    "\n",
    "        # NOTE: Correcting a mistake I made previously, I am outputing the results of a linear layer,\n",
    "        # For softmax to be applied elsewhere. Shiwei correctly pointed out that if we use the built in\n",
    "        # cross entropy loss function, it expects to receive these linear values, and will apply\n",
    "        # logOfSoftmax internally when calculating the loss, so that we don't have to.\n",
    "\n",
    "        # But if we want the probabilities, we do need to apply softmax"
   ]
  },
  {
   "cell_type": "code",
   "execution_count": 189,
   "metadata": {
    "id": "K1RfcsAU9h4K"
   },
   "outputs": [],
   "source": [
    "def confusion_matrix( model, x, y ):\n",
    "    identification_counts = np.zeros( shape = (10,10), dtype = np.int32 )\n",
    "\n",
    "    logits = model( x )\n",
    "    predicted_classes = torch.argmax( logits, dim = 1 )\n",
    "\n",
    "    n = x.shape[0]\n",
    "\n",
    "    for i in range(n):\n",
    "        actual_class = int( y[i].item() )\n",
    "        predicted_class = predicted_classes[i].item()\n",
    "        identification_counts[actual_class, predicted_class] += 1\n",
    "\n",
    "    return identification_counts"
   ]
  },
  {
   "cell_type": "code",
   "execution_count": 190,
   "metadata": {
    "id": "I2YvxXqd-2df"
   },
   "outputs": [],
   "source": [
    "test_x = torch.Tensor( testset.data ) / 256.0 - 0.5\n",
    "test_y = torch.Tensor( testset.targets ).long()\n",
    "train_x = torch.Tensor( trainset.data ) / 256.0 - 0.5\n",
    "train_y = torch.Tensor( trainset.targets ).long()"
   ]
  },
  {
   "cell_type": "code",
   "execution_count": 172,
   "metadata": {
    "colab": {
     "base_uri": "https://localhost:8080/"
    },
    "id": "scqT_j_kA6OZ",
    "outputId": "aeab17e7-5c16-4015-bd10-149a7d330d7b"
   },
   "outputs": [
    {
     "data": {
      "text/plain": [
       "tensor([3, 8, 8,  ..., 5, 1, 7])"
      ]
     },
     "execution_count": 172,
     "metadata": {},
     "output_type": "execute_result"
    }
   ],
   "source": [
    "test_y"
   ]
  },
  {
   "cell_type": "code",
   "execution_count": 192,
   "metadata": {
    "colab": {
     "base_uri": "https://localhost:8080/"
    },
    "id": "wvsRDwWd9nVu",
    "outputId": "11f503a7-5417-4076-9b78-34e21c61a3f1"
   },
   "outputs": [
    {
     "name": "stdout",
     "output_type": "stream",
     "text": [
      "Initial Confusion Matrix\n",
      "[[  11   91   56    0   88  652    0   19   62    1]\n",
      " [   0    0    0    0    0 1135    0    0    0    0]\n",
      " [   9    4   88    0    0  843    9   24   35   20]\n",
      " [   0    0   38    0    0  924    3    6   31    8]\n",
      " [   0    1   12    0    0  954    0    0    4   11]\n",
      " [   3    9   14    0    1  857    0    1    4    3]\n",
      " [  15    3  365    0    1  556    1    9    4    4]\n",
      " [   0    1    1    0    0 1025    0    0    0    1]\n",
      " [   3    9   42    0    3  896    0    3   11    7]\n",
      " [   1    1   10    0    0  994    0    0    2    1]]\n"
     ]
    }
   ],
   "source": [
    "model = LinearSoftmaxRegression()\n",
    "\n",
    "loss_function = torch.nn.CrossEntropyLoss()\n",
    "\n",
    "print(\"Initial Confusion Matrix\")\n",
    "print( confusion_matrix( model, test_x, test_y ) )"
   ]
  },
  {
   "cell_type": "code",
   "execution_count": 196,
   "metadata": {
    "id": "-9wyoptT94uB"
   },
   "outputs": [],
   "source": [
    "batch_size = 128\n",
    "\n",
    "def get_batch(x, y, batch_size):\n",
    "    n = x.shape[0]\n",
    "\n",
    "    batch_indices = random.sample( [ i for i in range(n) ], k = batch_size )\n",
    "\n",
    "    x_batch = x[ batch_indices ]\n",
    "    y_batch = y[ batch_indices ]\n",
    "\n",
    "    return x_batch, y_batch"
   ]
  },
  {
   "cell_type": "code",
   "execution_count": 197,
   "metadata": {
    "id": "Q87vmTy6EivE"
   },
   "outputs": [],
   "source": [
    "optimizer = optim.Adam(model.parameters(), lr = 0.01 )"
   ]
  },
  {
   "cell_type": "code",
   "execution_count": 205,
   "metadata": {
    "colab": {
     "base_uri": "https://localhost:8080/"
    },
    "id": "iJUd_QH3_Z_d",
    "outputId": "71f2e7ca-fa25-4e10-db40-23dfa43c9d79"
   },
   "outputs": [
    {
     "name": "stdout",
     "output_type": "stream",
     "text": [
      "Total Loss over Batches: 142.96164847165346\n",
      "Total Loss over Batches: 146.85888404399157\n",
      "Total Loss over Batches: 142.08966858685017\n",
      "Total Loss over Batches: 142.24016642570496\n",
      "Total Loss over Batches: 143.28396253287792\n",
      "Total Loss over Batches: 144.7485088557005\n",
      "Total Loss over Batches: 135.97335290163755\n",
      "Total Loss over Batches: 137.23502687364817\n",
      "Total Loss over Batches: 141.3939715474844\n",
      "Total Loss over Batches: 141.48023819178343\n",
      "Current Confusion Matrix\n",
      "[[ 886    0    8    8    0   26   35    9    4    4]\n",
      " [   0 1116    2    3    0    1    7    1    5    0]\n",
      " [   1    9  916   34    6    5   22   12   24    3]\n",
      " [   1    0    8  944    2   19    4   12   12    8]\n",
      " [   1    1    7    4  886    0   20   10    3   50]\n",
      " [   3    2    5   49    9  752   36    8   17   11]\n",
      " [   2    3    5    3    3    6  934    2    0    0]\n",
      " [   0    8   17   15    8    1    0  955    0   24]\n",
      " [   5   12   11   51    8   34   27   15  788   23]\n",
      " [   4    7    2   15   24    6    0   28    3  920]]\n",
      "\n"
     ]
    }
   ],
   "source": [
    "for epochs in range(10):\n",
    "    total_loss = 0\n",
    "    for batch in range( train_x.shape[0] // batch_size ):\n",
    "        x_batch, y_batch = get_batch(train_x, train_y, batch_size)\n",
    "\n",
    "        optimizer.zero_grad()\n",
    "\n",
    "        logits = model( x_batch )\n",
    "        loss = loss_function( logits, y_batch )\n",
    "\n",
    "        loss.backward()\n",
    "        optimizer.step()\n",
    "\n",
    "        total_loss += loss.item()\n",
    "\n",
    "    print( \"Total Loss over Batches:\",total_loss )\n",
    "print(\"Current Confusion Matrix\")\n",
    "print( confusion_matrix( model, test_x, test_y ) )\n",
    "print()"
   ]
  },
  {
   "cell_type": "code",
   "execution_count": 229,
   "metadata": {
    "id": "UyuMzBbU_j2c"
   },
   "outputs": [],
   "source": [
    "class SimpleCNNModel(nn.Module):\n",
    "  def __init__(self):\n",
    "    super(SimpleCNNModel, self).__init__()\n",
    "\n",
    "    self.conv_layer_1 = nn.Conv2d(in_channels = 1, out_channels = 5, kernel_size = 3, stride = 2, padding = \"valid\", bias=True)\n",
    "\n",
    "    self.linear_layer = torch.nn.Linear( in_features = 13*13*5, out_features = 10, bias=True )\n",
    "\n",
    "  def forward(self, input_tensor, verbose = False):\n",
    "    output = torch.reshape( input_tensor, (-1, 1, 28, 28) )\n",
    "    output = self.conv_layer_1( output )\n",
    "    if verbose:\n",
    "      print( output.shape )\n",
    "    output = nn.ReLU()( output )\n",
    "    output = nn.Flatten()( output )\n",
    "    if verbose:\n",
    "      print( output.shape )\n",
    "    output = self.linear_layer( output )\n",
    "    if verbose:\n",
    "      print( output.shape )\n",
    "    return output\n",
    "\n",
    "    # When the input comes in, we have N images, each 28 x 28 pixels\n",
    "    # The result of reshaping it is to make it N x 1 x 28 x 28 - the first index representing the number of channels of data\n",
    "    # In the CIFAR data which I'd intended to start with, the number of channels for each pixel is 3, since we have Red Blue Green\n",
    "    # for color data.\n",
    "\n",
    "    # The kernel of the convoltional layer is 3x3, so looking a 3x3 pixel paches at a time, and the stride is 2\n",
    "    # So that if we have input pixels\n",
    "    # a b c d q\n",
    "    # e f g h r\n",
    "    # i j k l s\n",
    "    # m n o p t\n",
    "    #  the first kernel is applied to (a,b,c/e,f,g/i,j,k), and the second one is applied to (c,d,q/g,h,r/k,l,s), etc\n",
    "\n",
    "    # Note that in the verbose mode, after the convolution layer is applied, we get an output of size\n",
    "    # [10000, 5, 13, 13])\n",
    "    # since we are computing 5 filters or kernels, at each of the 13 x 13 locations (coming from striding across 28 x 28 at stride 2)\n",
    "\n",
    "    # Worth experimenting with different kernel numbers and dimensions, and show them how the dimension of the output changes\n",
    "\n",
    "    # Once we have the convoltion applied, we flatten it, apply an activation function, and go through a linear layer to get 10 outputs\n",
    "\n",
    "    # One question you may get is about padding - padding refers to adding zeros on the outside boundary to adjust the shape as desired\n",
    "    # But in this case, valid gives no padding"
   ]
  },
  {
   "cell_type": "code",
   "execution_count": 244,
   "metadata": {
    "id": "BAT1-AliCjWl"
   },
   "outputs": [],
   "source": [
    "cnn_model = SimpleCNNModel()"
   ]
  },
  {
   "cell_type": "code",
   "execution_count": 245,
   "metadata": {
    "colab": {
     "base_uri": "https://localhost:8080/"
    },
    "id": "xqDZcZ3EQ8Fr",
    "outputId": "40490a4b-7651-4be9-f024-484f0d8ac7e4"
   },
   "outputs": [
    {
     "name": "stdout",
     "output_type": "stream",
     "text": [
      "SimpleCNNModel(\n",
      "  (conv_layer_1): Conv2d(1, 5, kernel_size=(3, 3), stride=(2, 2), padding=valid)\n",
      "  (linear_layer): Linear(in_features=845, out_features=10, bias=True)\n",
      ")\n"
     ]
    }
   ],
   "source": [
    "print( cnn_model )"
   ]
  },
  {
   "cell_type": "code",
   "execution_count": 246,
   "metadata": {
    "colab": {
     "base_uri": "https://localhost:8080/"
    },
    "id": "cutj3GM4C1BO",
    "outputId": "19412b05-7059-4ce4-e1c9-2ab6076422fb"
   },
   "outputs": [
    {
     "name": "stdout",
     "output_type": "stream",
     "text": [
      "torch.Size([10000, 5, 13, 13])\n",
      "torch.Size([10000, 845])\n",
      "torch.Size([10000, 10])\n"
     ]
    },
    {
     "data": {
      "text/plain": [
       "tensor([[-0.0294, -0.1354, -0.0121,  ..., -0.0560,  0.1276,  0.0249],\n",
       "        [ 0.0557, -0.1151,  0.0037,  ..., -0.1101,  0.1200,  0.0382],\n",
       "        [-0.0017, -0.2336, -0.0023,  ..., -0.0286,  0.1588,  0.0508],\n",
       "        ...,\n",
       "        [ 0.0440, -0.1301, -0.0213,  ..., -0.0756,  0.1521,  0.0294],\n",
       "        [-0.0364, -0.1387, -0.0494,  ..., -0.0485,  0.2238,  0.0363],\n",
       "        [-0.0875, -0.0741, -0.0480,  ..., -0.1541,  0.1741,  0.0697]],\n",
       "       grad_fn=<AddmmBackward0>)"
      ]
     },
     "execution_count": 246,
     "metadata": {},
     "output_type": "execute_result"
    }
   ],
   "source": [
    "cnn_model( test_x, verbose = True )"
   ]
  },
  {
   "cell_type": "code",
   "execution_count": 247,
   "metadata": {
    "id": "PCFDxYlrC8JF"
   },
   "outputs": [],
   "source": [
    "cnn_optimizer = optim.Adam(cnn_model.parameters(), lr = 0.01 )"
   ]
  },
  {
   "cell_type": "code",
   "execution_count": 248,
   "metadata": {
    "colab": {
     "base_uri": "https://localhost:8080/"
    },
    "id": "FGi50wpaGBKj",
    "outputId": "9ffc8d4d-808b-40e8-b617-e114b4045dcd"
   },
   "outputs": [
    {
     "name": "stdout",
     "output_type": "stream",
     "text": [
      "Total Loss over Batches: 119.1621857099235\n",
      "Total Loss over Batches: 48.404143596068025\n",
      "Total Loss over Batches: 37.85023327637464\n",
      "Total Loss over Batches: 32.679613939486444\n",
      "Total Loss over Batches: 31.642268613446504\n",
      "Current Confusion Matrix\n",
      "[[ 970    1    1    0    0    1    3    0    2    2]\n",
      " [   0 1130    2    0    0    1    0    0    2    0]\n",
      " [   4   11  988    3    1    0    2    8   10    5]\n",
      " [   3    1    6  987    0    3    0    4    6    0]\n",
      " [   2    2    1    0  951    0    5    2    0   19]\n",
      " [   2    0    1   10    0  866    4    1    5    3]\n",
      " [   9    4    1    0    1    3  934    0    6    0]\n",
      " [   2    8   18    3    0    2    0  967    6   22]\n",
      " [   8    2    3    3    0    6    1    2  944    5]\n",
      " [   4    5    0    4    9    9    1    6    4  967]]\n",
      "\n"
     ]
    }
   ],
   "source": [
    "for epochs in range(5):\n",
    "    total_loss = 0\n",
    "    for batch in range( train_x.shape[0] // batch_size ):\n",
    "        x_batch, y_batch = get_batch(train_x, train_y, batch_size)\n",
    "\n",
    "        cnn_optimizer.zero_grad()\n",
    "\n",
    "        logits = cnn_model( x_batch )\n",
    "        loss = loss_function( logits, y_batch )\n",
    "\n",
    "        loss.backward()\n",
    "        cnn_optimizer.step()\n",
    "\n",
    "        total_loss += loss.item()\n",
    "\n",
    "    print( \"Total Loss over Batches:\",total_loss )\n",
    "print(\"Current Confusion Matrix\")\n",
    "print( confusion_matrix( cnn_model, test_x, test_y ) )\n",
    "print()"
   ]
  },
  {
   "cell_type": "code",
   "execution_count": null,
   "metadata": {
    "id": "NdUzCuLDGOQd"
   },
   "outputs": [],
   "source": []
  },
  {
   "cell_type": "markdown",
   "metadata": {
    "id": "EVeydDhmR2_x"
   },
   "source": [
    "And of course the payoff here is a much higher degree of accuracy and lower loss in even less training."
   ]
  }
 ],
 "metadata": {
  "colab": {
   "provenance": []
  },
  "kernelspec": {
   "display_name": "Python 3 (ipykernel)",
   "language": "python",
   "name": "python3"
  },
  "language_info": {
   "codemirror_mode": {
    "name": "ipython",
    "version": 3
   },
   "file_extension": ".py",
   "mimetype": "text/x-python",
   "name": "python",
   "nbconvert_exporter": "python",
   "pygments_lexer": "ipython3",
   "version": "3.10.0"
  }
 },
 "nbformat": 4,
 "nbformat_minor": 1
}
