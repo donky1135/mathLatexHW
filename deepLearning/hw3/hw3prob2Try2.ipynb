{
 "cells": [
  {
   "cell_type": "code",
   "execution_count": 10,
   "id": "f10797be-952d-4e37-83fa-502e3ad75c84",
   "metadata": {
    "ExecuteTime": {
     "end_time": "2024-08-06T22:58:29.183726Z",
     "start_time": "2024-08-06T22:58:20.826836Z"
    }
   },
   "outputs": [
    {
     "name": "stdout",
     "output_type": "stream",
     "text": [
      "Using device: cuda\n"
     ]
    }
   ],
   "source": [
    "import torch\n",
    "import torchvision\n",
    "import torchvision.transforms as transforms\n",
    "import torchvision.datasets as datasets\n",
    "import matplotlib.pyplot as plt\n",
    "import numpy as np\n",
    "import torch.nn as nn\n",
    "import torch.optim as optim\n",
    "import random\n",
    "import math\n",
    "import time\n",
    "import func3\n",
    "\n",
    "device = torch.device('cuda' if torch.cuda.is_available() else 'cpu')\n",
    "print('Using device:', device)"
   ]
  },
  {
   "cell_type": "markdown",
   "id": "cadce866-667e-4989-af85-e758ca74ca05",
   "metadata": {},
   "source": [
    "Writing the data generation:"
   ]
  },
  {
   "cell_type": "code",
   "execution_count": 11,
   "id": "ee7402bc-1d63-4a33-8649-01ec54f24bdc",
   "metadata": {
    "ExecuteTime": {
     "end_time": "2024-08-06T22:58:29.199164Z",
     "start_time": "2024-08-06T22:58:29.185733Z"
    }
   },
   "outputs": [],
   "source": [
    "def batchSeqGen(batchSize, prob, seqLength=None):\n",
    "    if seqLength == None:\n",
    "        seqLength = random.randint(3,100)\n",
    "    batchX = torch.randn(batchSize, seqLength, 10) #implies batch_first=true\n",
    "    batchY = torch.zeros(batchSize, seqLength)\n",
    "    changePoints = []\n",
    "    for i in range(batchSize):\n",
    "        changePoint = -1\n",
    "        ind = [0,0,0,0,0]\n",
    "        offset = torch.zeros(5)\n",
    "        if random.random() < prob:\n",
    "            changePoint = random.randint(0,seqLength - 1) \n",
    "            ind = random.sample(range(10), 5)\n",
    "            offset = 2*torch.rand(5) - 1\n",
    "            for j in range(seqLength):\n",
    "                if j >= changePoint:\n",
    "                    batchY[i,j] = 1\n",
    "                    c = 0\n",
    "                    for k in ind:\n",
    "                        batchX[i,j,k] += offset[c]\n",
    "                        c += 1\n",
    "        changePoints.append(changePoint)\n",
    "            \n",
    "    return batchX, batchY, changePoints     "
   ]
  },
  {
   "cell_type": "markdown",
   "id": "86abb037-2b2a-40e7-96ec-8f7339272d6d",
   "metadata": {},
   "source": [
    "The LSTM model itself:"
   ]
  },
  {
   "cell_type": "code",
   "execution_count": 86,
   "id": "7b84a292-49f6-40b8-a51e-4fc5218449f0",
   "metadata": {
    "ExecuteTime": {
     "end_time": "2024-08-06T22:58:29.214657Z",
     "start_time": "2024-08-06T22:58:29.202173Z"
    }
   },
   "outputs": [],
   "source": [
    "class changeDetectLSTM(nn.Module):\n",
    "    def __init__(self):\n",
    "        super(changeDetectLSTM, self).__init__()\n",
    "        hidden_layer_node_num = 60\n",
    "        hidden_layer_num = 3\n",
    "        self.lstm = nn.LSTM(10, hidden_layer_node_num, hidden_layer_num ,batch_first=True, bidirectional=True, dropout = 0.1)\n",
    "        self.layernorm = nn.LayerNorm(hidden_layer_node_num * 2)\n",
    "        self.linearClassify = nn.Linear(hidden_layer_node_num * 2,1)\n",
    "    \n",
    "    def forward(self, seq):\n",
    "        # seq = torch.mul(seq, 10)\n",
    "        seq, _ = self.lstm(seq)\n",
    "        seq = self.layernorm(seq)\n",
    "        seq = self.linearClassify(seq)\n",
    "        \n",
    "        return seq[:,:,0]"
   ]
  },
  {
   "cell_type": "markdown",
   "id": "b2c5bcc2-2eca-4bd8-a316-25ba5b368c66",
   "metadata": {},
   "source": [
    "The training loop:"
   ]
  },
  {
   "cell_type": "code",
   "execution_count": 87,
   "id": "72b55219-3600-4bbf-ac94-691513b9e809",
   "metadata": {
    "ExecuteTime": {
     "end_time": "2024-08-06T23:08:29.084487Z",
     "start_time": "2024-08-06T22:58:29.217654Z"
    }
   },
   "outputs": [
    {
     "name": "stdout",
     "output_type": "stream",
     "text": [
      "Hello\n",
      "1 Test loss 0.814259946346283 Training loss 95.90843033790588\n",
      "2 Test loss 0.7165129780769348 Training loss 92.01212483644485\n",
      "3 Test loss 0.7934954762458801 Training loss 87.75130093097687\n",
      "4 Test loss 0.6531305313110352 Training loss 87.73425477743149\n",
      "5 Test loss 0.6679298877716064 Training loss 84.79591619968414\n",
      "6 Test loss 0.7282071113586426 Training loss 82.458520591259\n",
      "7 Test loss 0.6607458591461182 Training loss 79.56198900938034\n",
      "8 Test loss 0.5577471852302551 Training loss 75.1911068558693\n",
      "9 Test loss 0.7041803002357483 Training loss 75.60557872056961\n",
      "10 Test loss 0.5940012335777283 Training loss 75.56413868069649\n",
      "11 Test loss 0.5893265604972839 Training loss 73.0009132027626\n",
      "12 Test loss 0.49333837628364563 Training loss 64.8179503083229\n",
      "13 Test loss 0.3892539143562317 Training loss 55.97824762761593\n",
      "14 Test loss 0.5019086003303528 Training loss 58.271692633628845\n",
      "15 Test loss 0.4586074650287628 Training loss 51.85948126018047\n",
      "16 Test loss 0.37558993697166443 Training loss 55.384729474782944\n",
      "17 Test loss 0.5598841905593872 Training loss 55.86395639181137\n",
      "18 Test loss 0.35522133111953735 Training loss 54.76403510570526\n",
      "19 Test loss 0.5695985555648804 Training loss 55.31302362680435\n",
      "20 Test loss 0.4213995039463043 Training loss 61.06481608748436\n",
      "21 Test loss 0.4788738191127777 Training loss 54.36550655961037\n",
      "22 Test loss 0.3454957902431488 Training loss 55.80365580320358\n",
      "23 Test loss 0.28466325998306274 Training loss 54.971113443374634\n",
      "24 Test loss 0.4833984673023224 Training loss 50.624174043536186\n",
      "25 Test loss 0.3236311376094818 Training loss 50.692751973867416\n",
      "26 Test loss 0.30330100655555725 Training loss 53.488538920879364\n",
      "27 Test loss 0.4216735363006592 Training loss 47.76250413060188\n",
      "28 Test loss 0.2821815311908722 Training loss 50.06679379940033\n",
      "29 Test loss 0.3278094232082367 Training loss 46.2306832075119\n",
      "30 Test loss 0.26976248621940613 Training loss 45.43882854282856\n"
     ]
    }
   ],
   "source": [
    "model = changeDetectLSTM()\n",
    "model = model.to(device)\n",
    "# optimizer = optim.Adam(model.parameters(), lr = 0.0002, weight_decay = 0.001)\n",
    "optimizer = optim.Adam(model.parameters(), lr = 0.0001)\n",
    "print(\"Hello\")\n",
    "\n",
    "x_test, y_test, _ = batchSeqGen(100, 1.0, 100)\n",
    "x_test = x_test.to(device)\n",
    "y_test = y_test.to(device)\n",
    "for epoch in range(30):\n",
    "    totalLoss = 0\n",
    "    for i in range(2**7):\n",
    "        x_batch, y_batch, _ = batchSeqGen(40,0.8)\n",
    "        x_batch = x_batch.to(device)\n",
    "        y_batch = y_batch.to(device)\n",
    "        optimizer.zero_grad \n",
    "        output = model(x_batch)\n",
    "        # print(output.shape)\n",
    "        # print(y_batch[0])\n",
    "#         print(output.shape)\n",
    "#         print(y_batch.shape)\n",
    "        # loss = torch.nn.CrossEntropyLoss()(output, y_batch)\n",
    "        loss = torch.nn.BCEWithLogitsLoss()(output, y_batch)\n",
    "\n",
    "        totalLoss += loss.item()\n",
    "        loss.backward()\n",
    "        optimizer.step()\n",
    "            \n",
    "    # print((epoch+1),\"Test loss\",torch.nn.CrossEntropyLoss()(model.forward(x_test), y_test).item(), \"Training loss\", totalLoss)\n",
    "    print((epoch+1),\"Test loss\",torch.nn.BCEWithLogitsLoss()(model.forward(x_test), y_test).item(), \"Training loss\", totalLoss)\n"
   ]
  },
  {
   "cell_type": "code",
   "execution_count": 14,
   "id": "6215b62207fcbff8",
   "metadata": {
    "ExecuteTime": {
     "end_time": "2024-08-06T23:08:29.094488Z",
     "start_time": "2024-08-06T23:08:29.086487Z"
    }
   },
   "outputs": [],
   "source": [
    "def error_present(modeled, T, seq):\n",
    "    values = []\n",
    "    for i in range(11):\n",
    "        if i - 5 + T > 100:\n",
    "            values.append(1.0)\n",
    "        else:\n",
    "            values.append(modeled[i - 5 + T].item())\n",
    "    plt.scatter([i-5 for i in range(11)], values)"
   ]
  },
  {
   "cell_type": "code",
   "execution_count": 85,
   "id": "3165134e-1d58-4369-b00e-706db8955e48",
   "metadata": {
    "ExecuteTime": {
     "start_time": "2024-08-06T23:08:29.097488Z"
    },
    "jupyter": {
     "is_executing": true
    }
   },
   "outputs": [
    {
     "name": "stdout",
     "output_type": "stream",
     "text": [
      "tensor([[0., 0., 0., 0., 0., 0., 0., 0., 0., 0., 0., 0., 0., 0., 0., 0., 0., 0.,\n",
      "         0., 0., 0., 0., 0., 0., 0., 0., 0., 0., 0., 0., 0., 0., 0., 0., 0., 0.,\n",
      "         0., 0., 0., 0., 0., 0., 0., 0., 0., 0., 0., 0., 0., 0., 0., 0., 0., 0.,\n",
      "         0., 0., 0., 0., 0., 0., 0., 0., 0., 0., 0., 0., 0., 0., 0., 0., 0., 0.,\n",
      "         0., 0., 0., 0., 0., 0., 0., 0., 0., 0., 0., 0., 0., 0., 0., 0., 0., 0.,\n",
      "         0., 0., 0., 0., 0., 1., 1., 1., 1., 1.]], device='cuda:0')\n",
      "tensor([[0.0059, 0.0074, 0.0069, 0.0071, 0.0069, 0.0077, 0.0097, 0.0086, 0.0088,\n",
      "         0.0095, 0.0091, 0.0123, 0.0107, 0.0094, 0.0101, 0.0130, 0.0133, 0.0110,\n",
      "         0.0099, 0.0092, 0.0142, 0.0205, 0.0149, 0.0191, 0.0260, 0.0336, 0.0399,\n",
      "         0.0238, 0.0254, 0.0261, 0.0281, 0.0253, 0.0212, 0.0219, 0.0189, 0.0185,\n",
      "         0.0191, 0.0163, 0.0159, 0.0139, 0.0191, 0.0212, 0.0203, 0.0177, 0.0156,\n",
      "         0.0226, 0.0185, 0.0180, 0.0157, 0.0205, 0.0169, 0.0151, 0.0285, 0.0236,\n",
      "         0.0231, 0.0201, 0.0272, 0.0225, 0.0232, 0.0215, 0.0274, 0.0359, 0.0321,\n",
      "         0.0265, 0.0283, 0.0306, 0.0285, 0.0231, 0.0254, 0.0202, 0.0223, 0.0251,\n",
      "         0.0228, 0.0287, 0.0233, 0.0251, 0.0243, 0.0325, 0.0297, 0.0309, 0.0359,\n",
      "         0.0474, 0.0694, 0.0608, 0.0633, 0.0594, 0.1190, 0.1269, 0.1145, 0.1095,\n",
      "         0.1640, 0.1453, 0.2929, 0.4546, 0.5682, 0.6213, 0.7394, 0.7689, 0.8072,\n",
      "         0.8117]], device='cuda:0', grad_fn=<SigmoidBackward0>)\n",
      "0.06506270915269852\n"
     ]
    },
    {
     "data": {
      "image/png": "[encoded data removed]",
      "text/plain": [
       "<Figure size 640x480 with 1 Axes>"
      ]
     },
     "metadata": {},
     "output_type": "display_data"
    }
   ],
   "source": [
    "\n",
    "x, y, changePoints = batchSeqGen(1, 1.0, 100)\n",
    "x = x.to(device)\n",
    "y = y.to(device)\n",
    "print(y)\n",
    "print(nn.Sigmoid()(model.forward(x)))\n",
    "print(torch.nn.BCEWithLogitsLoss()(model.forward(x), y).item())\n",
    "modeled = nn.Sigmoid()(model(x))[0]\n",
    "T = changePoints[0]\n",
    "seq = y[0]\n",
    "values = []\n",
    "for i in range(11):\n",
    "    if i - 5 + T >= 100:\n",
    "        values.append(1.0)\n",
    "    else:\n",
    "        values.append(modeled[i - 5 + T].item())\n",
    "plt.scatter([i-5 for i in range(11)], values)\n",
    "plt.show()\n",
    "# error_present(nn.Sigmoid()(model(x))[0], changePoints[0], y[0])\n",
    "            "
   ]
  }
 ],
 "metadata": {
  "kernelspec": {
   "display_name": "Python 3 (ipykernel)",
   "language": "python",
   "name": "python3"
  },
  "language_info": {
   "codemirror_mode": {
    "name": "ipython",
    "version": 3
   },
   "file_extension": ".py",
   "mimetype": "text/x-python",
   "name": "python",
   "nbconvert_exporter": "python",
   "pygments_lexer": "ipython3",
   "version": "3.8.3"
  }
 },
 "nbformat": 4,
 "nbformat_minor": 5
}
