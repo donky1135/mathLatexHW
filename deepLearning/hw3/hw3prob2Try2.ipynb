{
 "cells": [
  {
   "cell_type": "code",
   "execution_count": 1,
   "id": "f10797be-952d-4e37-83fa-502e3ad75c84",
   "metadata": {
    "ExecuteTime": {
     "end_time": "2024-08-06T22:58:29.183726Z",
     "start_time": "2024-08-06T22:58:20.826836Z"
    },
    "editable": true,
    "slideshow": {
     "slide_type": ""
    },
    "tags": []
   },
   "outputs": [
    {
     "name": "stdout",
     "output_type": "stream",
     "text": [
      "Using device: cuda\n"
     ]
    }
   ],
   "source": [
    "import torch\n",
    "import torchvision\n",
    "import torchvision.transforms as transforms\n",
    "import torchvision.datasets as datasets\n",
    "import matplotlib.pyplot as plt\n",
    "import numpy as np\n",
    "import torch.nn as nn\n",
    "import torch.optim as optim\n",
    "import random\n",
    "import math\n",
    "import time\n",
    "# import func3\n",
    "\n",
    "device = torch.device('cuda' if torch.cuda.is_available() else 'cpu')\n",
    "print('Using device:', device)"
   ]
  },
  {
   "cell_type": "markdown",
   "id": "cadce866-667e-4989-af85-e758ca74ca05",
   "metadata": {},
   "source": [
    "Writing the data generation:"
   ]
  },
  {
   "cell_type": "code",
   "execution_count": 2,
   "id": "ee7402bc-1d63-4a33-8649-01ec54f24bdc",
   "metadata": {
    "ExecuteTime": {
     "end_time": "2024-08-06T22:58:29.199164Z",
     "start_time": "2024-08-06T22:58:29.185733Z"
    }
   },
   "outputs": [],
   "source": [
    "def batchSeqGen(batchSize, prob, seqLength=None):\n",
    "    if seqLength == None:\n",
    "        seqLength = random.randint(3,100)\n",
    "    batchX = torch.randn(batchSize, seqLength, 10) #implies batch_first=true\n",
    "    batchY = torch.zeros(batchSize, seqLength)\n",
    "    changePoints = []\n",
    "    for i in range(batchSize):\n",
    "        changePoint = -1\n",
    "        ind = [0,0,0,0,0]\n",
    "        offset = torch.zeros(5)\n",
    "        if random.random() < prob:\n",
    "            changePoint = random.randint(0,seqLength - 1) \n",
    "            ind = random.sample(range(10), 5)\n",
    "            offset = 2*torch.rand(5) - 1\n",
    "            for j in range(seqLength):\n",
    "                if j >= changePoint:\n",
    "                    batchY[i,j] = 1\n",
    "                    c = 0\n",
    "                    for k in ind:\n",
    "                        batchX[i,j,k] += offset[c]\n",
    "                        c += 1\n",
    "        changePoints.append(changePoint)\n",
    "            \n",
    "    return batchX, batchY, changePoints     "
   ]
  },
  {
   "cell_type": "markdown",
   "id": "86abb037-2b2a-40e7-96ec-8f7339272d6d",
   "metadata": {},
   "source": [
    "The LSTM model itself:"
   ]
  },
  {
   "cell_type": "code",
   "execution_count": 6,
   "id": "7b84a292-49f6-40b8-a51e-4fc5218449f0",
   "metadata": {
    "ExecuteTime": {
     "end_time": "2024-08-06T22:58:29.214657Z",
     "start_time": "2024-08-06T22:58:29.202173Z"
    }
   },
   "outputs": [],
   "source": [
    "class changeDetectLSTM(nn.Module):\n",
    "    def __init__(self):\n",
    "        super(changeDetectLSTM, self).__init__()\n",
    "        hidden_layer_node_num = 60\n",
    "        hidden_layer_num = 1\n",
    "        self.lstm = nn.LSTM(10, hidden_layer_node_num, hidden_layer_num ,batch_first=True, bidirectional=True, dropout = 0.1)\n",
    "        self.layernorm = nn.LayerNorm(hidden_layer_node_num * 2)\n",
    "        self.linearClassify = nn.Linear(hidden_layer_node_num * 2,1)\n",
    "    \n",
    "    def forward(self, seq):\n",
    "        # seq = torch.mul(seq, 10)\n",
    "        seq, _ = self.lstm(seq)\n",
    "        seq = self.layernorm(seq)\n",
    "        seq = self.linearClassify(seq)\n",
    "        \n",
    "        return seq[:,:,0]"
   ]
  },
  {
   "cell_type": "markdown",
   "id": "b2c5bcc2-2eca-4bd8-a316-25ba5b368c66",
   "metadata": {},
   "source": [
    "The training loop:"
   ]
  },
  {
   "cell_type": "code",
   "execution_count": 7,
   "id": "72b55219-3600-4bbf-ac94-691513b9e809",
   "metadata": {
    "ExecuteTime": {
     "end_time": "2024-08-06T23:08:29.084487Z",
     "start_time": "2024-08-06T22:58:29.217654Z"
    }
   },
   "outputs": [
    {
     "name": "stderr",
     "output_type": "stream",
     "text": [
      "/common/home/anv39/.conda/envs/myenv/lib/python3.11/site-packages/torch/nn/modules/rnn.py:83: UserWarning: dropout option adds dropout after all but last recurrent layer, so non-zero dropout expects num_layers greater than 1, but got dropout=0.1 and num_layers=1\n",
      "  warnings.warn(\"dropout option adds dropout after all but last \"\n"
     ]
    },
    {
     "name": "stdout",
     "output_type": "stream",
     "text": [
      "Hello\n",
      "1 Test loss 0.6604498028755188 Training loss 86.07782930135727\n",
      "2 Test loss 0.6623440384864807 Training loss 80.99106752872467\n",
      "3 Test loss 0.5935699939727783 Training loss 82.72880691289902\n",
      "4 Test loss 0.6143462657928467 Training loss 84.98013216257095\n",
      "5 Test loss 0.5807298421859741 Training loss 76.2516240477562\n",
      "6 Test loss 0.5727764964103699 Training loss 71.48073580861092\n",
      "7 Test loss 0.4521388113498688 Training loss 65.63416972756386\n",
      "8 Test loss 0.39696767926216125 Training loss 60.04919943213463\n",
      "9 Test loss 0.6665244102478027 Training loss 61.23584249615669\n",
      "10 Test loss 0.4485471546649933 Training loss 64.56369972229004\n",
      "11 Test loss 0.5104808211326599 Training loss 55.2418449819088\n",
      "12 Test loss 0.3390613794326782 Training loss 57.492817252874374\n",
      "13 Test loss 0.3531624674797058 Training loss 54.05975830554962\n",
      "14 Test loss 0.3031250834465027 Training loss 54.7963543087244\n",
      "15 Test loss 0.4132019281387329 Training loss 53.1803944259882\n",
      "16 Test loss 0.3286920189857483 Training loss 53.72011414170265\n",
      "17 Test loss 0.40379661321640015 Training loss 52.83715941011906\n",
      "18 Test loss 0.3304412066936493 Training loss 54.524190962314606\n",
      "19 Test loss 0.2910284101963043 Training loss 54.221769377589226\n",
      "20 Test loss 0.3969762623310089 Training loss 50.21432180702686\n",
      "21 Test loss 0.2867496907711029 Training loss 51.512923046946526\n",
      "22 Test loss 0.2717723250389099 Training loss 52.0342415869236\n",
      "23 Test loss 0.34997421503067017 Training loss 47.33837430179119\n",
      "24 Test loss 0.2862057089805603 Training loss 47.81453165411949\n",
      "25 Test loss 0.27176809310913086 Training loss 48.29610061645508\n",
      "26 Test loss 0.3054933249950409 Training loss 45.043097242712975\n",
      "27 Test loss 0.2705649733543396 Training loss 47.080611765384674\n",
      "28 Test loss 0.27746516466140747 Training loss 48.19890767335892\n",
      "29 Test loss 0.2582404613494873 Training loss 47.761151030659676\n",
      "30 Test loss 0.3064529001712799 Training loss 48.0265729278326\n"
     ]
    }
   ],
   "source": [
    "model = changeDetectLSTM()\n",
    "model = model.to(device)\n",
    "# optimizer = optim.Adam(model.parameters(), lr = 0.0002, weight_decay = 0.001)\n",
    "optimizer = optim.Adam(model.parameters(), lr = 0.0001)\n",
    "print(\"Hello\")\n",
    "\n",
    "x_test, y_test, _ = batchSeqGen(100, 1.0, 100)\n",
    "x_test = x_test.to(device)\n",
    "y_test = y_test.to(device)\n",
    "for epoch in range(30):\n",
    "    totalLoss = 0\n",
    "    for i in range(2**7):\n",
    "        x_batch, y_batch, _ = batchSeqGen(40,0.8)\n",
    "        x_batch = x_batch.to(device)\n",
    "        y_batch = y_batch.to(device)\n",
    "        optimizer.zero_grad \n",
    "        output = model(x_batch)\n",
    "        # print(output.shape)\n",
    "        # print(y_batch[0])\n",
    "#         print(output.shape)\n",
    "#         print(y_batch.shape)\n",
    "        # loss = torch.nn.CrossEntropyLoss()(output, y_batch)\n",
    "        loss = torch.nn.BCEWithLogitsLoss()(output, y_batch)\n",
    "\n",
    "        totalLoss += loss.item()\n",
    "        loss.backward()\n",
    "        optimizer.step()\n",
    "            \n",
    "    # print((epoch+1),\"Test loss\",torch.nn.CrossEntropyLoss()(model.forward(x_test), y_test).item(), \"Training loss\", totalLoss)\n",
    "    print((epoch+1),\"Test loss\",torch.nn.BCEWithLogitsLoss()(model.forward(x_test), y_test).item(), \"Training loss\", totalLoss)\n"
   ]
  },
  {
   "cell_type": "code",
   "execution_count": 14,
   "id": "6215b62207fcbff8",
   "metadata": {
    "ExecuteTime": {
     "end_time": "2024-08-06T23:08:29.094488Z",
     "start_time": "2024-08-06T23:08:29.086487Z"
    }
   },
   "outputs": [],
   "source": [
    "def error_present(modeled, T, seq):\n",
    "    values = []\n",
    "    for i in range(11):\n",
    "        if i - 5 + T > 100:\n",
    "            values.append(1.0)\n",
    "        else:\n",
    "            values.append(modeled[i - 5 + T].item())\n",
    "    plt.scatter([i-5 for i in range(11)], values)"
   ]
  },
  {
   "cell_type": "code",
   "execution_count": 28,
   "id": "3165134e-1d58-4369-b00e-706db8955e48",
   "metadata": {
    "ExecuteTime": {
     "start_time": "2024-08-06T23:08:29.097488Z"
    },
    "jupyter": {
     "is_executing": true
    }
   },
   "outputs": [
    {
     "name": "stdout",
     "output_type": "stream",
     "text": [
      "tensor([[0., 0., 0., 0., 0., 0., 0., 0., 0., 0., 0., 0., 0., 0., 0., 0., 0., 0.,\n",
      "         0., 0., 0., 0., 0., 0., 0., 0., 0., 0., 0., 0., 0., 0., 0., 0., 0., 0.,\n",
      "         0., 0., 0., 0., 0., 0., 0., 0., 0., 0., 0., 0., 0., 0., 0., 0., 0., 0.,\n",
      "         0., 0., 0., 0., 0., 0., 0., 0., 0., 1., 1., 1., 1., 1., 1., 1., 1., 1.,\n",
      "         1., 1., 1., 1., 1., 1., 1., 1., 1., 1., 1., 1., 1., 1., 1., 1., 1., 1.,\n",
      "         1., 1., 1., 1., 1., 1., 1., 1., 1., 1.]], device='cuda:0')\n",
      "tensor([[0.0129, 0.0382, 0.0134, 0.0238, 0.0237, 0.0378, 0.0046, 0.0332, 0.0152,\n",
      "         0.0127, 0.0116, 0.0134, 0.0432, 0.0145, 0.0332, 0.0081, 0.0136, 0.0146,\n",
      "         0.0145, 0.0130, 0.0164, 0.0035, 0.0061, 0.0065, 0.0107, 0.0178, 0.0172,\n",
      "         0.0283, 0.0240, 0.0106, 0.0142, 0.0023, 0.0030, 0.0119, 0.0259, 0.0189,\n",
      "         0.0094, 0.0125, 0.0051, 0.0190, 0.0087, 0.0188, 0.0636, 0.0293, 0.0154,\n",
      "         0.0148, 0.0164, 0.0179, 0.0129, 0.0339, 0.0067, 0.0296, 0.0947, 0.1293,\n",
      "         0.3076, 0.0911, 0.0838, 0.0994, 0.0956, 0.0818, 0.0945, 0.2904, 0.4759,\n",
      "         0.5429, 0.2402, 0.5130, 0.3138, 0.4134, 0.3014, 0.3914, 0.5857, 0.5850,\n",
      "         0.2933, 0.5395, 0.5983, 0.7432, 0.7509, 0.7281, 0.8039, 0.8382, 0.8498,\n",
      "         0.8740, 0.8147, 0.7677, 0.7937, 0.7237, 0.7711, 0.9304, 0.9347, 0.9298,\n",
      "         0.9082, 0.8859, 0.9161, 0.8830, 0.9429, 0.9456, 0.9759, 0.9661, 0.9620,\n",
      "         0.9702]], device='cuda:0', grad_fn=<SigmoidBackward0>)\n",
      "0.17179569602012634\n"
     ]
    },
    {
     "data": {
      "image/png": "[encoded data removed]",
      "text/plain": [
       "<Figure size 640x480 with 1 Axes>"
      ]
     },
     "metadata": {},
     "output_type": "display_data"
    }
   ],
   "source": [
    "\n",
    "x, y, changePoints = batchSeqGen(1, 1.0, 100)\n",
    "x = x.to(device)\n",
    "y = y.to(device)\n",
    "print(y)\n",
    "print(nn.Sigmoid()(model.forward(x)))\n",
    "print(torch.nn.BCEWithLogitsLoss()(model.forward(x), y).item())\n",
    "modeled = nn.Sigmoid()(model(x))[0]\n",
    "T = changePoints[0]\n",
    "seq = y[0]\n",
    "values = []\n",
    "for i in range(11):\n",
    "    if i - 5 + T >= 100:\n",
    "        values.append(1.0)\n",
    "    else:\n",
    "        values.append(modeled[i - 5 + T].item())\n",
    "plt.scatter([i-5 for i in range(11)], values)\n",
    "plt.show()\n",
    "# error_present(nn.Sigmoid()(model(x))[0], changePoints[0], y[0])\n",
    "            "
   ]
  }
 ],
 "metadata": {
  "kernelspec": {
   "display_name": "Python 3 (ipykernel)",
   "language": "python",
   "name": "python3"
  },
  "language_info": {
   "codemirror_mode": {
    "name": "ipython",
    "version": 3
   },
   "file_extension": ".py",
   "mimetype": "text/x-python",
   "name": "python",
   "nbconvert_exporter": "python",
   "pygments_lexer": "ipython3",
   "version": "3.11.8"
  }
 },
 "nbformat": 4,
 "nbformat_minor": 5
}
