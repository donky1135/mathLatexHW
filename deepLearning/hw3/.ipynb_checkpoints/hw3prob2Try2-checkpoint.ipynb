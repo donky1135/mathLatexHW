{
 "cells": [
  {
   "cell_type": "code",
   "execution_count": 1,
   "id": "f10797be-952d-4e37-83fa-502e3ad75c84",
   "metadata": {
    "ExecuteTime": {
     "end_time": "2024-08-06T21:39:33.495622Z",
     "start_time": "2024-08-06T21:39:26.479087Z"
    }
   },
   "outputs": [
    {
     "name": "stdout",
     "output_type": "stream",
     "text": [
      "Using device: cuda\n"
     ]
    }
   ],
   "source": [
    "import torch\n",
    "import torchvision\n",
    "import torchvision.transforms as transforms\n",
    "import torchvision.datasets as datasets\n",
    "import matplotlib.pyplot as plt\n",
    "import numpy as np\n",
    "import torch.nn as nn\n",
    "import torch.optim as optim\n",
    "import random\n",
    "import math\n",
    "import time\n",
    "import func3\n",
    "\n",
    "device = torch.device('cuda' if torch.cuda.is_available() else 'cpu')\n",
    "print('Using device:', device)"
   ]
  },
  {
   "cell_type": "markdown",
   "id": "cadce866-667e-4989-af85-e758ca74ca05",
   "metadata": {},
   "source": [
    "Writing the data generation:"
   ]
  },
  {
   "cell_type": "code",
   "execution_count": 2,
   "id": "ee7402bc-1d63-4a33-8649-01ec54f24bdc",
   "metadata": {
    "ExecuteTime": {
     "end_time": "2024-08-06T22:09:16.342043Z",
     "start_time": "2024-08-06T22:09:16.334589Z"
    }
   },
   "outputs": [],
   "source": [
    "def batchSeqGen(batchSize, prob, seqLength=None):\n",
    "    if seqLength == None:\n",
    "        seqLength = random.randint(3,100)\n",
    "    batchX = torch.randn(batchSize, seqLength, 10) #implies batch_first=true\n",
    "    batchY = torch.zeros(batchSize, seqLength)\n",
    "    changePoints = []\n",
    "    for i in range(batchSize):\n",
    "        changePoint = -1\n",
    "        ind = [0,0,0,0,0]\n",
    "        offset = torch.zeros(5)\n",
    "        if random.random() < prob:\n",
    "            changePoint = random.randint(0,seqLength - 1) \n",
    "            ind = random.sample(range(10), 5)\n",
    "            offset = 2*torch.rand(5) - 1\n",
    "            for j in range(seqLength):\n",
    "                if j >= changePoint:\n",
    "                    batchY[i,j] = 1\n",
    "                    c = 0\n",
    "                    for k in ind:\n",
    "                        batchX[i,j,k] += offset[c]\n",
    "                        c += 1\n",
    "        changePoints.append(changePoint)\n",
    "            \n",
    "    return batchX, batchY, changePoints     "
   ]
  },
  {
   "cell_type": "markdown",
   "id": "86abb037-2b2a-40e7-96ec-8f7339272d6d",
   "metadata": {},
   "source": [
    "The LSTM model itself:"
   ]
  },
  {
   "cell_type": "code",
   "execution_count": 3,
   "id": "7b84a292-49f6-40b8-a51e-4fc5218449f0",
   "metadata": {
    "ExecuteTime": {
     "end_time": "2024-08-06T22:09:18.245581Z",
     "start_time": "2024-08-06T22:09:18.214583Z"
    }
   },
   "outputs": [],
   "source": [
    "class changeDetectLSTM(nn.Module):\n",
    "    def __init__(self):\n",
    "        super(changeDetectLSTM, self).__init__()\n",
    "        hidden_layer_node_num = 60\n",
    "        hidden_layer_num = 2\n",
    "        self.lstm = nn.LSTM(10, hidden_layer_node_num, hidden_layer_num ,batch_first=True, bidirectional=True, dropout = 0.1)\n",
    "        self.layernorm = nn.LayerNorm(hidden_layer_node_num * 2)\n",
    "        self.linearClassify = nn.Linear(hidden_layer_node_num * 2,1)\n",
    "    \n",
    "    def forward(self, seq):\n",
    "        # seq = torch.mul(seq, 10)\n",
    "        seq, _ = self.lstm(seq)\n",
    "        seq = self.layernorm(seq)\n",
    "        seq = self.linearClassify(seq)\n",
    "        \n",
    "        return seq[:,:,0]"
   ]
  },
  {
   "cell_type": "markdown",
   "id": "b2c5bcc2-2eca-4bd8-a316-25ba5b368c66",
   "metadata": {},
   "source": [
    "The training loop:"
   ]
  },
  {
   "cell_type": "code",
   "execution_count": 4,
   "id": "72b55219-3600-4bbf-ac94-691513b9e809",
   "metadata": {
    "ExecuteTime": {
     "end_time": "2024-08-06T21:49:53.232222Z",
     "start_time": "2024-08-06T21:40:48.206130Z"
    }
   },
   "outputs": [
    {
     "name": "stdout",
     "output_type": "stream",
     "text": [
      "Hello\n",
      "1 Test loss 0.9769163727760315 Training loss 89.88704138994217\n",
      "2 Test loss 0.6517397165298462 Training loss 92.54621469974518\n",
      "3 Test loss 0.6910943388938904 Training loss 89.57765257358551\n",
      "4 Test loss 0.6407994031906128 Training loss 85.03605556488037\n",
      "5 Test loss 0.7495797872543335 Training loss 82.30470234155655\n",
      "6 Test loss 0.6049917936325073 Training loss 78.5390320122242\n",
      "7 Test loss 0.5671862959861755 Training loss 71.11513417959213\n",
      "8 Test loss 0.4931274652481079 Training loss 67.26542669534683\n",
      "9 Test loss 0.4625522196292877 Training loss 59.420142352581024\n",
      "10 Test loss 0.40828436613082886 Training loss 53.919912457466125\n",
      "11 Test loss 0.4879204034805298 Training loss 54.27464911341667\n",
      "12 Test loss 0.3637080490589142 Training loss 54.991315111517906\n",
      "13 Test loss 0.3779010772705078 Training loss 62.896607145667076\n",
      "14 Test loss 0.46313610672950745 Training loss 63.12384596467018\n",
      "15 Test loss 0.4677436351776123 Training loss 61.993270337581635\n",
      "16 Test loss 0.34764495491981506 Training loss 62.09663411974907\n",
      "17 Test loss 0.6333327889442444 Training loss 57.82520326972008\n",
      "18 Test loss 0.5077442526817322 Training loss 63.0032505095005\n",
      "19 Test loss 0.3790760040283203 Training loss 58.840521931648254\n",
      "20 Test loss 0.390708863735199 Training loss 54.29072943329811\n",
      "21 Test loss 0.3236326277256012 Training loss 51.69654616713524\n",
      "22 Test loss 0.30432066321372986 Training loss 47.78863528370857\n",
      "23 Test loss 0.3317294418811798 Training loss 47.03434559702873\n",
      "24 Test loss 0.31389951705932617 Training loss 48.76992680132389\n",
      "25 Test loss 0.28949156403541565 Training loss 46.277578845620155\n",
      "26 Test loss 0.3159704804420471 Training loss 43.23516497015953\n",
      "27 Test loss 0.2800750732421875 Training loss 46.08685965836048\n",
      "28 Test loss 0.3608728349208832 Training loss 44.194460436701775\n",
      "29 Test loss 0.2667873203754425 Training loss 43.3535532951355\n",
      "30 Test loss 0.27980536222457886 Training loss 45.990546464920044\n"
     ]
    }
   ],
   "source": [
    "model = changeDetectLSTM()\n",
    "model = model.to(device)\n",
    "# optimizer = optim.Adam(model.parameters(), lr = 0.0002, weight_decay = 0.001)\n",
    "optimizer = optim.Adam(model.parameters(), lr = 0.0001)\n",
    "print(\"Hello\")\n",
    "\n",
    "x_test, y_test, _ = batchSeqGen(100, 1.0, 100)\n",
    "x_test = x_test.to(device)\n",
    "y_test = y_test.to(device)\n",
    "for epoch in range(30):\n",
    "    totalLoss = 0\n",
    "    for i in range(2**7):\n",
    "        x_batch, y_batch, _ = batchSeqGen(40,0.8)\n",
    "        x_batch = x_batch.to(device)\n",
    "        y_batch = y_batch.to(device)\n",
    "        optimizer.zero_grad \n",
    "        output = model(x_batch)\n",
    "        # print(output.shape)\n",
    "        # print(y_batch[0])\n",
    "#         print(output.shape)\n",
    "#         print(y_batch.shape)\n",
    "        # loss = torch.nn.CrossEntropyLoss()(output, y_batch)\n",
    "        loss = torch.nn.BCEWithLogitsLoss()(output, y_batch)\n",
    "\n",
    "        totalLoss += loss.item()\n",
    "        loss.backward()\n",
    "        optimizer.step()\n",
    "            \n",
    "    # print((epoch+1),\"Test loss\",torch.nn.CrossEntropyLoss()(model.forward(x_test), y_test).item(), \"Training loss\", totalLoss)\n",
    "    print((epoch+1),\"Test loss\",torch.nn.BCEWithLogitsLoss()(model.forward(x_test), y_test).item(), \"Training loss\", totalLoss)\n"
   ]
  },
  {
   "cell_type": "code",
   "execution_count": 5,
   "id": "6215b62207fcbff8",
   "metadata": {
    "ExecuteTime": {
     "end_time": "2024-08-06T22:07:13.879099Z",
     "start_time": "2024-08-06T22:07:13.873911Z"
    }
   },
   "outputs": [],
   "source": [
    "def error_present(modeled, T, seq):\n",
    "    values = []\n",
    "    for i in range(11):\n",
    "        if i - 5 + T > 100:\n",
    "            values.append(1.0)\n",
    "        else:\n",
    "            values.append(modeled[i - 5 + T].item())\n",
    "    plt.scatter([i-5 for i in range(11)], values)"
   ]
  },
  {
   "cell_type": "code",
   "execution_count": 19,
   "id": "3165134e-1d58-4369-b00e-706db8955e48",
   "metadata": {
    "ExecuteTime": {
     "end_time": "2024-08-06T22:09:25.288877Z",
     "start_time": "2024-08-06T22:09:25.253242Z"
    }
   },
   "outputs": [
    {
     "name": "stdout",
     "output_type": "stream",
     "text": [
      "tensor([[0., 0., 0., 0., 0., 0., 0., 0., 0., 0., 0., 0., 0., 0., 0., 0., 0., 0.,\n",
      "         0., 0., 0., 0., 0., 0., 0., 0., 0., 0., 0., 0., 0., 0., 0., 0., 0., 0.,\n",
      "         0., 0., 0., 0., 0., 0., 0., 0., 0., 0., 0., 0., 0., 0., 0., 0., 0., 0.,\n",
      "         0., 0., 0., 0., 0., 0., 0., 0., 0., 0., 0., 0., 0., 0., 0., 0., 0., 0.,\n",
      "         0., 0., 0., 0., 0., 0., 0., 0., 0., 0., 0., 1., 1., 1., 1., 1., 1., 1.,\n",
      "         1., 1., 1., 1., 1., 1., 1., 1., 1., 1.]], device='cuda:0')\n",
      "tensor([[0.0026, 0.0040, 0.0072, 0.0094, 0.0125, 0.0215, 0.0181, 0.0191, 0.0254,\n",
      "         0.0235, 0.0178, 0.0227, 0.0245, 0.0309, 0.0373, 0.0347, 0.0241, 0.0173,\n",
      "         0.0210, 0.0235, 0.0226, 0.0268, 0.0226, 0.0272, 0.0198, 0.0318, 0.0328,\n",
      "         0.0330, 0.0327, 0.0496, 0.0413, 0.0315, 0.0473, 0.0764, 0.0427, 0.0415,\n",
      "         0.0619, 0.0333, 0.0362, 0.0290, 0.0334, 0.0276, 0.0284, 0.0284, 0.0224,\n",
      "         0.0309, 0.0355, 0.0416, 0.0364, 0.0331, 0.0497, 0.0272, 0.0340, 0.0316,\n",
      "         0.0282, 0.0351, 0.0603, 0.0404, 0.0362, 0.0477, 0.0374, 0.0401, 0.0489,\n",
      "         0.0712, 0.0948, 0.1256, 0.1355, 0.2009, 0.1870, 0.2300, 0.2663, 0.3336,\n",
      "         0.3576, 0.3585, 0.4720, 0.6280, 0.6275, 0.4625, 0.4911, 0.5895, 0.6712,\n",
      "         0.6693, 0.7587, 0.7078, 0.7781, 0.8045, 0.8534, 0.9011, 0.8931, 0.9332,\n",
      "         0.9267, 0.9475, 0.9541, 0.9783, 0.9831, 0.9794, 0.9771, 0.9792, 0.9863,\n",
      "         0.9880]], device='cuda:0', grad_fn=<SigmoidBackward0>)\n",
      "0.13855144381523132\n"
     ]
    },
    {
     "data": {
      "image/png": "[encoded data removed]",
      "text/plain": [
       "<Figure size 640x480 with 1 Axes>"
      ]
     },
     "metadata": {},
     "output_type": "display_data"
    }
   ],
   "source": [
    "\n",
    "x, y, changePoints = batchSeqGen(1, 1.0, 100)\n",
    "x = x.to(device)\n",
    "y = y.to(device)\n",
    "print(y)\n",
    "print(nn.Sigmoid()(model.forward(x)))\n",
    "print(torch.nn.BCEWithLogitsLoss()(model.forward(x), y).item())\n",
    "modeled = nn.Sigmoid()(model(x))[0]\n",
    "T = changePoints[0]\n",
    "seq = y[0]\n",
    "values = []\n",
    "for i in range(11):\n",
    "    if i - 5 + T > 100:\n",
    "        values.append(1.0)\n",
    "    else:\n",
    "        values.append(modeled[i - 5 + T].item())\n",
    "plt.scatter([i-5 for i in range(11)], values)\n",
    "plt.show()\n",
    "# error_present(nn.Sigmoid()(model(x))[0], changePoints[0], y[0])\n",
    "            "
   ]
  }
 ],
 "metadata": {
  "kernelspec": {
   "display_name": "Python 3 (ipykernel)",
   "language": "python",
   "name": "python3"
  },
  "language_info": {
   "codemirror_mode": {
    "name": "ipython",
    "version": 3
   },
   "file_extension": ".py",
   "mimetype": "text/x-python",
   "name": "python",
   "nbconvert_exporter": "python",
   "pygments_lexer": "ipython3",
   "version": "3.8.3"
  }
 },
 "nbformat": 4,
 "nbformat_minor": 5
}
