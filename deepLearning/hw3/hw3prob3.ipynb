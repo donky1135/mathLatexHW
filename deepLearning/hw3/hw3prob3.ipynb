{
 "cells": [
  {
   "cell_type": "markdown",
   "id": "cc3e0ff4-4abb-4886-9352-c87e646d8e84",
   "metadata": {},
   "source": [
    "## Problem 3"
   ]
  },
  {
   "cell_type": "code",
   "execution_count": 2,
   "id": "1ab47683",
   "metadata": {},
   "outputs": [
    {
     "name": "stdout",
     "output_type": "stream",
     "text": [
      "Using device: cuda\n"
     ]
    }
   ],
   "source": [
    "import torch\n",
    "import torchvision\n",
    "import torchvision.transforms as transforms\n",
    "import torchvision.datasets as datasets\n",
    "import matplotlib.pyplot as plt\n",
    "import numpy as np\n",
    "import torch.nn as nn\n",
    "import torch.optim as optim\n",
    "import random\n",
    "import math\n",
    "import time\n",
    "import func3\n",
    "\n",
    "# nums = torch.Tensor(np.array([i for i in range(10)], dtype=np.long))\n",
    "\n",
    "device = torch.device('cuda' if torch.cuda.is_available() else 'cpu')\n",
    "print('Using device:', device)"
   ]
  },
  {
   "cell_type": "code",
   "execution_count": 23,
   "id": "1322def1",
   "metadata": {},
   "outputs": [
    {
     "name": "stdout",
     "output_type": "stream",
     "text": [
      "torch.Size([10])\n",
      "tensor(0.)\n"
     ]
    }
   ],
   "source": [
    "print(nums.shape)\n",
    "print(nums[0])"
   ]
  },
  {
   "cell_type": "code",
   "execution_count": 3,
   "id": "23cc9611",
   "metadata": {},
   "outputs": [],
   "source": [
    "class callAndResponse(nn.Module):\n",
    "    def __init__(self, n):\n",
    "        super(callAndResponse, self).__init__()\n",
    "        self.sumLSTM = nn.LSTM(2,n)\n",
    "        self.queryS = nn.Sequential(nn.Linear(n+2, n+2//2), nn.Sigmoid(), nn.Linear(n+2//2, n+2//2), nn.Sigmoid(), nn.Linear(n+2//2, 1)) \n",
    "        self.embedNum = nn.Embedding(10,2)\n",
    "    def summary(self, emseq):\n",
    "        summar, _ = self.sumLSTM(emseq)\n",
    "        return summar[-1]\n",
    "    def query(self, summar, emq):\n",
    "        return self.queryS(nn.concat(summar)\n",
    "    def embed(self, seq):\n",
    "        return embedNum(seq)\n",
    "    \n",
    "    def forward(self, rawseq):\n",
    "        finalOut = torch.zeros((10, rawseq.shape[0]))\n",
    "        summar = self.summary(self.embedNum())\n",
    "        for i in range(10):\n",
    "            finalOut[i] = self.query(summar)\n",
    "        return finalOut"
   ]
  },
  {
   "cell_type": "code",
   "execution_count": 29,
   "id": "fb088ae0",
   "metadata": {},
   "outputs": [],
   "source": [
    "def genSeq(n,numterm):\n",
    "    seq = torch.zeros((n))\n",
    "    alphabet = nums[random.sample([i for i in range(10)], k=numterm)]\n",
    "    for i in range(n):\n",
    "        samp = random.randint(0,numterm - 1)\n",
    "        seq[i] = alphabet[samp]\n",
    "    return seq"
   ]
  },
  {
   "cell_type": "code",
   "execution_count": 57,
   "id": "d8a00c48",
   "metadata": {},
   "outputs": [
    {
     "name": "stdout",
     "output_type": "stream",
     "text": [
      "tensor([5., 2., 3., 3., 5., 5., 2., 1., 2., 1., 1., 3., 9., 2., 3., 9., 2., 2.,\n",
      "        5., 9.])\n"
     ]
    }
   ],
   "source": [
    "print(genSeq(20,5))"
   ]
  },
  {
   "cell_type": "code",
   "execution_count": 41,
   "id": "79a0e1ae",
   "metadata": {},
   "outputs": [
    {
     "ename": "SyntaxError",
     "evalue": "invalid syntax (Temp/ipykernel_19480/1875596891.py, line 1)",
     "output_type": "error",
     "traceback": [
      "\u001b[1;36m  File \u001b[1;32m\"C:\\Users\\algeria\\AppData\\Local\\Temp/ipykernel_19480/1875596891.py\"\u001b[1;36m, line \u001b[1;32m1\u001b[0m\n\u001b[1;33m    def get_batch\u001b[0m\n\u001b[1;37m                 ^\u001b[0m\n\u001b[1;31mSyntaxError\u001b[0m\u001b[1;31m:\u001b[0m invalid syntax\n"
     ]
    }
   ],
   "source": [
    "def get_batch(batch_size, n, numterm):\n",
    "    batch = torch.zeros((batch_size, n))\n",
    "    for i in range(batch_size):\n",
    "        batch[]"
   ]
  }
 ],
 "metadata": {
  "kernelspec": {
   "display_name": "Python 3 (ipykernel)",
   "language": "python",
   "name": "python3"
  },
  "language_info": {
   "codemirror_mode": {
    "name": "ipython",
    "version": 3
   },
   "file_extension": ".py",
   "mimetype": "text/x-python",
   "name": "python",
   "nbconvert_exporter": "python",
   "pygments_lexer": "ipython3",
   "version": "3.11.8"
  }
 },
 "nbformat": 4,
 "nbformat_minor": 5
}
