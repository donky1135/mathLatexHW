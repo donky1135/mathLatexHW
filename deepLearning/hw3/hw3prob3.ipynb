{
 "cells": [
  {
   "cell_type": "markdown",
   "id": "cc3e0ff4-4abb-4886-9352-c87e646d8e84",
   "metadata": {},
   "source": [
    "## Problem 3"
   ]
  }
 ],
 "metadata": {
  "kernelspec": {
   "display_name": "Python 3 (ipykernel)",
   "language": "python",
   "name": "python3"
  },
  "language_info": {
   "codemirror_mode": {
    "name": "ipython",
    "version": 3
   },
   "file_extension": ".py",
   "mimetype": "text/x-python",
   "name": "python",
   "nbconvert_exporter": "python",
   "pygments_lexer": "ipython3",
   "version": "3.8.3"
  }
 },
 "nbformat": 4,
 "nbformat_minor": 5
}
