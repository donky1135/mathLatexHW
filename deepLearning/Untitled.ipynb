{
 "cells": [
  {
   "cell_type": "code",
   "execution_count": 4,
   "id": "b40c676c",
   "metadata": {},
   "outputs": [],
   "source": [
    "names = [\"AjBU\",\"AlexValentino\",\"AlexVarjabedian\",\"DanielElwell\",\"DayoonKim\",\"GeorgeSpahn\",\"GloriaLiu\",\"HimanshuChandra\",\"IsaacLam\",\"JosephKoutsoutis\",\"KayleeWeatherspoon\",\n",
    "\"LucyMartinez\",\"NatalyaTerSaakov\",\"NkhaloMalawo\",\"NurayKutlu\",\"PabloBlanco\",\"RameshBalaji\",\"RDB\",\"RyanBadi\",\"ShauryaBaranwal\"]"
   ]
  },
  {
   "cell_type": "code",
   "execution_count": 15,
   "id": "69518db5",
   "metadata": {},
   "outputs": [
    {
     "name": "stdout",
     "output_type": "stream",
     "text": [
      "Put in AjBU's first char in valentine message, put ? for lack of info\n",
      "?\n",
      "AjBU didn't do the assignment correctly\n",
      "Put in AlexValentino's first char in valentine message, put ? for lack of info\n",
      "D\n",
      "21\n",
      "AlexValentino is 21 mod 26 years old\n",
      "Put in AlexVarjabedian's first char in valentine message, put ? for lack of info\n",
      "B\n",
      "19\n",
      "AlexVarjabedian is 19 mod 26 years old\n",
      "Put in DanielElwell's first char in valentine message, put ? for lack of info\n",
      "?\n",
      "DanielElwell didn't do the assignment correctly\n",
      "Put in DayoonKim's first char in valentine message, put ? for lack of info\n",
      "?\n",
      "DayoonKim didn't do the assignment correctly\n",
      "Put in GeorgeSpahn's first char in valentine message, put ? for lack of info\n",
      "?\n",
      "GeorgeSpahn didn't do the assignment correctly\n",
      "Put in GloriaLiu's first char in valentine message, put ? for lack of info\n",
      "D\n",
      "21\n",
      "GloriaLiu is 21 mod 26 years old\n",
      "Put in HimanshuChandra's first char in valentine message, put ? for lack of info\n",
      "E\n",
      "22\n",
      "HimanshuChandra is 22 mod 26 years old\n",
      "Put in IsaacLam's first char in valentine message, put ? for lack of info\n",
      "?\n",
      "IsaacLam didn't do the assignment correctly\n",
      "Put in JosephKoutsoutis's first char in valentine message, put ? for lack of info\n",
      "C\n",
      "20\n",
      "JosephKoutsoutis is 20 mod 26 years old\n",
      "Put in KayleeWeatherspoon's first char in valentine message, put ? for lack of info\n",
      "E\n",
      "22\n",
      "KayleeWeatherspoon is 22 mod 26 years old\n",
      "Put in LucyMartinez's first char in valentine message, put ? for lack of info\n",
      "H\n",
      "25\n",
      "LucyMartinez is 25 mod 26 years old\n",
      "Put in NatalyaTerSaakov's first char in valentine message, put ? for lack of info\n",
      "G\n",
      "24\n",
      "NatalyaTerSaakov is 24 mod 26 years old\n",
      "Put in NkhaloMalawo's first char in valentine message, put ? for lack of info\n",
      "?\n",
      "NkhaloMalawo didn't do the assignment correctly\n",
      "Put in NurayKutlu's first char in valentine message, put ? for lack of info\n",
      "?\n",
      "NurayKutlu didn't do the assignment correctly\n",
      "Put in PabloBlanco's first char in valentine message, put ? for lack of info\n",
      "D\n",
      "21\n",
      "PabloBlanco is 21 mod 26 years old\n",
      "Put in RameshBalaji's first char in valentine message, put ? for lack of info\n",
      "B\n",
      "19\n",
      "RameshBalaji is 19 mod 26 years old\n",
      "Put in RDB's first char in valentine message, put ? for lack of info\n",
      "?\n",
      "RDB didn't do the assignment correctly\n",
      "Put in RyanBadi's first char in valentine message, put ? for lack of info\n",
      "C\n",
      "20\n",
      "RyanBadi is 20 mod 26 years old\n",
      "Put in ShauryaBaranwal's first char in valentine message, put ? for lack of info\n",
      "B\n",
      "19\n",
      "ShauryaBaranwal is 19 mod 26 years old\n"
     ]
    }
   ],
   "source": [
    "for name in names:\n",
    "    iPlace = input(\"Put in %s's first char in valentine message, put ? for lack of info\\n\" % name).lower()\n",
    "    if iPlace == '?':\n",
    "        print(\"%s didn't do the assignment correctly\" % name)\n",
    "    else:\n",
    "        pos = (ord(iPlace) - ord('i')) % 26\n",
    "        print(pos)\n",
    "        if pos == 27 or pos == 26:\n",
    "            print(\"%s is 26/27\" % name)\n",
    "        else:\n",
    "            print(\"%s is %s mod 26 years old\" % (name,str(pos)))"
   ]
  },
  {
   "cell_type": "code",
   "execution_count": null,
   "id": "9f1a16be",
   "metadata": {},
   "outputs": [],
   "source": []
  }
 ],
 "metadata": {
  "kernelspec": {
   "display_name": "Python 3 (ipykernel)",
   "language": "python",
   "name": "python3"
  },
  "language_info": {
   "codemirror_mode": {
    "name": "ipython",
    "version": 3
   },
   "file_extension": ".py",
   "mimetype": "text/x-python",
   "name": "python",
   "nbconvert_exporter": "python",
   "pygments_lexer": "ipython3",
   "version": "3.10.0"
  }
 },
 "nbformat": 4,
 "nbformat_minor": 5
}
