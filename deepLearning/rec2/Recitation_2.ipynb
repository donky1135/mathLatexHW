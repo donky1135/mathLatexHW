{
 "cells": [
  {
   "cell_type": "markdown",
   "metadata": {
    "id": "bjrpOUau8lud"
   },
   "source": [
    "# Recitation 2\n",
    "TA: Shiwei Tan (shiwei.tan@rutgers.edu)\n",
    "## Outline\n",
    "- Linear Data - Linear Model\n",
    "- Quad Data - Linear Model\n",
    "- Quad Data - Linear Model + Quad Features"
   ]
  },
  {
   "cell_type": "markdown",
   "metadata": {
    "id": "-6gN00My_zbG"
   },
   "source": [
    "# Generate Linear Dataset\n",
    "We generate samples in 2-D space and they are from a normal distribution centered around the origin.\n",
    "\n",
    "We then assign labels to them: samples above a straight line $x+y=0$ (with some random error) are positive samples. The others are negative samples."
   ]
  },
  {
   "cell_type": "code",
   "execution_count": 1,
   "metadata": {
    "id": "CUvgmIDE1rdO"
   },
   "outputs": [],
   "source": [
    "import torch"
   ]
  },
  {
   "cell_type": "code",
   "execution_count": 5,
   "metadata": {
    "id": "lk-tfVb7_-a0"
   },
   "outputs": [],
   "source": [
    "def generate_data(n):\n",
    "  xRaw = torch.randn((n, 2)) # Generating a scatterplot of 2D data points, centered in a 'normal' way around (0,0)\n",
    "  x = torch.ones((n, 3))\n",
    "  x[:,1] = xRaw[:,0]\n",
    "  x[:,2] = xRaw[:,1]\n",
    "\n",
    "  y = torch.zeros((n,1)) # For each of n rows, we will save a label that is either 0 or 1\n",
    "\n",
    "  for i in range(n):\n",
    "    noise = ( torch.randn( 1 ) * 0.1 ).item()\n",
    "\n",
    "    # if x1 + x2 + (a little bit of noise) > 0, call that a 1, else, call it a 0\n",
    "    # So the 'line of best division should be 1*x1 + 1*x2 = 0\n",
    "\n",
    "    if 0 * x[i,0] + 1 * x[i,1] + 1 * x[i,2] + noise > 0:\n",
    "      y[i,0] = 1\n",
    "    else:\n",
    "      y[i,0] = 0\n",
    "\n",
    "  return x, y"
   ]
  },
  {
   "cell_type": "markdown",
   "metadata": {
    "id": "t6OrnhG_AR2-"
   },
   "source": [
    "Let's visualize our sample points."
   ]
  },
  {
   "cell_type": "code",
   "execution_count": 3,
   "metadata": {
    "id": "K4ha_asoARL3"
   },
   "outputs": [],
   "source": [
    "import matplotlib.pyplot as plt"
   ]
  },
  {
   "cell_type": "code",
   "execution_count": 6,
   "metadata": {
    "colab": {
     "base_uri": "https://localhost:8080/",
     "height": 467
    },
    "id": "IClcCRC0Abc6",
    "outputId": "231af167-8614-4738-dbc5-1bd0dff8b8a9"
   },
   "outputs": [
    {
     "data": {
      "image/png": "[encoded data removed]",
      "text/plain": [
       "<Figure size 432x288 with 1 Axes>"
      ]
     },
     "metadata": {
      "needs_background": "light"
     },
     "output_type": "display_data"
    },
    {
     "name": "stdout",
     "output_type": "stream",
     "text": [
      "X.shape: torch.Size([100, 3])\n",
      "Y.shape: torch.Size([100, 1])\n"
     ]
    }
   ],
   "source": [
    "n_data = 100\n",
    "x, y = generate_data(n_data)\n",
    "\n",
    "def visualize(x, y):\n",
    "  pos_idx = (y[:, 0] == 1)\n",
    "  neg_idx = (y[:, 0] == 0)\n",
    "  plt.scatter(x[pos_idx, 1], x[pos_idx, 2], color='red', marker='.')\n",
    "  plt.scatter(x[neg_idx, 1], x[neg_idx, 2], color='blue', marker='.')\n",
    "  plt.show()\n",
    "\n",
    "visualize(x, y)\n",
    "print(\"X.shape:\", x.shape)\n",
    "print(\"Y.shape:\", y.shape)"
   ]
  },
  {
   "cell_type": "markdown",
   "metadata": {
    "id": "6qM2bJuxXK-i"
   },
   "source": [
    "## Define Our Logistic Model\n",
    "$$y=\\frac{1}{1+e^{-w^Tx}}$$"
   ]
  },
  {
   "cell_type": "code",
   "execution_count": 7,
   "metadata": {
    "id": "a20U8rGgXKML"
   },
   "outputs": [],
   "source": [
    "def compute_logistic_model(x, w, n):\n",
    "    y_prob = torch.zeros( (n,1) )\n",
    "\n",
    "    for i in range(n):\n",
    "        exponent = torch.sum( x[i,:] * w ) # These are element-wise operations\n",
    "\n",
    "        y_prob[i,0] = 1/(1 + torch.exp(-1 * exponent) )\n",
    "        # compute the probability, and save it\n",
    "\n",
    "    return y_prob"
   ]
  },
  {
   "cell_type": "markdown",
   "metadata": {
    "id": "JwkHR49IX1tH"
   },
   "source": [
    "The function to evaluate our model:"
   ]
  },
  {
   "cell_type": "code",
   "execution_count": 8,
   "metadata": {
    "id": "wDSnyGd-X83N"
   },
   "outputs": [],
   "source": [
    "def test_accuracy(x,y,w,n):\n",
    "    y_prob = compute_logistic_model(x,w,n) # for each x, compute the probablity that x should be labeled 1\n",
    "    # note that the probability it should be labeled 0 is 1 - (that probablity)\n",
    "\n",
    "    misclassifications = 0\n",
    "    for i in range(n):\n",
    "        if y_prob[i,0] >= 0.5 and y[i,0] == 0:# if probability is high but tag is 0, bad!\n",
    "            misclassifications += 1\n",
    "        elif y_prob[i,0] < 0.5 and y[i,0] == 1:# if probability is low but tag is 1, bad!\n",
    "            misclassifications += 1\n",
    "\n",
    "    return 1 - misclassifications / n # accuracy is 1 - (errors)"
   ]
  },
  {
   "cell_type": "markdown",
   "metadata": {
    "id": "5vsESJxfZy28"
   },
   "source": [
    "We randomly initialize the model weights and see its current accuracy:"
   ]
  },
  {
   "cell_type": "code",
   "execution_count": 9,
   "metadata": {
    "colab": {
     "base_uri": "https://localhost:8080/"
    },
    "id": "6P-kjlejaG4s",
    "outputId": "08b176ed-fb11-407b-9cc8-6ec810758ff8"
   },
   "outputs": [
    {
     "name": "stdout",
     "output_type": "stream",
     "text": [
      "Initializing Logistic Weights: tensor([[1.0122, 0.6011, 0.7790]])\n",
      "Initial Model Accuracy ( prob >= 0.5, guess y = 1, prob < 0.5, guess y = 0): 0.71\n"
     ]
    }
   ],
   "source": [
    "w = torch.nn.Parameter( torch.randn((1,3)), requires_grad = True )\n",
    "# Note data is 2D, so we need 3 parameters (to account for the bias term)\n",
    "print(\"Initializing Logistic Weights:\", w.data)\n",
    "print(\"Initial Model Accuracy ( prob >= 0.5, guess y = 1, prob < 0.5, guess y = 0):\", test_accuracy(x,y,w,n_data))"
   ]
  },
  {
   "cell_type": "markdown",
   "metadata": {
    "id": "Z__unHXLa1JP"
   },
   "source": [
    "Now let's train our model.\n",
    "$$\n",
    "L(w)=-\\sum_{i=1}^{N}y_i\\log y_{pred} + (1-y_i)\\log(1-y_{pred})\n",
    "$$"
   ]
  },
  {
   "cell_type": "code",
   "execution_count": 10,
   "metadata": {
    "colab": {
     "base_uri": "https://localhost:8080/"
    },
    "id": "MJuQrp11a41a",
    "outputId": "79835703-1685-4656-b6b5-4cef1c450a4d"
   },
   "outputs": [
    {
     "name": "stderr",
     "output_type": "stream",
     "text": [
      "100%|██████████████████████████████████████████████████████████████████████████████████████████████████████████████████| 1000/1000 [00:26<00:00, 38.11it/s]\n"
     ]
    }
   ],
   "source": [
    "from tqdm import tqdm\n",
    "alpha = 0.05\n",
    "\n",
    "loss_arr = []\n",
    "acc_arr = []\n",
    "\n",
    "for i in tqdm(range(1000)):\n",
    "    y_prob = compute_logistic_model(x, w, n_data)\n",
    "    # Compute the probabilities based on the mode\n",
    "\n",
    "    loss_by_data_point = -1 * y * torch.log( y_prob ) - (1 - y) * torch.log( 1 - y_prob )\n",
    "    # This will return a tensor of losses, one for each data point\n",
    "\n",
    "    loss = torch.mean( loss_by_data_point )\n",
    "    # The final loss is the average log loss over all data points\n",
    "\n",
    "    loss.backward()\n",
    "\n",
    "    with torch.no_grad():\n",
    "        w -= alpha * w.grad\n",
    "\n",
    "    w.grad = None\n",
    "\n",
    "    loss_arr.append(loss.item())\n",
    "    acc_arr.append(test_accuracy(x, y, w, n_data))"
   ]
  },
  {
   "cell_type": "code",
   "execution_count": 11,
   "metadata": {
    "colab": {
     "base_uri": "https://localhost:8080/",
     "height": 887
    },
    "id": "cuC-b6uVmCvj",
    "outputId": "a20d926e-3990-413a-ea05-0b7f344faee3"
   },
   "outputs": [
    {
     "data": {
      "image/png": "[encoded data removed]",
      "text/plain": [
       "<Figure size 432x288 with 1 Axes>"
      ]
     },
     "metadata": {
      "needs_background": "light"
     },
     "output_type": "display_data"
    },
    {
     "data": {
      "image/png": "[encoded data removed]",
      "text/plain": [
       "<Figure size 432x288 with 1 Axes>"
      ]
     },
     "metadata": {
      "needs_background": "light"
     },
     "output_type": "display_data"
    }
   ],
   "source": [
    "def vis_loss():\n",
    "  plt.figure()\n",
    "  plt.plot(loss_arr)\n",
    "  plt.title(\"Loss\")\n",
    "  plt.show()\n",
    "\n",
    "  plt.figure()\n",
    "  plt.plot(acc_arr)\n",
    "  plt.title(\"Accuracy\")\n",
    "  plt.show()\n",
    "\n",
    "vis_loss()"
   ]
  },
  {
   "cell_type": "markdown",
   "metadata": {
    "id": "D22Mao-km1Mz"
   },
   "source": [
    "## Generate a Quadratic Dataset\n",
    "Now we have a circle with radius 1. Only the samples outside this circle are positive samples."
   ]
  },
  {
   "cell_type": "code",
   "execution_count": 12,
   "metadata": {
    "colab": {
     "base_uri": "https://localhost:8080/",
     "height": 430
    },
    "id": "v7Fhum1AoyzK",
    "outputId": "fd4f134d-5c5e-4909-a008-0be474f75838"
   },
   "outputs": [
    {
     "data": {
      "image/png": "[encoded data removed]",
      "text/plain": [
       "<Figure size 432x288 with 1 Axes>"
      ]
     },
     "metadata": {
      "needs_background": "light"
     },
     "output_type": "display_data"
    }
   ],
   "source": [
    "def generate_data(n):\n",
    "    xRaw = torch.randn( (n,2) )\n",
    "    x = torch.ones( (n,3) )\n",
    "    x[:,[1,2]] = xRaw\n",
    "\n",
    "    y = torch.zeros( (n,1) )\n",
    "    for i in range(n):\n",
    "        noise = ( torch.randn( 1 ) * 0.1 ).item()\n",
    "\n",
    "        if (x[i,1])**2 + (x[i,2])**2 + noise > 1:\n",
    "            y[i,0] = 1\n",
    "        else:\n",
    "            y[i,0] = 0\n",
    "\n",
    "    return x,y\n",
    "\n",
    "n_data = 100\n",
    "x, y = generate_data(n_data)\n",
    "visualize(x, y)"
   ]
  },
  {
   "cell_type": "markdown",
   "metadata": {
    "id": "hEMk34UspiDK"
   },
   "source": [
    "Randomly initialize and evaluate:"
   ]
  },
  {
   "cell_type": "code",
   "execution_count": 13,
   "metadata": {
    "colab": {
     "base_uri": "https://localhost:8080/"
    },
    "id": "LELIEt4JplhG",
    "outputId": "094d68f9-3ee7-4cbb-f2b0-cec6b5cfdd77"
   },
   "outputs": [
    {
     "name": "stdout",
     "output_type": "stream",
     "text": [
      "Initializing Logistic Weights: tensor([[-0.8834,  1.7211,  0.5131]])\n",
      "Initial Model Accuracy ( prob >= 0.5, guess y = 1, prob < 0.5, guess y = 0): 0.5800000000000001\n"
     ]
    }
   ],
   "source": [
    "w = torch.nn.Parameter( torch.randn((1,3)), requires_grad = True )\n",
    "print(\"Initializing Logistic Weights:\", w.data)\n",
    "print(\"Initial Model Accuracy ( prob >= 0.5, guess y = 1, prob < 0.5, guess y = 0):\", test_accuracy(x,y,w,n_data))"
   ]
  },
  {
   "cell_type": "markdown",
   "metadata": {
    "id": "KjlifyJQrzrU"
   },
   "source": [
    "Let's train it!"
   ]
  },
  {
   "cell_type": "code",
   "execution_count": 14,
   "metadata": {
    "colab": {
     "base_uri": "https://localhost:8080/"
    },
    "id": "jTsmKwwcr1c4",
    "outputId": "3e37202b-9ccb-417a-d8a6-6abdd84ec692"
   },
   "outputs": [
    {
     "name": "stderr",
     "output_type": "stream",
     "text": [
      "100%|████████████████████████████████████████████████████████████████████████████████████████████████████████████████████| 500/500 [00:12<00:00, 38.89it/s]\n"
     ]
    }
   ],
   "source": [
    "alpha = 0.05\n",
    "\n",
    "loss_arr = []\n",
    "acc_arr = []\n",
    "\n",
    "for i in tqdm(range(500)):\n",
    "    y_prob = compute_logistic_model(x, w, n_data)\n",
    "\n",
    "    loss_by_data_point = -1 * y * torch.log( y_prob ) - (1 - y) * torch.log( 1 - y_prob )\n",
    "    loss = torch.mean( loss_by_data_point )\n",
    "\n",
    "    loss.backward()\n",
    "\n",
    "    with torch.no_grad():\n",
    "        w -= alpha * w.grad\n",
    "    w.grad = None\n",
    "\n",
    "    loss_arr.append(loss.item())\n",
    "    acc_arr.append(test_accuracy(x,y,w,n_data))"
   ]
  },
  {
   "cell_type": "code",
   "execution_count": 15,
   "metadata": {
    "colab": {
     "base_uri": "https://localhost:8080/",
     "height": 887
    },
    "id": "cvOFqovpsXVu",
    "outputId": "56db522a-c30c-475f-c285-9ebc66ea47a0"
   },
   "outputs": [
    {
     "data": {
      "image/png": "[encoded data removed]",
      "text/plain": [
       "<Figure size 432x288 with 1 Axes>"
      ]
     },
     "metadata": {
      "needs_background": "light"
     },
     "output_type": "display_data"
    },
    {
     "data": {
      "image/png": "[encoded data removed]",
      "text/plain": [
       "<Figure size 432x288 with 1 Axes>"
      ]
     },
     "metadata": {
      "needs_background": "light"
     },
     "output_type": "display_data"
    }
   ],
   "source": [
    "vis_loss()"
   ]
  },
  {
   "cell_type": "markdown",
   "metadata": {
    "id": "g-uD1GJntzAF"
   },
   "source": [
    "## Add Quadratic Features to the Data\n",
    "Every sample point $(1, x_1, x_2)$ is mapped to $(1, x_1, x_2, x_1^2, x_2^2, x_1\\cdot x_2)$.\n",
    "\n",
    "Now, a linear model on the new data can capture the true model of $x_1^2+x_2^2>1$."
   ]
  },
  {
   "cell_type": "code",
   "execution_count": 17,
   "metadata": {
    "colab": {
     "base_uri": "https://localhost:8080/",
     "height": 430
    },
    "id": "whjlsDN2t8bM",
    "outputId": "02f983e4-8f19-4bdb-aecb-34313bcd48ec"
   },
   "outputs": [
    {
     "data": {
      "image/png": "[encoded data removed]",
      "text/plain": [
       "<Figure size 432x288 with 1 Axes>"
      ]
     },
     "metadata": {
      "needs_background": "light"
     },
     "output_type": "display_data"
    }
   ],
   "source": [
    "def generate_data(n):\n",
    "    xRaw = torch.randn( (n,2) )\n",
    "    y = torch.zeros( (n,1) )\n",
    "    for i in range(n):\n",
    "        noise = ( torch.randn( 1 ) * 0.1 ).item()\n",
    "\n",
    "        if (xRaw[i,0])**2 + (xRaw[i,1])**2 + noise > 1:\n",
    "            y[i,0] = 1\n",
    "        else:\n",
    "            y[i,0] = 0\n",
    "\n",
    "    x = torch.ones( (n,6) )\n",
    "    x[:,[1,2]] = xRaw\n",
    "    x[:,3] = xRaw[:,0] ** 2\n",
    "    x[:,4] = xRaw[:,1] ** 2\n",
    "    x[:,5] = xRaw[:,0] * xRaw[:,1]\n",
    "\n",
    "    return x,y\n",
    "\n",
    "n_data = 100\n",
    "x, y = generate_data(n_data)\n",
    "visualize(x[:, :3], y)"
   ]
  },
  {
   "cell_type": "markdown",
   "metadata": {
    "id": "UFVWMXM8w0t-"
   },
   "source": [
    "Now we initialize our model."
   ]
  },
  {
   "cell_type": "code",
   "execution_count": 18,
   "metadata": {
    "colab": {
     "base_uri": "https://localhost:8080/"
    },
    "id": "tuUlUcZhw48N",
    "outputId": "8e37aa40-ea25-4bb1-ac38-fe4c8b8b4345"
   },
   "outputs": [
    {
     "name": "stdout",
     "output_type": "stream",
     "text": [
      "Initializing Logistic Weights: tensor([[ 1.5554, -0.3777, -0.4164, -0.5238,  0.1045,  1.3852]])\n",
      "Initial Model Accuracy ( prob >= 0.5, guess y = 1, prob < 0.5, guess y = 0): 0.43999999999999995\n"
     ]
    }
   ],
   "source": [
    "w = torch.nn.Parameter( torch.randn((1,6)), requires_grad = True ) # Note we have 6 total features now, need 6 weights\n",
    "print(\"Initializing Logistic Weights:\", w.data)\n",
    "print(\"Initial Model Accuracy ( prob >= 0.5, guess y = 1, prob < 0.5, guess y = 0):\", test_accuracy(x,y,w,n_data))"
   ]
  },
  {
   "cell_type": "markdown",
   "metadata": {
    "id": "I0L8oTNLw-oT"
   },
   "source": [
    "Train:"
   ]
  },
  {
   "cell_type": "code",
   "execution_count": 19,
   "metadata": {
    "colab": {
     "base_uri": "https://localhost:8080/",
     "height": 905
    },
    "id": "oUfg_sGZxCh1",
    "outputId": "e4a2d224-a768-4283-a564-fd5caab3f332"
   },
   "outputs": [
    {
     "name": "stderr",
     "output_type": "stream",
     "text": [
      "100%|██████████████████████████████████████████████████████████████████████████████████████████████████████████████████| 1000/1000 [00:26<00:00, 38.30it/s]\n"
     ]
    },
    {
     "data": {
      "image/png": "[encoded data removed]",
      "text/plain": [
       "<Figure size 432x288 with 1 Axes>"
      ]
     },
     "metadata": {
      "needs_background": "light"
     },
     "output_type": "display_data"
    },
    {
     "data": {
      "image/png": "[encoded data removed]",
      "text/plain": [
       "<Figure size 432x288 with 1 Axes>"
      ]
     },
     "metadata": {
      "needs_background": "light"
     },
     "output_type": "display_data"
    }
   ],
   "source": [
    "alpha = 0.05\n",
    "\n",
    "loss_arr = []\n",
    "acc_arr = []\n",
    "\n",
    "for i in tqdm(range(1000)):\n",
    "    y_prob = compute_logistic_model(x, w, n_data)\n",
    "\n",
    "    loss_by_data_point = -1 * y * torch.log( y_prob + 0.0001 ) - (1 - y) * torch.log( 1 - y_prob + 0.0001 )\n",
    "    # The 0.0001 above is for numerical stability. We don't want to calculate log(0).\n",
    "\n",
    "    loss = torch.mean( loss_by_data_point )\n",
    "\n",
    "    loss.backward()\n",
    "\n",
    "    with torch.no_grad():\n",
    "        w -= alpha * w.grad\n",
    "    w.grad = None\n",
    "\n",
    "    loss_arr.append(loss.item())\n",
    "    acc_arr.append(test_accuracy(x,y,w,n_data))\n",
    "\n",
    "vis_loss()"
   ]
  }
 ],
 "metadata": {
  "colab": {
   "provenance": []
  },
  "kernelspec": {
   "display_name": "Python 3 (ipykernel)",
   "language": "python",
   "name": "python3"
  },
  "language_info": {
   "codemirror_mode": {
    "name": "ipython",
    "version": 3
   },
   "file_extension": ".py",
   "mimetype": "text/x-python",
   "name": "python",
   "nbconvert_exporter": "python",
   "pygments_lexer": "ipython3",
   "version": "3.10.0"
  }
 },
 "nbformat": 4,
 "nbformat_minor": 1
}
