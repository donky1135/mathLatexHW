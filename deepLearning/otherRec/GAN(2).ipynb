{
 "cells": [
  {
   "cell_type": "code",
   "execution_count": 1,
   "metadata": {
    "colab": {
     "base_uri": "https://localhost:8080/"
    },
    "id": "qS_2vClZgbL2",
    "outputId": "cf1fe71a-1abf-4fe7-d86e-645846bf670b"
   },
   "outputs": [
    {
     "name": "stdout",
     "output_type": "stream",
     "text": [
      "Downloading http://yann.lecun.com/exdb/mnist/train-images-idx3-ubyte.gz\n",
      "Downloading http://yann.lecun.com/exdb/mnist/train-images-idx3-ubyte.gz to ./data/MNIST/raw/train-images-idx3-ubyte.gz\n"
     ]
    },
    {
     "name": "stderr",
     "output_type": "stream",
     "text": [
      "100%|██████████| 9912422/9912422 [00:00<00:00, 68031324.55it/s]\n"
     ]
    },
    {
     "name": "stdout",
     "output_type": "stream",
     "text": [
      "Extracting ./data/MNIST/raw/train-images-idx3-ubyte.gz to ./data/MNIST/raw\n",
      "\n",
      "Downloading http://yann.lecun.com/exdb/mnist/train-labels-idx1-ubyte.gz\n",
      "Downloading http://yann.lecun.com/exdb/mnist/train-labels-idx1-ubyte.gz to ./data/MNIST/raw/train-labels-idx1-ubyte.gz\n"
     ]
    },
    {
     "name": "stderr",
     "output_type": "stream",
     "text": [
      "100%|██████████| 28881/28881 [00:00<00:00, 75426957.55it/s]\n"
     ]
    },
    {
     "name": "stdout",
     "output_type": "stream",
     "text": [
      "Extracting ./data/MNIST/raw/train-labels-idx1-ubyte.gz to ./data/MNIST/raw\n",
      "\n",
      "Downloading http://yann.lecun.com/exdb/mnist/t10k-images-idx3-ubyte.gz\n",
      "Downloading http://yann.lecun.com/exdb/mnist/t10k-images-idx3-ubyte.gz to ./data/MNIST/raw/t10k-images-idx3-ubyte.gz\n"
     ]
    },
    {
     "name": "stderr",
     "output_type": "stream",
     "text": [
      "100%|██████████| 1648877/1648877 [00:00<00:00, 25810861.92it/s]\n"
     ]
    },
    {
     "name": "stdout",
     "output_type": "stream",
     "text": [
      "Extracting ./data/MNIST/raw/t10k-images-idx3-ubyte.gz to ./data/MNIST/raw\n",
      "\n",
      "Downloading http://yann.lecun.com/exdb/mnist/t10k-labels-idx1-ubyte.gz\n",
      "Downloading http://yann.lecun.com/exdb/mnist/t10k-labels-idx1-ubyte.gz to ./data/MNIST/raw/t10k-labels-idx1-ubyte.gz\n"
     ]
    },
    {
     "name": "stderr",
     "output_type": "stream",
     "text": [
      "100%|██████████| 4542/4542 [00:00<00:00, 14976830.79it/s]"
     ]
    },
    {
     "name": "stdout",
     "output_type": "stream",
     "text": [
      "Extracting ./data/MNIST/raw/t10k-labels-idx1-ubyte.gz to ./data/MNIST/raw\n",
      "\n"
     ]
    },
    {
     "name": "stderr",
     "output_type": "stream",
     "text": [
      "\n"
     ]
    },
    {
     "name": "stdout",
     "output_type": "stream",
     "text": [
      "Training Data Inputs: torch.Size([60000, 28, 28])\n",
      "Training Data Outputs: torch.Size([60000])\n"
     ]
    }
   ],
   "source": [
    "import numpy as np\n",
    "import torch\n",
    "from torch import nn\n",
    "import random\n",
    "import matplotlib.pyplot as plt\n",
    "import torch.optim as optim\n",
    "\n",
    "import torchvision\n",
    "import torchvision.datasets as datasets\n",
    "from torchvision.transforms import ToTensor\n",
    "\n",
    "mnist_trainset = datasets.MNIST(root='./data', train=True, download=True, transform=ToTensor())\n",
    "mnist_testset = datasets.MNIST(root='./data', train=False, download=True, transform=ToTensor())\n",
    "\n",
    "train_x = ( mnist_trainset.data / 255.0 )\n",
    "train_y = mnist_trainset.targets\n",
    "\n",
    "test_x = ( mnist_testset.data / 255.0 )\n",
    "test_y = mnist_testset.targets\n",
    "\n",
    "print(\"Training Data Inputs:\", train_x.shape )\n",
    "print(\"Training Data Outputs:\", train_y.shape )"
   ]
  },
  {
   "cell_type": "code",
   "execution_count": 2,
   "metadata": {
    "id": "GmTfDfUigvQG"
   },
   "outputs": [],
   "source": [
    "class DetectorNetwork(nn.Module):\n",
    "  def __init__(self):\n",
    "    super(DetectorNetwork, self).__init__()\n",
    "\n",
    "    self.conv_layer = torch.nn.Conv2d( in_channels = 1, out_channels = 10, kernel_size = 3, stride = 1, bias = True)\n",
    "    self.layer_1 = torch.nn.Linear( in_features = 26*26*10, out_features = 1, bias=True )\n",
    "\n",
    "    ## Standard classification type network\n",
    "    ## Process the input image with a conv layer\n",
    "    ## Flatten it\n",
    "    ## Linear layer mapping down to one value, which we\n",
    "    ## Apply sigmoid to and use as a probability\n",
    "\n",
    "  def forward(self, input_tensor):\n",
    "    output = torch.reshape( input_tensor, shape = (-1, 1, 28, 28) ) # Reshaping is necessary here to match the expected input to the conv layer, 1 channel x 28 x 28 pixels\n",
    "    output = self.conv_layer( output )\n",
    "    output = nn.ELU()( output )\n",
    "\n",
    "    output = nn.Flatten()( output )\n",
    "\n",
    "    output = self.layer_1( output )\n",
    "    output = nn.Sigmoid()( output )\n",
    "    return output\n",
    "\n",
    "class GeneratorNetwork(nn.Module):\n",
    "  def __init__(self):\n",
    "    super(GeneratorNetwork, self).__init__()\n",
    "\n",
    "    self.layer_1 = torch.nn.Linear( in_features = 25, out_features = 10 * 784, bias=True )\n",
    "    # The input to the generator network will be a random vector of size 25\n",
    "    # We first map it up to something larger than the end goal (you should've seen in HW 2 that it was useful to map into a larger space before going to a smaller space)\n",
    "\n",
    "    self.layer_norm = torch.nn.LayerNorm( 10 * 784 )\n",
    "\n",
    "    self.layer_2 = torch.nn.Linear( in_features = 10 * 784, out_features = 5 * 784, bias = True )\n",
    "    # Map down to 5*(desired output size)\n",
    "\n",
    "    self.layer_norm_2 = torch.nn.LayerNorm( 5 * 784 )\n",
    "\n",
    "    self.layer_3 = torch.nn.Linear( in_features = 5 * 784, out_features = 784, bias = True )\n",
    "    # Map down to (desired output size)\n",
    "\n",
    "\n",
    "  def forward(self, input_tensor):\n",
    "    output = self.layer_1( input_tensor )\n",
    "    output = nn.ELU()( output )\n",
    "    output = self.layer_norm( output )\n",
    "    output = self.layer_2( output )\n",
    "    output = nn.ELU()( output )\n",
    "    output = self.layer_norm_2( output )\n",
    "    output = self.layer_3( output )\n",
    "    output = nn.Sigmoid()( output ) # We apply a sigmoid to every entry in the vector to make them all between 0 and 1 (and interpretable as pixel values)\n",
    "    output = torch.reshape( output, shape = (-1, 28, 28) ) # We reshape to the expected image size, 28x28\n",
    "    return output"
   ]
  },
  {
   "cell_type": "code",
   "execution_count": 3,
   "metadata": {
    "id": "VAKmYYuGnTX2"
   },
   "outputs": [],
   "source": [
    "generator = GeneratorNetwork()\n",
    "detector = DetectorNetwork()"
   ]
  },
  {
   "cell_type": "code",
   "execution_count": 4,
   "metadata": {
    "id": "tyKfglGnnZ61"
   },
   "outputs": [],
   "source": [
    "random_seeds = torch.randn(100, 25)"
   ]
  },
  {
   "cell_type": "code",
   "execution_count": 5,
   "metadata": {
    "id": "IFITSd9ByiIX"
   },
   "outputs": [],
   "source": [
    "images = generator( random_seeds ).detach().numpy() # Generate some example images"
   ]
  },
  {
   "cell_type": "code",
   "execution_count": 6,
   "metadata": {
    "colab": {
     "base_uri": "https://localhost:8080/",
     "height": 430
    },
    "id": "MJDlxoG-yj7C",
    "outputId": "f1d0cf2e-b551-4c91-cfb3-47c83fe7db27"
   },
   "outputs": [
    {
     "data": {
      "image/png": "[encoded data removed]",
      "text/plain": [
       "<Figure size 640x480 with 1 Axes>"
      ]
     },
     "metadata": {},
     "output_type": "display_data"
    }
   ],
   "source": [
    "example_image = images[0]\n",
    "\n",
    "fig = plt.figure\n",
    "plt.imshow(example_image, cmap='gray')\n",
    "plt.show()"
   ]
  },
  {
   "cell_type": "markdown",
   "metadata": {
    "id": "99ogGid8rhs-"
   },
   "source": [
    "We see in the above that the initial output of the generator, applied to random seeds, is largely noise in varying shades of gray. This is no surprise - the generator currently has random initial weights, and is doing a random transformation on random input noise, so here we are."
   ]
  },
  {
   "cell_type": "code",
   "execution_count": 10,
   "metadata": {
    "id": "qbxVFalr0_qq"
   },
   "outputs": [],
   "source": [
    "def get_batch( real_images, generator_model, batch_size, label_fakes = True ):\n",
    "\n",
    "  # This function is going to generate a tensor x_batch of 2*batch_size many images\n",
    "  # Half of these images will be drawn from 'real_images' at random\n",
    "  # Half these images will be made using the generator model and technically be fake\n",
    "\n",
    "  # y_batch will hold class labels corresponding to these images, either 1 for 'real' or 0 for 'fake' (if label_fakes is True)\n",
    "  # If label_fakes is false, all y_batch labels will be 1, as though all the real images and fake images are in fact 'real'\n",
    "\n",
    "  x_batch = torch.zeros( size = (2 * batch_size, 28, 28) )\n",
    "  y_batch = torch.ones( size = (2 * batch_size, 1 ) )\n",
    "\n",
    "  batch_indices = random.sample( [ i for i in range( real_images.shape[0] ) ], k = batch_size )\n",
    "\n",
    "  x_batch[0:batch_size] = real_images[ batch_indices ]\n",
    "\n",
    "  random_seeds = torch.randn( batch_size, 25 )\n",
    "  images = generator_model( random_seeds )\n",
    "  x_batch[batch_size:(2*batch_size)] = images\n",
    "\n",
    "  if label_fakes:\n",
    "    y_batch[batch_size:(2*batch_size)] = 0\n",
    "\n",
    "  return x_batch, y_batch"
   ]
  },
  {
   "cell_type": "code",
   "execution_count": 11,
   "metadata": {
    "id": "eVHDJFLgAj7q"
   },
   "outputs": [],
   "source": [
    "def classification_loss( actual_labels, predictions ):\n",
    "  return torch.mean( -1 * torch.log( predictions + 0.0001 ) * actual_labels - torch.log( 1 - predictions + 0.0001 ) * (1 - actual_labels ) )\n",
    "\n",
    "  # Computes the mean log loss (binary cross entropy) between a vector of actual labels and a vector of predicted probabiltiies\n",
    "  # The 0.0001 is a fudge factor to keep me from taking the log of something too close to 0.\n",
    "\n",
    "def accuracy( actual_labels, predictions ):\n",
    "  return ( torch.sum( torch.abs( predictions - actual_labels ) < 0.5 ) / ( actual_labels.shape[0] ) ).item()\n",
    "\n",
    "  # Note that if the actual label is 0, and the prediction is anything < 0.5, then we can view that as the model being 'correct'\n",
    "  # If the actual label is 1 and the prediction is anything > 0.5, we can few that as the model being 'correct'\n",
    "\n",
    "  # Taken together, as long as | label - prediction | < 0.5, we can view the prediction as 'correct'.\n",
    "  # This simply calculates how often this occurs over the set of predictions and labels\n",
    "\n",
    "def train_discriminator( generator_model, discriminator_model, optimizer_d, batch_size, real_images):\n",
    "  # In this function we are treating the generator as fixed, and training the discriminator to better distinguish between\n",
    "  # Real images and fake images\n",
    "  # We will pass it a batch of images (some labeled real, some labeled fake), compute the loss based on its predictions,\n",
    "  # and tweak the discriminator to try to reduce that loss\n",
    "\n",
    "  discriminator_model.train()\n",
    "  generator_model.eval()\n",
    "\n",
    "  optimizer_d.zero_grad()\n",
    "\n",
    "  x_batch, y_batch = get_batch( real_images, generator_model, batch_size, label_fakes = True ) # Note we want to correctly label real as real and fake as fake\n",
    "\n",
    "  predictions = discriminator_model( x_batch )\n",
    "  loss = classification_loss( y_batch, predictions )\n",
    "\n",
    "  loss.backward()\n",
    "  optimizer_d.step()\n",
    "\n",
    "  current_accuracy = accuracy( y_batch, predictions )\n",
    "\n",
    "  return loss.item(), current_accuracy # Returns the current loss and the accuracy\n",
    "\n",
    "\n",
    "def train_generator( generator_model, discriminator_model, optimizer_g, batch_size, real_images):\n",
    "  # In this function, we want to treat the discriminator as fixed, and train the generator\n",
    "  # So we are going to define the loss of the generator /in terms of the discriminator/\n",
    "  # If the discriminator is outputting probabilities that are close to zero, the loss of the generator is high\n",
    "  # since the discriminator can tell that the images are fake.\n",
    "  # If the discriminator is outputing probabilities that are close to 1, the loss of the generator is low\n",
    "  # since the discriminator is classifying the fake images as real\n",
    "\n",
    "  generator_model.train()\n",
    "  discriminator_model.eval()\n",
    "\n",
    "  optimizer_g.zero_grad()\n",
    "\n",
    "  x_batch, y_batch = get_batch( real_images, generator_model, batch_size, label_fakes = False )\n",
    "  # Note that when we get the batch of images here, all are labeled as 'real'\n",
    "  # So that the classification loss is going to measure how close the discriminator predictions are to labeling the fake images as real\n",
    "\n",
    "  predictions = discriminator_model( x_batch )\n",
    "  loss = classification_loss( y_batch, predictions )\n",
    "\n",
    "  loss.backward()\n",
    "  optimizer_g.step()\n",
    "\n",
    "  current_accuracy = accuracy( y_batch, predictions )\n",
    "\n",
    "  return loss.item(), current_accuracy"
   ]
  },
  {
   "cell_type": "code",
   "execution_count": 7,
   "metadata": {
    "id": "Yf6jCMzIFvcG"
   },
   "outputs": [],
   "source": [
    "generator = GeneratorNetwork()\n",
    "detector = DetectorNetwork()\n",
    "\n",
    "generator_optimizer = optim.Adam( generator.parameters(), lr = 0.002, weight_decay = 0.0001 ) # Build an optimizer for each network\n",
    "discriminator_optimizer = optim.Adam( detector.parameters(), lr = 0.002, weight_decay = 0.0001 ) # Learning rates settled on by experiment, some amount of weight decay (ridge regularization) seemed to imrpove my results"
   ]
  },
  {
   "cell_type": "code",
   "execution_count": 15,
   "metadata": {
    "colab": {
     "base_uri": "https://localhost:8080/"
    },
    "id": "5Kd6t7VHRQR0",
    "outputId": "d3c78aa2-826c-4797-b9f4-0f993e9bb2e4"
   },
   "outputs": [
    {
     "name": "stdout",
     "output_type": "stream",
     "text": [
      "Training Detector\n",
      "2.351909637451172 0.5\n",
      "1.8432340621948242 0.5\n",
      "1.1120425462722778 0.48828125\n",
      "0.6899314522743225 0.703125\n",
      "0.7410529851913452 0.54296875\n",
      "0.7866930365562439 0.5\n",
      "0.7001900672912598 0.5078125\n",
      "0.5067621469497681 0.58984375\n",
      "0.2716664969921112 0.91015625\n",
      "0.12173731625080109 1.0\n",
      "\n"
     ]
    }
   ],
   "source": [
    "batch_size = 128 #update based on 128 real & fake images at a time (256 images in total)\n",
    "\n",
    "print(\"Training Detector\")\n",
    "disc_loss, current_accuracy = train_discriminator( generator, detector, discriminator_optimizer, batch_size, train_x )\n",
    "print( disc_loss, current_accuracy )\n",
    "while current_accuracy < 1: # Loop until the discriminator correctly ids 100% of the images in the batch. This is a very strong termination condition, maybe too strong.\n",
    "  disc_loss, current_accuracy = train_discriminator( generator, detector, discriminator_optimizer, batch_size, train_x )\n",
    "  print( disc_loss, current_accuracy )\n",
    "print()"
   ]
  },
  {
   "cell_type": "code",
   "execution_count": 16,
   "metadata": {
    "colab": {
     "base_uri": "https://localhost:8080/"
    },
    "id": "guA2CPP4SEnt",
    "outputId": "891efea1-fcd8-4f9a-f2fa-434523868e37"
   },
   "outputs": [
    {
     "name": "stdout",
     "output_type": "stream",
     "text": [
      "Training Generator\n",
      "1.5493353605270386 0.5\n",
      "1.4849796295166016 0.5\n",
      "1.3114731311798096 0.5\n",
      "1.117074728012085 0.5\n",
      "0.918559193611145 0.5\n",
      "0.7711384296417236 0.52734375\n",
      "0.6821337342262268 0.57421875\n",
      "0.5497151017189026 0.609375\n",
      "0.43621140718460083 0.7109375\n",
      "0.37169551849365234 0.7890625\n",
      "0.327924907207489 0.88671875\n",
      "0.2572984993457794 0.9765625\n",
      "0.21688123047351837 1.0\n",
      "\n"
     ]
    }
   ],
   "source": [
    "print(\"Training Generator\")\n",
    "gen_loss, current_accuracy = train_generator( generator, detector, generator_optimizer, batch_size, train_x)\n",
    "print( gen_loss, current_accuracy )\n",
    "while current_accuracy < 1: # Train the generator, looping until the generated images are IDed as real 100% of the time (for one batch)\n",
    "  gen_loss, current_accuracy = train_generator( generator, detector, generator_optimizer, batch_size, train_x)\n",
    "  print( gen_loss, current_accuracy )\n",
    "print()"
   ]
  },
  {
   "cell_type": "code",
   "execution_count": 17,
   "metadata": {
    "colab": {
     "base_uri": "https://localhost:8080/",
     "height": 430
    },
    "id": "lwPSfeLUSd7r",
    "outputId": "90de2f39-a934-4081-9de3-fa425378fc55"
   },
   "outputs": [
    {
     "data": {
      "image/png": "[encoded data removed]",
      "text/plain": [
       "<Figure size 640x480 with 1 Axes>"
      ]
     },
     "metadata": {},
     "output_type": "display_data"
    }
   ],
   "source": [
    "random_seeds = torch.randn(1, 25)\n",
    "images = generator( random_seeds ).detach().numpy() # Generate an example image based on the current generator\n",
    "example_image = images[0]\n",
    "\n",
    "fig = plt.figure\n",
    "plt.imshow(example_image, cmap='gray')\n",
    "plt.show()"
   ]
  },
  {
   "cell_type": "markdown",
   "metadata": {
    "id": "7UYbWP494xd7"
   },
   "source": [
    "Training then continues, training the discriminator with the newly trained generator, then training the generator with the newly trained discriminator, back and forth until we get to some kind of convergence. We can loop this, as below."
   ]
  },
  {
   "cell_type": "code",
   "execution_count": 31,
   "metadata": {
    "colab": {
     "base_uri": "https://localhost:8080/",
     "height": 1000
    },
    "id": "po7dXLQgnOjH",
    "outputId": "be86d834-ae17-4fe4-f325-db62c570977b"
   },
   "outputs": [
    {
     "name": "stdout",
     "output_type": "stream",
     "text": [
      "Training Detector\n",
      "Training Generator\n",
      "\n"
     ]
    },
    {
     "data": {
      "image/png": "[encoded data removed]",
      "text/plain": [
       "<Figure size 640x480 with 1 Axes>"
      ]
     },
     "metadata": {},
     "output_type": "display_data"
    },
    {
     "name": "stdout",
     "output_type": "stream",
     "text": [
      "Training Detector\n",
      "Training Generator\n",
      "\n"
     ]
    },
    {
     "data": {
      "image/png": "[encoded data removed]",
      "text/plain": [
       "<Figure size 640x480 with 1 Axes>"
      ]
     },
     "metadata": {},
     "output_type": "display_data"
    },
    {
     "name": "stdout",
     "output_type": "stream",
     "text": [
      "Training Detector\n",
      "Training Generator\n",
      "\n"
     ]
    },
    {
     "data": {
      "image/png": "[encoded data removed]",
      "text/plain": [
       "<Figure size 640x480 with 1 Axes>"
      ]
     },
     "metadata": {},
     "output_type": "display_data"
    },
    {
     "name": "stdout",
     "output_type": "stream",
     "text": [
      "Training Detector\n",
      "Training Generator\n",
      "\n"
     ]
    },
    {
     "data": {
      "image/png": "[encoded data removed]",
      "text/plain": [
       "<Figure size 640x480 with 1 Axes>"
      ]
     },
     "metadata": {},
     "output_type": "display_data"
    },
    {
     "name": "stdout",
     "output_type": "stream",
     "text": [
      "Training Detector\n",
      "Training Generator\n",
      "\n"
     ]
    },
    {
     "data": {
      "image/png": "[encoded data removed]",
      "text/plain": [
       "<Figure size 640x480 with 1 Axes>"
      ]
     },
     "metadata": {},
     "output_type": "display_data"
    },
    {
     "name": "stdout",
     "output_type": "stream",
     "text": [
      "Training Detector\n",
      "Training Generator\n",
      "\n"
     ]
    },
    {
     "data": {
      "image/png": "[encoded data removed]",
      "text/plain": [
       "<Figure size 640x480 with 1 Axes>"
      ]
     },
     "metadata": {},
     "output_type": "display_data"
    },
    {
     "name": "stdout",
     "output_type": "stream",
     "text": [
      "Training Detector\n",
      "Training Generator\n"
     ]
    },
    {
     "ename": "KeyboardInterrupt",
     "evalue": "",
     "output_type": "error",
     "traceback": [
      "\u001b[0;31m---------------------------------------------------------------------------\u001b[0m",
      "\u001b[0;31mKeyboardInterrupt\u001b[0m                         Traceback (most recent call last)",
      "\u001b[0;32m<ipython-input-31-7b79427e16da>\u001b[0m in \u001b[0;36m<cell line: 1>\u001b[0;34m()\u001b[0m\n\u001b[1;32m      7\u001b[0m   \u001b[0mgen_loss\u001b[0m\u001b[0;34m,\u001b[0m \u001b[0mcurrent_accuracy\u001b[0m \u001b[0;34m=\u001b[0m \u001b[0mtrain_generator\u001b[0m\u001b[0;34m(\u001b[0m \u001b[0mgenerator\u001b[0m\u001b[0;34m,\u001b[0m \u001b[0mdetector\u001b[0m\u001b[0;34m,\u001b[0m \u001b[0mgenerator_optimizer\u001b[0m\u001b[0;34m,\u001b[0m \u001b[0mbatch_size\u001b[0m\u001b[0;34m,\u001b[0m \u001b[0mtrain_x\u001b[0m\u001b[0;34m)\u001b[0m\u001b[0;34m\u001b[0m\u001b[0;34m\u001b[0m\u001b[0m\n\u001b[1;32m      8\u001b[0m   \u001b[0;32mwhile\u001b[0m \u001b[0mcurrent_accuracy\u001b[0m \u001b[0;34m<\u001b[0m \u001b[0;36m0.9\u001b[0m\u001b[0;34m:\u001b[0m\u001b[0;34m\u001b[0m\u001b[0;34m\u001b[0m\u001b[0m\n\u001b[0;32m----> 9\u001b[0;31m     \u001b[0mgen_loss\u001b[0m\u001b[0;34m,\u001b[0m \u001b[0mcurrent_accuracy\u001b[0m \u001b[0;34m=\u001b[0m \u001b[0mtrain_generator\u001b[0m\u001b[0;34m(\u001b[0m \u001b[0mgenerator\u001b[0m\u001b[0;34m,\u001b[0m \u001b[0mdetector\u001b[0m\u001b[0;34m,\u001b[0m \u001b[0mgenerator_optimizer\u001b[0m\u001b[0;34m,\u001b[0m \u001b[0mbatch_size\u001b[0m\u001b[0;34m,\u001b[0m \u001b[0mtrain_x\u001b[0m\u001b[0;34m)\u001b[0m\u001b[0;34m\u001b[0m\u001b[0;34m\u001b[0m\u001b[0m\n\u001b[0m\u001b[1;32m     10\u001b[0m   \u001b[0mprint\u001b[0m\u001b[0;34m(\u001b[0m\u001b[0;34m)\u001b[0m\u001b[0;34m\u001b[0m\u001b[0;34m\u001b[0m\u001b[0m\n\u001b[1;32m     11\u001b[0m \u001b[0;34m\u001b[0m\u001b[0m\n",
      "\u001b[0;32m<ipython-input-23-8641b248b2a5>\u001b[0m in \u001b[0;36mtrain_generator\u001b[0;34m(generator_model, discriminator_model, optimizer_g, batch_size, real_images)\u001b[0m\n\u001b[1;32m     12\u001b[0m \u001b[0;34m\u001b[0m\u001b[0m\n\u001b[1;32m     13\u001b[0m   \u001b[0mloss\u001b[0m\u001b[0;34m.\u001b[0m\u001b[0mbackward\u001b[0m\u001b[0;34m(\u001b[0m\u001b[0;34m)\u001b[0m\u001b[0;34m\u001b[0m\u001b[0;34m\u001b[0m\u001b[0m\n\u001b[0;32m---> 14\u001b[0;31m   \u001b[0moptimizer_g\u001b[0m\u001b[0;34m.\u001b[0m\u001b[0mstep\u001b[0m\u001b[0;34m(\u001b[0m\u001b[0;34m)\u001b[0m\u001b[0;34m\u001b[0m\u001b[0;34m\u001b[0m\u001b[0m\n\u001b[0m\u001b[1;32m     15\u001b[0m \u001b[0;34m\u001b[0m\u001b[0m\n\u001b[1;32m     16\u001b[0m   \u001b[0mcurrent_accuracy\u001b[0m \u001b[0;34m=\u001b[0m \u001b[0;34m(\u001b[0m \u001b[0mtorch\u001b[0m\u001b[0;34m.\u001b[0m\u001b[0msum\u001b[0m\u001b[0;34m(\u001b[0m \u001b[0mtorch\u001b[0m\u001b[0;34m.\u001b[0m\u001b[0mabs\u001b[0m\u001b[0;34m(\u001b[0m \u001b[0mpredictions\u001b[0m \u001b[0;34m-\u001b[0m \u001b[0my_batch\u001b[0m \u001b[0;34m)\u001b[0m \u001b[0;34m<\u001b[0m \u001b[0;36m0.5\u001b[0m \u001b[0;34m)\u001b[0m \u001b[0;34m/\u001b[0m \u001b[0;34m(\u001b[0m\u001b[0;36m2\u001b[0m \u001b[0;34m*\u001b[0m \u001b[0mbatch_size\u001b[0m\u001b[0;34m)\u001b[0m \u001b[0;34m)\u001b[0m\u001b[0;34m.\u001b[0m\u001b[0mitem\u001b[0m\u001b[0;34m(\u001b[0m\u001b[0;34m)\u001b[0m\u001b[0;34m\u001b[0m\u001b[0;34m\u001b[0m\u001b[0m\n",
      "\u001b[0;32m/usr/local/lib/python3.10/dist-packages/torch/optim/optimizer.py\u001b[0m in \u001b[0;36mwrapper\u001b[0;34m(*args, **kwargs)\u001b[0m\n\u001b[1;32m    383\u001b[0m                             )\n\u001b[1;32m    384\u001b[0m \u001b[0;34m\u001b[0m\u001b[0m\n\u001b[0;32m--> 385\u001b[0;31m                 \u001b[0mout\u001b[0m \u001b[0;34m=\u001b[0m \u001b[0mfunc\u001b[0m\u001b[0;34m(\u001b[0m\u001b[0;34m*\u001b[0m\u001b[0margs\u001b[0m\u001b[0;34m,\u001b[0m \u001b[0;34m**\u001b[0m\u001b[0mkwargs\u001b[0m\u001b[0;34m)\u001b[0m\u001b[0;34m\u001b[0m\u001b[0;34m\u001b[0m\u001b[0m\n\u001b[0m\u001b[1;32m    386\u001b[0m                 \u001b[0mself\u001b[0m\u001b[0;34m.\u001b[0m\u001b[0m_optimizer_step_code\u001b[0m\u001b[0;34m(\u001b[0m\u001b[0;34m)\u001b[0m\u001b[0;34m\u001b[0m\u001b[0;34m\u001b[0m\u001b[0m\n\u001b[1;32m    387\u001b[0m \u001b[0;34m\u001b[0m\u001b[0m\n",
      "\u001b[0;32m/usr/local/lib/python3.10/dist-packages/torch/optim/optimizer.py\u001b[0m in \u001b[0;36m_use_grad\u001b[0;34m(self, *args, **kwargs)\u001b[0m\n\u001b[1;32m     74\u001b[0m             \u001b[0mtorch\u001b[0m\u001b[0;34m.\u001b[0m\u001b[0mset_grad_enabled\u001b[0m\u001b[0;34m(\u001b[0m\u001b[0mself\u001b[0m\u001b[0;34m.\u001b[0m\u001b[0mdefaults\u001b[0m\u001b[0;34m[\u001b[0m\u001b[0;34m'differentiable'\u001b[0m\u001b[0;34m]\u001b[0m\u001b[0;34m)\u001b[0m\u001b[0;34m\u001b[0m\u001b[0;34m\u001b[0m\u001b[0m\n\u001b[1;32m     75\u001b[0m             \u001b[0mtorch\u001b[0m\u001b[0;34m.\u001b[0m\u001b[0m_dynamo\u001b[0m\u001b[0;34m.\u001b[0m\u001b[0mgraph_break\u001b[0m\u001b[0;34m(\u001b[0m\u001b[0;34m)\u001b[0m\u001b[0;34m\u001b[0m\u001b[0;34m\u001b[0m\u001b[0m\n\u001b[0;32m---> 76\u001b[0;31m             \u001b[0mret\u001b[0m \u001b[0;34m=\u001b[0m \u001b[0mfunc\u001b[0m\u001b[0;34m(\u001b[0m\u001b[0mself\u001b[0m\u001b[0;34m,\u001b[0m \u001b[0;34m*\u001b[0m\u001b[0margs\u001b[0m\u001b[0;34m,\u001b[0m \u001b[0;34m**\u001b[0m\u001b[0mkwargs\u001b[0m\u001b[0;34m)\u001b[0m\u001b[0;34m\u001b[0m\u001b[0;34m\u001b[0m\u001b[0m\n\u001b[0m\u001b[1;32m     77\u001b[0m         \u001b[0;32mfinally\u001b[0m\u001b[0;34m:\u001b[0m\u001b[0;34m\u001b[0m\u001b[0;34m\u001b[0m\u001b[0m\n\u001b[1;32m     78\u001b[0m             \u001b[0mtorch\u001b[0m\u001b[0;34m.\u001b[0m\u001b[0m_dynamo\u001b[0m\u001b[0;34m.\u001b[0m\u001b[0mgraph_break\u001b[0m\u001b[0;34m(\u001b[0m\u001b[0;34m)\u001b[0m\u001b[0;34m\u001b[0m\u001b[0;34m\u001b[0m\u001b[0m\n",
      "\u001b[0;32m/usr/local/lib/python3.10/dist-packages/torch/optim/adam.py\u001b[0m in \u001b[0;36mstep\u001b[0;34m(self, closure)\u001b[0m\n\u001b[1;32m    164\u001b[0m                 state_steps)\n\u001b[1;32m    165\u001b[0m \u001b[0;34m\u001b[0m\u001b[0m\n\u001b[0;32m--> 166\u001b[0;31m             adam(\n\u001b[0m\u001b[1;32m    167\u001b[0m                 \u001b[0mparams_with_grad\u001b[0m\u001b[0;34m,\u001b[0m\u001b[0;34m\u001b[0m\u001b[0;34m\u001b[0m\u001b[0m\n\u001b[1;32m    168\u001b[0m                 \u001b[0mgrads\u001b[0m\u001b[0;34m,\u001b[0m\u001b[0;34m\u001b[0m\u001b[0;34m\u001b[0m\u001b[0m\n",
      "\u001b[0;32m/usr/local/lib/python3.10/dist-packages/torch/optim/adam.py\u001b[0m in \u001b[0;36madam\u001b[0;34m(params, grads, exp_avgs, exp_avg_sqs, max_exp_avg_sqs, state_steps, foreach, capturable, differentiable, fused, grad_scale, found_inf, has_complex, amsgrad, beta1, beta2, lr, weight_decay, eps, maximize)\u001b[0m\n\u001b[1;32m    314\u001b[0m         \u001b[0mfunc\u001b[0m \u001b[0;34m=\u001b[0m \u001b[0m_single_tensor_adam\u001b[0m\u001b[0;34m\u001b[0m\u001b[0;34m\u001b[0m\u001b[0m\n\u001b[1;32m    315\u001b[0m \u001b[0;34m\u001b[0m\u001b[0m\n\u001b[0;32m--> 316\u001b[0;31m     func(params,\n\u001b[0m\u001b[1;32m    317\u001b[0m          \u001b[0mgrads\u001b[0m\u001b[0;34m,\u001b[0m\u001b[0;34m\u001b[0m\u001b[0;34m\u001b[0m\u001b[0m\n\u001b[1;32m    318\u001b[0m          \u001b[0mexp_avgs\u001b[0m\u001b[0;34m,\u001b[0m\u001b[0;34m\u001b[0m\u001b[0;34m\u001b[0m\u001b[0m\n",
      "\u001b[0;32m/usr/local/lib/python3.10/dist-packages/torch/optim/adam.py\u001b[0m in \u001b[0;36m_single_tensor_adam\u001b[0;34m(params, grads, exp_avgs, exp_avg_sqs, max_exp_avg_sqs, state_steps, grad_scale, found_inf, amsgrad, has_complex, beta1, beta2, lr, weight_decay, eps, maximize, capturable, differentiable)\u001b[0m\n\u001b[1;32m    378\u001b[0m \u001b[0;34m\u001b[0m\u001b[0m\n\u001b[1;32m    379\u001b[0m         \u001b[0;32mif\u001b[0m \u001b[0mweight_decay\u001b[0m \u001b[0;34m!=\u001b[0m \u001b[0;36m0\u001b[0m\u001b[0;34m:\u001b[0m\u001b[0;34m\u001b[0m\u001b[0;34m\u001b[0m\u001b[0m\n\u001b[0;32m--> 380\u001b[0;31m             \u001b[0mgrad\u001b[0m \u001b[0;34m=\u001b[0m \u001b[0mgrad\u001b[0m\u001b[0;34m.\u001b[0m\u001b[0madd\u001b[0m\u001b[0;34m(\u001b[0m\u001b[0mparam\u001b[0m\u001b[0;34m,\u001b[0m \u001b[0malpha\u001b[0m\u001b[0;34m=\u001b[0m\u001b[0mweight_decay\u001b[0m\u001b[0;34m)\u001b[0m\u001b[0;34m\u001b[0m\u001b[0;34m\u001b[0m\u001b[0m\n\u001b[0m\u001b[1;32m    381\u001b[0m \u001b[0;34m\u001b[0m\u001b[0m\n\u001b[1;32m    382\u001b[0m         \u001b[0;32mif\u001b[0m \u001b[0mtorch\u001b[0m\u001b[0;34m.\u001b[0m\u001b[0mis_complex\u001b[0m\u001b[0;34m(\u001b[0m\u001b[0mparam\u001b[0m\u001b[0;34m)\u001b[0m\u001b[0;34m:\u001b[0m\u001b[0;34m\u001b[0m\u001b[0;34m\u001b[0m\u001b[0m\n",
      "\u001b[0;31mKeyboardInterrupt\u001b[0m: "
     ]
    }
   ],
   "source": [
    "for i in range(100):\n",
    "  print(\"Training Detector\")\n",
    "  disc_loss, current_accuracy = train_discriminator( generator, detector, discriminator_optimizer, batch_size, train_x )\n",
    "  while current_accuracy < 0.9:\n",
    "    disc_loss, current_accuracy = train_discriminator( generator, detector, discriminator_optimizer, batch_size, train_x )\n",
    "  print(\"Training Generator\")\n",
    "  gen_loss, current_accuracy = train_generator( generator, detector, generator_optimizer, batch_size, train_x)\n",
    "  while current_accuracy < 0.9:\n",
    "    gen_loss, current_accuracy = train_generator( generator, detector, generator_optimizer, batch_size, train_x)\n",
    "  print()\n",
    "\n",
    "  random_seeds = torch.randn(1, 25)\n",
    "  images = generator( random_seeds ).detach().numpy()\n",
    "  example_image = images[0]\n",
    "\n",
    "  fig = plt.figure\n",
    "  plt.imshow(example_image, cmap='gray')\n",
    "  plt.show()"
   ]
  },
  {
   "cell_type": "code",
   "execution_count": null,
   "metadata": {
    "id": "6Ax12wJeoLoH"
   },
   "outputs": [],
   "source": []
  }
 ],
 "metadata": {
  "colab": {
   "provenance": []
  },
  "kernelspec": {
   "display_name": "Python 3 (ipykernel)",
   "language": "python",
   "name": "python3"
  },
  "language_info": {
   "codemirror_mode": {
    "name": "ipython",
    "version": 3
   },
   "file_extension": ".py",
   "mimetype": "text/x-python",
   "name": "python",
   "nbconvert_exporter": "python",
   "pygments_lexer": "ipython3",
   "version": "3.8.3"
  }
 },
 "nbformat": 4,
 "nbformat_minor": 4
}
