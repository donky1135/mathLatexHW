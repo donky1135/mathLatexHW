{
  "nbformat": 4,
  "nbformat_minor": 0,
  "metadata": {
    "colab": {
      "provenance": []
    },
    "kernelspec": {
      "name": "python3",
      "display_name": "Python 3"
    },
    "language_info": {
      "name": "python"
    }
  },
  "cells": [
    {
      "cell_type": "markdown",
      "source": [
        "In this file, we're going to write a neural network that processes an image by looking at it one row at a time. As such, we can literally watch its understanding change as we process more rows."
      ],
      "metadata": {
        "id": "UXD0X0JnddJJ"
      }
    },
    {
      "cell_type": "code",
      "execution_count": 49,
      "metadata": {
        "colab": {
          "base_uri": "https://localhost:8080/",
          "height": 239
        },
        "id": "d1CN7pCtPptk",
        "outputId": "60cbe6d5-9fa4-4c73-c32c-c16adcebabfa"
      },
      "outputs": [
        {
          "output_type": "stream",
          "name": "stdout",
          "text": [
            "Training Data Inputs: torch.Size([60000, 28, 28])\n",
            "Training Data Outputs: torch.Size([60000])\n"
          ]
        },
        {
          "output_type": "display_data",
          "data": {
            "text/plain": [
              "<Figure size 640x480 with 1 Axes>"
            ],
            "image/png": "[encoded data removed]"
          },
          "metadata": {}
        },
        {
          "output_type": "stream",
          "name": "stdout",
          "text": [
            "Label of Example Image: tensor(5)\n"
          ]
        }
      ],
      "source": [
        "import numpy as np\n",
        "import torch\n",
        "import torchvision\n",
        "import torchvision.datasets as datasets\n",
        "from torchvision.transforms import ToTensor\n",
        "from torch import nn\n",
        "import random\n",
        "import matplotlib.pyplot as plt\n",
        "import torch.optim as optim\n",
        "\n",
        "\n",
        "mnist_trainset = datasets.MNIST(root='./data', train=True, download=True, transform=ToTensor())\n",
        "mnist_testset = datasets.MNIST(root='./data', train=False, download=True, transform=ToTensor())\n",
        "\n",
        "train_x = mnist_trainset.data / 256.0 - 0.5 # Scale values between -0.5 and 0.5\n",
        "train_y = mnist_trainset.targets\n",
        "\n",
        "test_x = mnist_testset.data / 256.0 - 0.5\n",
        "test_y = mnist_testset.targets\n",
        "\n",
        "print(\"Training Data Inputs:\", train_x.shape )\n",
        "print(\"Training Data Outputs:\", train_y.shape )\n",
        "\n",
        "example_image = train_x[0]\n",
        "\n",
        "fig = plt.figure\n",
        "plt.imshow(example_image[0:7,:], cmap='gray')\n",
        "plt.show()\n",
        "\n",
        "print(\"Label of Example Image:\", train_y[0])\n",
        "\n",
        "TRAIN_N = train_x.shape[0]\n",
        "TEST_N = test_x.shape[0]\n",
        "\n",
        "BATCH_SIZE = 256\n",
        "\n",
        "def get_batch(x, y, batch_size, row_count):\n",
        "  n = x.shape[0]\n",
        "\n",
        "  batch_indices = random.sample( [ i for i in range(n) ], k = batch_size )\n",
        "\n",
        "  x_batch = x[ batch_indices ]\n",
        "  y_batch = y[ batch_indices ]\n",
        "\n",
        "  return x_batch[:, 0:row_count, :], y_batch"
      ]
    },
    {
      "cell_type": "markdown",
      "source": [
        "Note that in get_batch, we now specify how many rows of the image we want to view, and sample only these rows for each grabbed image. In the above, we are looking at the top quarter of one of the images - hard to judge what it is, except perhaps that it is unlikely to be a 1?"
      ],
      "metadata": {
        "id": "dLPYKujSdlvF"
      }
    },
    {
      "cell_type": "code",
      "source": [
        "x_batch, y_batch = get_batch(train_x, train_y, BATCH_SIZE, row_count = 10)"
      ],
      "metadata": {
        "id": "6Nwie4WjPutW"
      },
      "execution_count": 50,
      "outputs": []
    },
    {
      "cell_type": "code",
      "source": [
        "x_batch.shape"
      ],
      "metadata": {
        "colab": {
          "base_uri": "https://localhost:8080/"
        },
        "id": "uSQDYY2ZQVJu",
        "outputId": "b1bd26b4-e76a-42d2-b567-03598d87696e"
      },
      "execution_count": 51,
      "outputs": [
        {
          "output_type": "execute_result",
          "data": {
            "text/plain": [
              "torch.Size([256, 10, 28])"
            ]
          },
          "metadata": {},
          "execution_count": 51
        }
      ]
    },
    {
      "cell_type": "code",
      "source": [
        "y_batch.shape"
      ],
      "metadata": {
        "colab": {
          "base_uri": "https://localhost:8080/"
        },
        "id": "v9l0bkAmQXlj",
        "outputId": "b1be911e-dfb3-463b-c418-29616588b0c9"
      },
      "execution_count": 52,
      "outputs": [
        {
          "output_type": "execute_result",
          "data": {
            "text/plain": [
              "torch.Size([256])"
            ]
          },
          "metadata": {},
          "execution_count": 52
        }
      ]
    },
    {
      "cell_type": "code",
      "source": [
        "class SeqMNIST_Model(nn.Module):\n",
        "  def __init__(self):\n",
        "    super(SeqMNIST_Model, self).__init__()\n",
        "\n",
        "    self.current_row_layer = torch.nn.Linear( in_features = 28, out_features = 50, bias = True )\n",
        "    # This linear layer stores a weight and bias matrix to convert a row of 28 pixels\n",
        "    # into a vector of 50 features\n",
        "\n",
        "    self.state_layer = torch.nn.Linear( in_features = 50, out_features = 50, bias = False )\n",
        "    # This will store a weight matrix to convert a previous 'state' vector of 50 features\n",
        "    # to the 'next' state of 50 features.\n",
        "\n",
        "    # Idea here:\n",
        "    # current_state = (state_weights).prev_state + (current_row_weights).current_row + (bias)\n",
        "\n",
        "    # And we loop over all rows\n",
        "\n",
        "    # Note that the state layer doesn't need a bias since the current row layer is providing the bias.\n",
        "\n",
        "    self.final_logit_layer = torch.nn.Linear( in_features = 50, out_features = 10, bias = True )\n",
        "    # The processing of the network so far will summarize all the rows into a 50-dimensional vector\n",
        "    # of features - this converts it to a final 10 logits for classification\n",
        "\n",
        "  def forward(self, input_tensor):\n",
        "    row_count = input_tensor.shape[1]\n",
        "\n",
        "    # This specifies how many rows of each partial image we are seeing\n",
        "\n",
        "    current_state = self.current_row_layer( input_tensor[:,0,:] )\n",
        "    current_state = torch.nn.Sigmoid()( current_state )\n",
        "\n",
        "    # Process the first row of each image via the current row matrix\n",
        "\n",
        "    for i in range(1, row_count):\n",
        "      # We need to sequentially process each remaining row in each image, based on the already processed rows.\n",
        "\n",
        "      process_next_row = self.current_row_layer( input_tensor[:,i,:] )\n",
        "      #  (current_row_weights).current_row + bias\n",
        "\n",
        "      process_prev_state = self.state_layer( current_state )\n",
        "      # next_state = (state_weights).current_state\n",
        "\n",
        "      current_state = process_next_row + process_prev_state\n",
        "      # Combine the two -> information from newest row + information from previous rows\n",
        "\n",
        "      current_state = torch.nn.Sigmoid()( current_state )\n",
        "      # Apply a non-linearity, get the next state\n",
        "\n",
        "    # Once we arrive here, all rows have been processed for each image,\n",
        "    # We have produced a 50-dim vector for each image summarizing it\n",
        "    # We then use that vector of features as the basis for classification.\n",
        "\n",
        "    output = self.final_logit_layer( current_state )\n",
        "    return output"
      ],
      "metadata": {
        "id": "4bZG7-4HQZgy"
      },
      "execution_count": 53,
      "outputs": []
    },
    {
      "cell_type": "code",
      "source": [
        "model = SeqMNIST_Model()"
      ],
      "metadata": {
        "id": "C_KbdOcxTT52"
      },
      "execution_count": 54,
      "outputs": []
    },
    {
      "cell_type": "code",
      "source": [
        "output = model( x_batch )"
      ],
      "metadata": {
        "id": "oH2fWafrTXk5"
      },
      "execution_count": 55,
      "outputs": []
    },
    {
      "cell_type": "code",
      "source": [
        "output.shape"
      ],
      "metadata": {
        "colab": {
          "base_uri": "https://localhost:8080/"
        },
        "id": "lsVMpoZhTZk3",
        "outputId": "5347543b-48b5-45f6-b1c8-ab82bc6f252e"
      },
      "execution_count": 56,
      "outputs": [
        {
          "output_type": "execute_result",
          "data": {
            "text/plain": [
              "torch.Size([256, 10])"
            ]
          },
          "metadata": {},
          "execution_count": 56
        }
      ]
    },
    {
      "cell_type": "markdown",
      "source": [
        "So while the forward pass is doing something more interesting (looping a variable number of times depending on the input), the final result remains a vector of 10 logits, one for each class."
      ],
      "metadata": {
        "id": "GYoXXAIZfLtx"
      }
    },
    {
      "cell_type": "code",
      "source": [
        "def confusion_matrix( model, x, y ):\n",
        "  total_ids = 0\n",
        "  identification_counts = np.zeros( shape = (10,10), dtype = np.int32 )\n",
        "\n",
        "  logits = model( x )\n",
        "  predicted_classes = torch.argmax( logits, dim = 1 )\n",
        "\n",
        "  n = x.shape[0]\n",
        "\n",
        "  for i in range(n):\n",
        "    actual_class = int( y[i].item() )\n",
        "    predicted_class = predicted_classes[i].item()\n",
        "    identification_counts[actual_class, predicted_class] += 1\n",
        "    total_ids += 1\n",
        "\n",
        "  correct_ids = 0\n",
        "  for i in range(10):\n",
        "    correct_ids += identification_counts[i, i]\n",
        "\n",
        "  return identification_counts, correct_ids / total_ids\n",
        "\n",
        "  # Note I've added a bit here so that it not only returns the confusion matrix\n",
        "  # but also the accuracy over all classifications"
      ],
      "metadata": {
        "id": "0Mpt3HD3Ta6M"
      },
      "execution_count": 57,
      "outputs": []
    },
    {
      "cell_type": "code",
      "source": [
        "confusion_matrix( model, test_x, test_y )"
      ],
      "metadata": {
        "colab": {
          "base_uri": "https://localhost:8080/"
        },
        "id": "fGh4k7DjUHMw",
        "outputId": "85830096-801c-45ca-8d2a-536989562b3e"
      },
      "execution_count": 58,
      "outputs": [
        {
          "output_type": "execute_result",
          "data": {
            "text/plain": [
              "(array([[   0,    0,    0,    0,    0,    0,  980,    0,    0,    0],\n",
              "        [   0,    0,    0,    0,    0,    0, 1135,    0,    0,    0],\n",
              "        [   0,    0,    0,    0,    0,    0, 1032,    0,    0,    0],\n",
              "        [   0,    0,    0,    0,    0,    0, 1010,    0,    0,    0],\n",
              "        [   0,    0,    0,    0,    0,    0,  982,    0,    0,    0],\n",
              "        [   0,    0,    0,    0,    0,    0,  892,    0,    0,    0],\n",
              "        [   0,    0,    0,    0,    0,    0,  958,    0,    0,    0],\n",
              "        [   0,    0,    0,    0,    0,    0, 1028,    0,    0,    0],\n",
              "        [   0,    0,    0,    0,    0,    0,  974,    0,    0,    0],\n",
              "        [   0,    0,    0,    0,    0,    0, 1009,    0,    0,    0]],\n",
              "       dtype=int32),\n",
              " 0.0958)"
            ]
          },
          "metadata": {},
          "execution_count": 58
        }
      ]
    },
    {
      "cell_type": "markdown",
      "source": [
        "The result should pretty much always be ~10% for a randomly intialized model, amounting to basically pure random guessing. In general the confusion matrix indicates all the images are being classified as the same class, so only images in that class are being correctly classified."
      ],
      "metadata": {
        "id": "CEMgFpO_fZ1v"
      }
    },
    {
      "cell_type": "code",
      "source": [
        "test_accuracy = [ confusion_matrix( model, test_x[:, 0:k, :], test_y )[1] for k in range(1,28+1) ]\n",
        "train_accuracy = [ confusion_matrix( model, train_x[:, 0:k, :], train_y )[1] for k in range(1,28+1) ]"
      ],
      "metadata": {
        "id": "-55qI4w_UK5T"
      },
      "execution_count": 59,
      "outputs": []
    },
    {
      "cell_type": "markdown",
      "source": [
        "In the above, we can generate the training and testing accuracy /as a function of k/, and see how accuracy shifts as we see more of the image. Note that since the network is not yet trained, we don't expect to see much."
      ],
      "metadata": {
        "id": "qr8gvRWyflkV"
      }
    },
    {
      "cell_type": "code",
      "source": [
        "fig, ax = plt.subplots()\n",
        "ax.scatter( [k for k in range(1,28+1)], test_accuracy )\n",
        "ax.scatter( [k for k in range(1,28+1)], train_accuracy )\n",
        "plt.show()"
      ],
      "metadata": {
        "colab": {
          "base_uri": "https://localhost:8080/",
          "height": 430
        },
        "id": "m_eo0nFbUyKq",
        "outputId": "bf63acbc-d2a6-4831-e1e1-02b61f431264"
      },
      "execution_count": 60,
      "outputs": [
        {
          "output_type": "display_data",
          "data": {
            "text/plain": [
              "<Figure size 640x480 with 1 Axes>"
            ],
            "image/png": "[encoded data removed]"
          },
          "metadata": {}
        }
      ]
    },
    {
      "cell_type": "markdown",
      "source": [
        "Note that testing and training accuracies are orbitting around 10%, which amounts to what you would expect with pure random guessing."
      ],
      "metadata": {
        "id": "nNLHa_g9VQ0P"
      }
    },
    {
      "cell_type": "code",
      "source": [
        "loss_function = torch.nn.CrossEntropyLoss()"
      ],
      "metadata": {
        "id": "PyrDJxLzVN7R"
      },
      "execution_count": 61,
      "outputs": []
    },
    {
      "cell_type": "code",
      "source": [
        "optimizer = optim.Adam( model.parameters(), lr = 0.001 )"
      ],
      "metadata": {
        "id": "DL_fEk-aVbLp"
      },
      "execution_count": 62,
      "outputs": []
    },
    {
      "cell_type": "code",
      "source": [
        "for epoch in range(10):\n",
        "  loss_total = 0\n",
        "  for batch in range( TRAIN_N // BATCH_SIZE ):\n",
        "    row_count = random.randint(1,28)\n",
        "    # A key step is right here\n",
        "    # We select a random number of rows\n",
        "    # and get a batch of that many rows for each selected image\n",
        "\n",
        "    # Each training batch is therefore training the network to be better\n",
        "    # at identifying images on different numbers of available rows.\n",
        "\n",
        "    x_batch, y_batch = get_batch(train_x, train_y, BATCH_SIZE, row_count)\n",
        "\n",
        "    optimizer.zero_grad()\n",
        "\n",
        "    logits = model( x_batch )\n",
        "    loss = loss_function( logits, y_batch )\n",
        "\n",
        "    loss.backward()\n",
        "\n",
        "    optimizer.step()\n",
        "\n",
        "    loss_total += loss.item()\n",
        "\n",
        "  print(\"Current Average Loss:\", loss_total / ( TRAIN_N // BATCH_SIZE ) )"
      ],
      "metadata": {
        "colab": {
          "base_uri": "https://localhost:8080/"
        },
        "id": "nNnImf8DVdyN",
        "outputId": "87f9beb2-0d21-4c46-e68d-9eadd5ec36b5"
      },
      "execution_count": 63,
      "outputs": [
        {
          "output_type": "stream",
          "name": "stdout",
          "text": [
            "Current Average Loss: 2.2904963778634357\n",
            "Current Average Loss: 2.20664320847927\n",
            "Current Average Loss: 2.1570101293743167\n",
            "Current Average Loss: 2.1247555542195964\n",
            "Current Average Loss: 2.0909431220119834\n",
            "Current Average Loss: 2.0564221907884646\n",
            "Current Average Loss: 2.057978607650496\n",
            "Current Average Loss: 2.037316151154347\n",
            "Current Average Loss: 2.034353177771609\n",
            "Current Average Loss: 2.016072715449537\n"
          ]
        }
      ]
    },
    {
      "cell_type": "code",
      "source": [
        "test_accuracy = [ confusion_matrix( model, test_x[:, 0:k, :], test_y )[1] for k in range(1,28+1) ]\n",
        "train_accuracy = [ confusion_matrix( model, train_x[:, 0:k, :], train_y )[1] for k in range(1,28+1) ]\n",
        "\n",
        "fig, ax = plt.subplots()\n",
        "ax.scatter( [k for k in range(1,28+1)], test_accuracy )\n",
        "ax.scatter( [k for k in range(1,28+1)], train_accuracy )\n",
        "plt.show()"
      ],
      "metadata": {
        "colab": {
          "base_uri": "https://localhost:8080/",
          "height": 430
        },
        "id": "wRe6FuFsWUNy",
        "outputId": "68da9896-031f-419b-9718-82cfa70ce355"
      },
      "execution_count": 65,
      "outputs": [
        {
          "output_type": "display_data",
          "data": {
            "text/plain": [
              "<Figure size 640x480 with 1 Axes>"
            ],
            "image/png": "[encoded data removed]"
          },
          "metadata": {}
        }
      ]
    },
    {
      "cell_type": "markdown",
      "source": [
        "So we see from this that learning has happened - the accuracy in both training and testing has increased, and goes up with k - the more rows that you look at, the more confident you can be in the result. We are still only at about 30% accuracy, but I think being 3x better than guessing looking at only half the image isn't bad. But we can do better."
      ],
      "metadata": {
        "id": "rswl6FBNgjzz"
      }
    },
    {
      "cell_type": "code",
      "source": [
        "optimizer = optim.Adam( model.parameters(), lr = 0.01 )"
      ],
      "metadata": {
        "id": "KNUpz4pbXEzF"
      },
      "execution_count": 66,
      "outputs": []
    },
    {
      "cell_type": "markdown",
      "source": [
        "Increasing the stepsize a little, to speed up convergence."
      ],
      "metadata": {
        "id": "InweKPFghXT_"
      }
    },
    {
      "cell_type": "markdown",
      "source": [
        "The following 50-epoch training loop runs in about 3 minutes when I am executing this. Adjust as you see fit."
      ],
      "metadata": {
        "id": "Encm5kf8hd4j"
      }
    },
    {
      "cell_type": "code",
      "source": [
        "for epoch in range(50):\n",
        "  loss_total = 0\n",
        "  for batch in range( TRAIN_N // BATCH_SIZE ):\n",
        "    row_count = random.randint(1,28)\n",
        "    x_batch, y_batch = get_batch(train_x, train_y, BATCH_SIZE, row_count)\n",
        "\n",
        "    optimizer.zero_grad()\n",
        "\n",
        "    logits = model( x_batch )\n",
        "    loss = loss_function( logits, y_batch )\n",
        "\n",
        "    loss.backward()\n",
        "\n",
        "    optimizer.step()\n",
        "\n",
        "    loss_total += loss.item()\n",
        "\n",
        "  print(\"Current Average Loss:\", loss_total / ( TRAIN_N // BATCH_SIZE ) )"
      ],
      "metadata": {
        "colab": {
          "base_uri": "https://localhost:8080/"
        },
        "id": "QqJcMLvuXZ6I",
        "outputId": "ecfd98e3-fc28-4c0c-9f30-b30633bc62c3"
      },
      "execution_count": 67,
      "outputs": [
        {
          "output_type": "stream",
          "name": "stdout",
          "text": [
            "Current Average Loss: 2.129645191706144\n",
            "Current Average Loss: 2.046844145681104\n",
            "Current Average Loss: 2.0006028704154186\n",
            "Current Average Loss: 1.8815112745659983\n",
            "Current Average Loss: 1.850933884963011\n",
            "Current Average Loss: 1.7149536090019422\n",
            "Current Average Loss: 1.667929528105972\n",
            "Current Average Loss: 1.521162090393213\n",
            "Current Average Loss: 1.556818131198231\n",
            "Current Average Loss: 1.3795732654567459\n",
            "Current Average Loss: 1.2290285216946888\n",
            "Current Average Loss: 1.3771468482465825\n",
            "Current Average Loss: 1.2043823971707597\n",
            "Current Average Loss: 1.2652165512753348\n",
            "Current Average Loss: 1.2473698393401937\n",
            "Current Average Loss: 1.9019818086909432\n",
            "Current Average Loss: 1.459765636258655\n",
            "Current Average Loss: 1.2987045648261013\n",
            "Current Average Loss: 1.1272000038725698\n",
            "Current Average Loss: 1.3385697008452864\n",
            "Current Average Loss: 2.202044032323055\n",
            "Current Average Loss: 1.74314553462542\n",
            "Current Average Loss: 1.660422410720434\n",
            "Current Average Loss: 1.4564868736470866\n",
            "Current Average Loss: 1.712648525961444\n",
            "Current Average Loss: 1.7360527352390127\n",
            "Current Average Loss: 1.553883622854184\n",
            "Current Average Loss: 1.5387186038697886\n",
            "Current Average Loss: 1.4174664152993097\n",
            "Current Average Loss: 1.549320857749026\n",
            "Current Average Loss: 1.5114913862994594\n",
            "Current Average Loss: 1.333298986029421\n",
            "Current Average Loss: 1.2710836152745109\n",
            "Current Average Loss: 1.3243833642739515\n",
            "Current Average Loss: 1.2414041311822386\n",
            "Current Average Loss: 1.4404460568713326\n",
            "Current Average Loss: 1.683460116895855\n",
            "Current Average Loss: 1.4917794285166976\n",
            "Current Average Loss: 1.3725608345280347\n",
            "Current Average Loss: 1.4225681574426146\n",
            "Current Average Loss: 1.3784988744136615\n",
            "Current Average Loss: 1.3643796627338116\n",
            "Current Average Loss: 1.534248844680623\n",
            "Current Average Loss: 1.4007720784244375\n",
            "Current Average Loss: 1.2979592754800096\n",
            "Current Average Loss: 1.3161196894625313\n",
            "Current Average Loss: 1.3667272352255309\n",
            "Current Average Loss: 1.465068069533405\n",
            "Current Average Loss: 1.4131560766289377\n",
            "Current Average Loss: 1.3376575336497054\n"
          ]
        }
      ]
    },
    {
      "cell_type": "code",
      "source": [
        "test_accuracy = [ confusion_matrix( model, test_x[:, 0:k, :], test_y )[1] for k in range(1,28+1) ]\n",
        "train_accuracy = [ confusion_matrix( model, train_x[:, 0:k, :], train_y )[1] for k in range(1,28+1) ]\n",
        "\n",
        "fig, ax = plt.subplots()\n",
        "ax.scatter( [k for k in range(1,28+1)], test_accuracy )\n",
        "ax.scatter( [k for k in range(1,28+1)], train_accuracy )\n",
        "plt.show()"
      ],
      "metadata": {
        "colab": {
          "base_uri": "https://localhost:8080/",
          "height": 430
        },
        "id": "JXa47jsdXcOw",
        "outputId": "02e6d8f7-e00d-4327-d19c-053f368cbaf4"
      },
      "execution_count": 68,
      "outputs": [
        {
          "output_type": "display_data",
          "data": {
            "text/plain": [
              "<Figure size 640x480 with 1 Axes>"
            ],
            "image/png": "[encoded data removed]"
          },
          "metadata": {}
        }
      ]
    },
    {
      "cell_type": "markdown",
      "source": [
        "Note that the above indicates we are getting like 70% accuracy just based on only seeing the first 14 rows, i.e., half the image."
      ],
      "metadata": {
        "id": "-R4pyTBPhwhY"
      }
    },
    {
      "cell_type": "markdown",
      "source": [
        "In what follows, I essentially do the same thing, except using a built in RNN layer."
      ],
      "metadata": {
        "id": "amXNdtf3iGrx"
      }
    },
    {
      "cell_type": "code",
      "source": [
        "class RNN_MNIST_Model(nn.Module):\n",
        "  def __init__(self):\n",
        "    super(RNN_MNIST_Model, self).__init__()\n",
        "\n",
        "    self.rnn = torch.nn.RNN(input_size = 28, hidden_size = 50, bias=True, batch_first = True )\n",
        "\n",
        "    # This specifies that the input sequence will be vectors of size 28, i.e., each row of the image is 28 pixels\n",
        "    # The hidden size = 50 specifies that the tracked internal state will be of 50 features.\n",
        "    # Batch_first indicates that when input is received, it is of the form (batch_size, sequence_length, features)\n",
        "\n",
        "    # The RNN object defaults to tanh as the internal non-linearity\n",
        "    # When called, it will return two things:\n",
        "    #   b) the 'final state' of each data point in the batch\n",
        "    #   a) the entire sequence of states when processing each data point in the batch\n",
        "\n",
        "    # This functionality of returning the entire processed sequence rather than the final state by itself\n",
        "    # Is useful if you want to process that sequence via another RNN, stacking them\n",
        "\n",
        "    self.final_logit_layer = torch.nn.Linear( in_features = 50, out_features = 10, bias = True )\n",
        "\n",
        "    # For converting the final result to 10 logits for classification\n",
        "\n",
        "  def forward(self, input_tensor, verbose = False):\n",
        "\n",
        "    seq_output, last_states = self.rnn( input_tensor )\n",
        "    # seq_output here will be the entire sequence of states produced for each data point\n",
        "    # last_states will correspond to the last entry in seq_output for each data point\n",
        "    # it's just nice to have it explicitly available\n",
        "\n",
        "    if verbose:\n",
        "      print(\"Sequence Output Shape:\", seq_output.shape )\n",
        "      print(\"Last States:\", last_states.shape)\n",
        "\n",
        "    output = last_states[0]\n",
        "    # For this, we only want the last states\n",
        "\n",
        "    if verbose:\n",
        "      print(\"Taking Last States:\", output.shape )\n",
        "    output = self.final_logit_layer( output )\n",
        "    if verbose:\n",
        "      print(\"Final Output Shape:\", output.shape)\n",
        "    return output\n",
        "\n",
        "rnn_model = RNN_MNIST_Model()\n",
        "output = rnn_model( train_x[:, 0:14, :], verbose = True )\n",
        "output.shape"
      ],
      "metadata": {
        "colab": {
          "base_uri": "https://localhost:8080/"
        },
        "id": "xkdtmKcFYc7M",
        "outputId": "0d1e9f67-9230-4241-8faf-80226e07a718"
      },
      "execution_count": 69,
      "outputs": [
        {
          "output_type": "stream",
          "name": "stdout",
          "text": [
            "Sequence Output Shape: torch.Size([60000, 14, 50])\n",
            "Last States: torch.Size([1, 60000, 50])\n",
            "Taking Last States: torch.Size([60000, 50])\n",
            "Final Output Shape: torch.Size([60000, 10])\n"
          ]
        },
        {
          "output_type": "execute_result",
          "data": {
            "text/plain": [
              "torch.Size([60000, 10])"
            ]
          },
          "metadata": {},
          "execution_count": 69
        }
      ]
    },
    {
      "cell_type": "code",
      "source": [
        "rnn_optimizer = optim.Adam( rnn_model.parameters(), lr = 0.001 )"
      ],
      "metadata": {
        "id": "whpBY0LGZgrA"
      },
      "execution_count": 70,
      "outputs": []
    },
    {
      "cell_type": "code",
      "source": [
        "for epoch in range(10):\n",
        "  loss_total = 0\n",
        "  for batch in range( TRAIN_N // BATCH_SIZE ):\n",
        "    row_count = random.randint(1,28)\n",
        "    x_batch, y_batch = get_batch(train_x, train_y, BATCH_SIZE, row_count)\n",
        "\n",
        "    rnn_optimizer.zero_grad()\n",
        "\n",
        "    logits = rnn_model( x_batch )\n",
        "    loss = loss_function( logits, y_batch )\n",
        "\n",
        "    loss.backward()\n",
        "\n",
        "    rnn_optimizer.step()\n",
        "\n",
        "    loss_total += loss.item()\n",
        "\n",
        "  print(\"Current Average Loss:\", loss_total / ( TRAIN_N // BATCH_SIZE ) )"
      ],
      "metadata": {
        "colab": {
          "base_uri": "https://localhost:8080/"
        },
        "id": "M6LhsCHQbBD_",
        "outputId": "531e5cef-9674-4f34-f5a3-b89b6c44b091"
      },
      "execution_count": 71,
      "outputs": [
        {
          "output_type": "stream",
          "name": "stdout",
          "text": [
            "Current Average Loss: 2.1374202396115685\n",
            "Current Average Loss: 2.0084653196171818\n",
            "Current Average Loss: 1.8647250935562656\n",
            "Current Average Loss: 1.749963986567962\n",
            "Current Average Loss: 1.7439495095839868\n",
            "Current Average Loss: 1.601391065833915\n",
            "Current Average Loss: 1.5265983424635015\n",
            "Current Average Loss: 1.5586170398781443\n",
            "Current Average Loss: 1.3348514180407565\n",
            "Current Average Loss: 1.395906060679346\n"
          ]
        }
      ]
    },
    {
      "cell_type": "code",
      "source": [
        "test_accuracy = [ confusion_matrix( rnn_model, test_x[:, 0:k, :], test_y )[1] for k in range(1,28+1) ]\n",
        "train_accuracy = [ confusion_matrix( rnn_model, train_x[:, 0:k, :], train_y )[1] for k in range(1,28+1) ]\n",
        "\n",
        "fig, ax = plt.subplots()\n",
        "ax.scatter( [k for k in range(1,28+1)], test_accuracy )\n",
        "ax.scatter( [k for k in range(1,28+1)], train_accuracy )\n",
        "plt.show()"
      ],
      "metadata": {
        "colab": {
          "base_uri": "https://localhost:8080/",
          "height": 432
        },
        "id": "yzKEWd9QbF8m",
        "outputId": "7337d4bb-9298-46f9-de1b-a7aa38040048"
      },
      "execution_count": 74,
      "outputs": [
        {
          "output_type": "display_data",
          "data": {
            "text/plain": [
              "<Figure size 640x480 with 1 Axes>"
            ],
            "image/png": "[encoded data removed]"
          },
          "metadata": {}
        }
      ]
    },
    {
      "cell_type": "markdown",
      "source": [
        "Similar effect as before. Any distinction is due to differences under the hood, such as using tanh, etc."
      ],
      "metadata": {
        "id": "Cl9hlRjUjupN"
      }
    },
    {
      "cell_type": "code",
      "source": [
        "for epoch in range(10):\n",
        "  loss_total = 0\n",
        "  for batch in range( TRAIN_N // BATCH_SIZE ):\n",
        "    row_count = random.randint(1,28)\n",
        "    x_batch, y_batch = get_batch(train_x, train_y, BATCH_SIZE, row_count)\n",
        "\n",
        "    rnn_optimizer.zero_grad()\n",
        "\n",
        "    logits = rnn_model( x_batch )\n",
        "    loss = loss_function( logits, y_batch )\n",
        "\n",
        "    loss.backward()\n",
        "\n",
        "    rnn_optimizer.step()\n",
        "\n",
        "    loss_total += loss.item()\n",
        "\n",
        "  print(\"Current Average Loss:\", loss_total / ( TRAIN_N // BATCH_SIZE ) )"
      ],
      "metadata": {
        "colab": {
          "base_uri": "https://localhost:8080/"
        },
        "id": "v_1IDthbdOZF",
        "outputId": "b6ed5a49-6d23-4862-e463-27e9b8e87e91"
      },
      "execution_count": 73,
      "outputs": [
        {
          "output_type": "stream",
          "name": "stdout",
          "text": [
            "Current Average Loss: 1.2835514321286454\n",
            "Current Average Loss: 1.183632694503181\n",
            "Current Average Loss: 1.2190142126164885\n",
            "Current Average Loss: 1.1641018184331746\n",
            "Current Average Loss: 1.1814262951031709\n",
            "Current Average Loss: 1.1302146628881111\n",
            "Current Average Loss: 1.1464761168274105\n",
            "Current Average Loss: 1.117502078286603\n",
            "Current Average Loss: 1.0838702051048605\n",
            "Current Average Loss: 0.9873874928706732\n"
          ]
        }
      ]
    },
    {
      "cell_type": "code",
      "source": [
        "test_accuracy = [ confusion_matrix( rnn_model, test_x[:, 0:k, :], test_y )[1] for k in range(1,28+1) ]\n",
        "train_accuracy = [ confusion_matrix( rnn_model, train_x[:, 0:k, :], train_y )[1] for k in range(1,28+1) ]\n",
        "\n",
        "fig, ax = plt.subplots()\n",
        "ax.scatter( [k for k in range(1,28+1)], test_accuracy )\n",
        "ax.scatter( [k for k in range(1,28+1)], train_accuracy )\n",
        "plt.show()"
      ],
      "metadata": {
        "colab": {
          "base_uri": "https://localhost:8080/",
          "height": 432
        },
        "id": "zLdGGYYtj5NE",
        "outputId": "b9448b03-b33b-4084-d036-ee3b83877d47"
      },
      "execution_count": 75,
      "outputs": [
        {
          "output_type": "display_data",
          "data": {
            "text/plain": [
              "<Figure size 640x480 with 1 Axes>"
            ],
            "image/png": "[encoded data removed]"
          },
          "metadata": {}
        }
      ]
    },
    {
      "cell_type": "markdown",
      "source": [
        "Incredible. Show stopping.\n",
        "\n",
        "One thing to potentially ask them about:\n",
        "\n",
        "Why does the accuracy tend to drop off towards the end? I think that since the last rows are usually blank / empty, this represents the network 'forgetting' what it's already seen.\n",
        "\n",
        "Last thing I'll note here, might be worth walking them through:\n",
        "\n",
        "https://pytorch.org/docs/stable/generated/torch.nn.RNN.html\n",
        "\n",
        "In particular, noting that there are default options for a) implementing dropout within the RNN layer, and b) stacking multiple RNNs on top of each other (processing the sequence of processed states from the first layer, for instance)."
      ],
      "metadata": {
        "id": "sIoqB8pfkt27"
      }
    },
    {
      "cell_type": "code",
      "source": [],
      "metadata": {
        "id": "9UeC8ahxkQMT"
      },
      "execution_count": null,
      "outputs": []
    }
  ]
}